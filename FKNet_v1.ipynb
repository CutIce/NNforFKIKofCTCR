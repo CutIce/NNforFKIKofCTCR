{
 "cells": [
  {
   "cell_type": "markdown",
   "id": "4308ca42",
   "metadata": {},
   "source": [
    "### Import Packages"
   ]
  },
  {
   "cell_type": "code",
   "execution_count": 9,
   "id": "ecd790bb",
   "metadata": {},
   "outputs": [
    {
     "name": "stdout",
     "output_type": "stream",
     "text": [
      "1.8.0+cu111\n"
     ]
    }
   ],
   "source": [
    "%matplotlib inline\n",
    "\n",
    "import torch\n",
    "import torch.nn as nn\n",
    "from torch.utils.data import Dataset, DataLoader, random_split\n",
    "from torch.utils.tensorboard import SummaryWriter\n",
    "\n",
    "import math \n",
    "import numpy as np\n",
    "import csv\n",
    "import pandas as pd\n",
    "\n",
    "import sys\n",
    "import os\n",
    "\n",
    "from tqdm import tqdm\n",
    "\n",
    "print(torch.__version__)\n",
    "torch.set_default_tensor_type(torch.FloatTensor)"
   ]
  },
  {
   "cell_type": "markdown",
   "id": "1cf7b5c9",
   "metadata": {},
   "source": [
    "### Define Some utility Functions"
   ]
  },
  {
   "cell_type": "code",
   "execution_count": 10,
   "id": "fda7c8d2",
   "metadata": {},
   "outputs": [],
   "source": [
    "def same_seed(seed):\n",
    "    '''\n",
    "        Fixes random number generator seeds for reproducibility\n",
    "    '''\n",
    "    torch.backends.cudnn.deterministic = True\n",
    "    torch.backends.cudnn.benchmark = False\n",
    "    \n",
    "    np.random.seed(seed)\n",
    "    torch.manual_seed(seed)\n",
    "    if torch.cuda.is_available():\n",
    "        torch.cuda.manual_seed_all(seed)\n",
    "\n",
    "def train_valid_split(dataset, valid_ratio, seed, print_shape=False):\n",
    "    valid_set_size = int(valid_ratio * dataset.shape[0])\n",
    "    train_set_size = dataset.shape[0] - valid_set_size\n",
    "    \n",
    "    train_data, valid_data= random_split(dataset, [train_set_size, valid_set_size], generator=torch.Generator().manual_seed(seed))\n",
    "    \n",
    "    train_data = np.array(train_data)\n",
    "    valid_data = np.array(valid_data)\n",
    "    if print_shape:\n",
    "        print(f\"Origin Train Set size: {train_data.shape}, Origin Valid Set Size: {valid_data.shape}\")\n",
    "    \n",
    "    return train_data, valid_data\n",
    "\n",
    "def predict(valid_loader, model, device):\n",
    "    model.eval()\n",
    "    preds = []\n",
    "    for x, y in tqdm(valid_loader):\n",
    "        x = x.to(device)\n",
    "        with torch.no_grad():\n",
    "            pred = model(x)\n",
    "            preds.append(pred.detach().cpu())\n",
    "    preds = torch.cat(preds, dim=0).numpy()\n",
    "    return preds"
   ]
  },
  {
   "cell_type": "markdown",
   "id": "e1b2d81e",
   "metadata": {},
   "source": [
    "### Dataset"
   ]
  },
  {
   "cell_type": "code",
   "execution_count": 11,
   "id": "885330c1",
   "metadata": {},
   "outputs": [],
   "source": [
    "class CTCRDataset(Dataset):\n",
    "    '''\n",
    "    x: features,\n",
    "    y: Targets, if none, do prediction\n",
    "    '''\n",
    "    \n",
    "    def __init__(self, x, y=None):\n",
    "        if y is None:\n",
    "            self.y = y\n",
    "        else:\n",
    "            self.y = torch.FloatTensor(y)\n",
    "        \n",
    "        self.x = torch.FloatTensor(x)\n",
    "        \n",
    "    def __getitem__(self, idx):\n",
    "        if self.y is None:\n",
    "            return self.x[idx]\n",
    "        else:\n",
    "            return self.x[idx], self.y[idx]\n",
    "        \n",
    "    def __len__(self):\n",
    "        return len(self.x)    \n",
    "        "
   ]
  },
  {
   "cell_type": "markdown",
   "id": "b7d2182c",
   "metadata": {},
   "source": [
    "### Neural Network Model"
   ]
  },
  {
   "cell_type": "code",
   "execution_count": 12,
   "id": "a118b4b3",
   "metadata": {},
   "outputs": [],
   "source": [
    "class FK_MLP(nn.Module):\n",
    "    \n",
    "    def __init__(self, target_type=\"pose\"):\n",
    "        super(FK_MLP, self).__init__()\n",
    "        \n",
    "        self.target_type = target_type\n",
    "        \n",
    "        if target_type == \"3_points_pos\":\n",
    "            self.output_dims = 9\n",
    "        elif target_type == \"end_pos\":\n",
    "            self.output_dims = 3\n",
    "        else:\n",
    "            self.output_dims = 7\n",
    "            \n",
    "        self.layers = nn.Sequential(\n",
    "            nn.Linear(18, 128),\n",
    "            nn.ReLU(),\n",
    "            \n",
    "            nn.Linear(128, 512),\n",
    "            nn.ReLU(),\n",
    "            \n",
    "            nn.Linear(512, self.output_dims)\n",
    "        )\n",
    "        \n",
    "    def forward(self, x):\n",
    "        y = self.layers(x)\n",
    "        return y"
   ]
  },
  {
   "cell_type": "markdown",
   "id": "66cc5f37",
   "metadata": {},
   "source": [
    "### Training Loop"
   ]
  },
  {
   "cell_type": "code",
   "execution_count": 13,
   "id": "c5b1af7b",
   "metadata": {},
   "outputs": [],
   "source": [
    "def trainer(train_loader, valid_loader, model, config, device):\n",
    "    \n",
    "    criterion = nn.MSELoss(reduction='mean')\n",
    "    optimizer = torch.optim.Adam(params=model.parameters(), lr=config['learning_rate'], weight_decay=config['weight_decay'])\n",
    "    writer = SummaryWriter()\n",
    "    \n",
    "    if not os.path.isdir(\"./checkpoints\"):\n",
    "        os.mkdir(\"./checkpoints\")\n",
    "        \n",
    "    n_epochs, best_loss, step, early_stop_count = config['n_epochs'], math.inf, 0, 0\n",
    "    \n",
    "    for epoch in range(n_epochs):\n",
    "        model.train()\n",
    "        loss_record = []\n",
    "        \n",
    "        train_pbar = tqdm(train_loader, position=0, leave=True)\n",
    "        \n",
    "        for x, y in train_pbar:\n",
    "            optimizer.zero_grad()\n",
    "            \n",
    "            x, y = x.to(device), y.to(device)\n",
    "            pred = model(x)\n",
    "            loss = criterion(pred, y)\n",
    "            loss.backward()\n",
    "            \n",
    "            optimizer.step()\n",
    "            \n",
    "            step += 1\n",
    "            loss_record.append(loss.detach().item())\n",
    "            \n",
    "            train_pbar.set_description(f\"Epoch [{epoch+1}/{n_epochs}]\")\n",
    "            train_pbar.set_postfix({'loss': loss.detach().item()})\n",
    "        mean_train_loss = sum(loss_record) / len(loss_record)\n",
    "        writer.add_scalar('Loss/Train', mean_train_loss, step)\n",
    "        \n",
    "        model.eval()\n",
    "        loss_record = []\n",
    "        for x, y in valid_loader:\n",
    "            x, y = x.to(device), y.to(device)\n",
    "            with torch.no_grad():\n",
    "                pred = model(x)\n",
    "                loss = criterion(pred, y)\n",
    "            loss_record.append(loss.item())\n",
    "            \n",
    "        mean_valid_loss = sum(loss_record) / len(loss_record)\n",
    "        \n",
    "        if mean_valid_loss <= best_loss:\n",
    "            best_loss = mean_valid_loss\n",
    "            torch.save(model.state_dict(), config['save_path'])\n",
    "            print(\"Saving Model with loss {:.3f}...\".format(best_loss))\n",
    "            early_stop_count = -0\n",
    "        else:\n",
    "            early_stop_count += 1\n",
    "        \n",
    "        if early_stop_count >= config['early_stop']:\n",
    "            print(\"\\nModel is not improving, so we halt the training sessions\")\n",
    "            \n",
    "            return \n",
    "        \n",
    "                "
   ]
  },
  {
   "cell_type": "markdown",
   "id": "7181ee57",
   "metadata": {},
   "source": [
    "### Config"
   ]
  },
  {
   "cell_type": "code",
   "execution_count": 20,
   "id": "45699b96",
   "metadata": {},
   "outputs": [],
   "source": [
    "device = \"cuda\" if torch.cuda.is_available() else \"cpu\"\n",
    "\n",
    "config = {\n",
    "    'seed': 10,\n",
    "    'valid_ratio': 0.7,\n",
    "    'n_epochs': 500,\n",
    "    'batch_size': 256,\n",
    "    'learning_rate': 1e-4,\n",
    "    'weight_decay': 1e-4,\n",
    "    'early_stop': 100,\n",
    "    'save_path': \"./checkpoints/model.ckpt\",\n",
    "    \"features_type\": \"all\",\n",
    "    \"target_type\": \"end_pos\",\n",
    "}"
   ]
  },
  {
   "cell_type": "markdown",
   "id": "207708ba",
   "metadata": {},
   "source": [
    "### Data Process And Dataloader"
   ]
  },
  {
   "cell_type": "markdown",
   "id": "061f9ef8",
   "metadata": {},
   "source": [
    "#### Select Features"
   ]
  },
  {
   "cell_type": "code",
   "execution_count": 27,
   "id": "2d7ec642",
   "metadata": {},
   "outputs": [],
   "source": [
    "L1 = 210\n",
    "L2 = 165\n",
    "L3 = 110\n",
    "\n",
    "Mb = np.array([\n",
    "    [-L1, 0,     0], \n",
    "    [-L1, L1-L2, 0],\n",
    "    [-L1, L1-L2, L2-L3]\n",
    "])\n",
    "\n",
    "T = np.zeros((4, 4))\n",
    "T[0:3, 0:3] = 1/2 * Mb\n",
    "T[0:3, 3:]  = 1/2 * np.dot(Mb, np.ones((3, 1)))\n",
    "T[3, 3] = 1\n",
    "\n",
    "\n",
    "\n",
    "def select_features_target(origin_train_data, origin_valid_data, test_data=None, features_type=\"all\", target_type=\"pose\", print_shape=False):\n",
    "    train_data = np.zeros((origin_train_data.shape[0], 18))\n",
    "    valid_data = np.zeros((origin_valid_data.shape[0], 18))\n",
    "    \n",
    "    beta_train = np.ones((4, origin_train_data.shape[0]))\n",
    "    beta_valid = np.ones((4, origin_valid_data.shape[0]))\n",
    "    \n",
    "    \n",
    "    for i in range(0, 12, 2):\n",
    "        train_data[:, 3*(i//2)  ] = np.cos(origin_train_data[:, i])\n",
    "        train_data[:, 3*(i//2)+1] = np.sin(origin_train_data[:, i])\n",
    "\n",
    "        valid_data[:, 3*(i//2)  ] = np.cos(origin_valid_data[:, i])\n",
    "        valid_data[:, 3*(i//2)+1] = np.sin(origin_valid_data[:, i])\n",
    "        \n",
    "        \n",
    "    \n",
    "\n",
    "    feature_idx = []\n",
    "    if features_type == \"all\":\n",
    "        feature_idx = list(range(train_data.shape[1]))\n",
    "    else:\n",
    "        pass\n",
    "    \n",
    "    if target_type == \"3_points_pos\":\n",
    "        train_target = np.concatenate((origin_train_data[:, 19:22], origin_train_data[:, 26:29], origin_train_data[:, -7:-4]), axis=1)\n",
    "        train_target = np.concatenate((origin_valid_data[:, 19:22], origin_valid_data[:, 26:29], origin_valid_data[:, -7:-4]), axis=1)\n",
    "    elif target_type == \"end_pos\":\n",
    "        train_target = origin_train_data[:, -7:-4]\n",
    "        valid_target = origin_valid_data[:, -7:-4]\n",
    "    else:\n",
    "        train_target = origin_train_data[:, -7:]\n",
    "        valid_target = origin_valid_data[:, -7:]\n",
    "    \n",
    "    if print_shape:\n",
    "        print(f\"Train data Shape: {train_data.shape}, Valid data shape: {valid_data.shape}\")\n",
    "        print(f\"Target Type = {target_type}, \\nTrain Target Shape: {train_target.shape}, Valid Target Shape: {valid_target.shape}\")\n",
    "    \n",
    "    if test_data == None:\n",
    "        return train_data[:, feature_idx], train_target, valid_data[:, feature_idx], valid_target\n",
    "    else:\n",
    "        return train_data[:, feature_idx], train_target, valid_data[:, feature_idx], valid_target, test_data[:, feature_idxe]"
   ]
  },
  {
   "cell_type": "markdown",
   "id": "6ceec798",
   "metadata": {},
   "source": [
    "#### Dataloader"
   ]
  },
  {
   "cell_type": "code",
   "execution_count": 28,
   "id": "f144f5fc",
   "metadata": {},
   "outputs": [
    {
     "name": "stdout",
     "output_type": "stream",
     "text": [
      "Origin Train Set size: (30000, 40), Origin Valid Set Size: (70000, 40)\n",
      "Train data Shape: (30000, 18), Valid data shape: (70000, 18)\n",
      "Target Type = end_pos, \n",
      "Train Target Shape: (30000, 3), Valid Target Shape: (70000, 3)\n"
     ]
    }
   ],
   "source": [
    "same_seed(config['seed'])\n",
    "path = \"./dataset/CRL-Dataset-CTCR-Pose.csv\"\n",
    "\n",
    "origin_data = pd.read_csv(path, header=None).values\n",
    "origin_train_data, origin_valid_data = train_valid_split(origin_data, valid_ratio=config['valid_ratio'], seed=config['seed'], print_shape=True)\n",
    "\n",
    "train_data, train_target, valid_data, valid_target = select_features_target(origin_train_data, origin_valid_data, test_data=None, features_type=config['features_type'], target_type=config['target_type'], print_shape=True)\n",
    "\n",
    "train_dataset, valid_dataset = CTCRDataset(train_data, train_target), CTCRDataset(valid_data, valid_target)\n",
    "train_loader = DataLoader(train_dataset, batch_size=config['batch_size'], shuffle=True, pin_memory=True)\n",
    "valid_loader = DataLoader(valid_dataset, batch_size=config['batch_size'], shuffle=True, pin_memory=True)\n"
   ]
  },
  {
   "cell_type": "code",
   "execution_count": 29,
   "id": "91f4ccef",
   "metadata": {
    "scrolled": false
   },
   "outputs": [
    {
     "name": "stderr",
     "output_type": "stream",
     "text": [
      "Epoch [1/500]: 100%|██████████████████████████████████████████████████| 118/118 [00:00<00:00, 124.02it/s, loss=1.53e+4]\n"
     ]
    },
    {
     "name": "stdout",
     "output_type": "stream",
     "text": [
      "Saving Model with loss 15292.255...\n"
     ]
    },
    {
     "name": "stderr",
     "output_type": "stream",
     "text": [
      "Epoch [2/500]: 100%|██████████████████████████████████████████████████| 118/118 [00:00<00:00, 142.38it/s, loss=1.32e+4]\n"
     ]
    },
    {
     "name": "stdout",
     "output_type": "stream",
     "text": [
      "Saving Model with loss 13156.736...\n"
     ]
    },
    {
     "name": "stderr",
     "output_type": "stream",
     "text": [
      "Epoch [3/500]: 100%|██████████████████████████████████████████████████| 118/118 [00:00<00:00, 146.61it/s, loss=8.54e+3]\n"
     ]
    },
    {
     "name": "stdout",
     "output_type": "stream",
     "text": [
      "Saving Model with loss 8604.682...\n"
     ]
    },
    {
     "name": "stderr",
     "output_type": "stream",
     "text": [
      "Epoch [4/500]: 100%|██████████████████████████████████████████████████| 118/118 [00:00<00:00, 142.21it/s, loss=3.43e+3]\n"
     ]
    },
    {
     "name": "stdout",
     "output_type": "stream",
     "text": [
      "Saving Model with loss 3234.963...\n"
     ]
    },
    {
     "name": "stderr",
     "output_type": "stream",
     "text": [
      "Epoch [5/500]: 100%|██████████████████████████████████████████████████████| 118/118 [00:00<00:00, 144.48it/s, loss=756]\n"
     ]
    },
    {
     "name": "stdout",
     "output_type": "stream",
     "text": [
      "Saving Model with loss 771.587...\n"
     ]
    },
    {
     "name": "stderr",
     "output_type": "stream",
     "text": [
      "Epoch [6/500]: 100%|██████████████████████████████████████████████████████| 118/118 [00:00<00:00, 145.17it/s, loss=514]\n"
     ]
    },
    {
     "name": "stdout",
     "output_type": "stream",
     "text": [
      "Saving Model with loss 486.733...\n"
     ]
    },
    {
     "name": "stderr",
     "output_type": "stream",
     "text": [
      "Epoch [7/500]: 100%|██████████████████████████████████████████████████████| 118/118 [00:00<00:00, 138.28it/s, loss=586]\n"
     ]
    },
    {
     "name": "stdout",
     "output_type": "stream",
     "text": [
      "Saving Model with loss 464.141...\n"
     ]
    },
    {
     "name": "stderr",
     "output_type": "stream",
     "text": [
      "Epoch [8/500]: 100%|██████████████████████████████████████████████████████| 118/118 [00:00<00:00, 143.75it/s, loss=484]\n"
     ]
    },
    {
     "name": "stdout",
     "output_type": "stream",
     "text": [
      "Saving Model with loss 444.598...\n"
     ]
    },
    {
     "name": "stderr",
     "output_type": "stream",
     "text": [
      "Epoch [9/500]: 100%|██████████████████████████████████████████████████████| 118/118 [00:00<00:00, 143.14it/s, loss=418]\n"
     ]
    },
    {
     "name": "stdout",
     "output_type": "stream",
     "text": [
      "Saving Model with loss 422.199...\n"
     ]
    },
    {
     "name": "stderr",
     "output_type": "stream",
     "text": [
      "Epoch [10/500]: 100%|█████████████████████████████████████████████████████| 118/118 [00:00<00:00, 136.28it/s, loss=407]\n"
     ]
    },
    {
     "name": "stdout",
     "output_type": "stream",
     "text": [
      "Saving Model with loss 397.350...\n"
     ]
    },
    {
     "name": "stderr",
     "output_type": "stream",
     "text": [
      "Epoch [11/500]: 100%|█████████████████████████████████████████████████████| 118/118 [00:00<00:00, 146.61it/s, loss=398]\n"
     ]
    },
    {
     "name": "stdout",
     "output_type": "stream",
     "text": [
      "Saving Model with loss 369.582...\n"
     ]
    },
    {
     "name": "stderr",
     "output_type": "stream",
     "text": [
      "Epoch [12/500]: 100%|█████████████████████████████████████████████████████| 118/118 [00:00<00:00, 144.99it/s, loss=393]\n"
     ]
    },
    {
     "name": "stdout",
     "output_type": "stream",
     "text": [
      "Saving Model with loss 339.955...\n"
     ]
    },
    {
     "name": "stderr",
     "output_type": "stream",
     "text": [
      "Epoch [13/500]: 100%|█████████████████████████████████████████████████████| 118/118 [00:00<00:00, 136.13it/s, loss=303]\n"
     ]
    },
    {
     "name": "stdout",
     "output_type": "stream",
     "text": [
      "Saving Model with loss 310.010...\n"
     ]
    },
    {
     "name": "stderr",
     "output_type": "stream",
     "text": [
      "Epoch [14/500]: 100%|█████████████████████████████████████████████████████| 118/118 [00:00<00:00, 136.79it/s, loss=325]\n"
     ]
    },
    {
     "name": "stdout",
     "output_type": "stream",
     "text": [
      "Saving Model with loss 281.729...\n"
     ]
    },
    {
     "name": "stderr",
     "output_type": "stream",
     "text": [
      "Epoch [15/500]: 100%|█████████████████████████████████████████████████████| 118/118 [00:00<00:00, 181.02it/s, loss=234]\n"
     ]
    },
    {
     "name": "stdout",
     "output_type": "stream",
     "text": [
      "Saving Model with loss 257.661...\n"
     ]
    },
    {
     "name": "stderr",
     "output_type": "stream",
     "text": [
      "Epoch [16/500]: 100%|█████████████████████████████████████████████████████| 118/118 [00:00<00:00, 130.91it/s, loss=205]\n"
     ]
    },
    {
     "name": "stdout",
     "output_type": "stream",
     "text": [
      "Saving Model with loss 237.847...\n"
     ]
    },
    {
     "name": "stderr",
     "output_type": "stream",
     "text": [
      "Epoch [17/500]: 100%|█████████████████████████████████████████████████████| 118/118 [00:00<00:00, 148.53it/s, loss=255]\n"
     ]
    },
    {
     "name": "stdout",
     "output_type": "stream",
     "text": [
      "Saving Model with loss 222.605...\n"
     ]
    },
    {
     "name": "stderr",
     "output_type": "stream",
     "text": [
      "Epoch [18/500]: 100%|█████████████████████████████████████████████████████| 118/118 [00:00<00:00, 147.14it/s, loss=194]\n"
     ]
    },
    {
     "name": "stdout",
     "output_type": "stream",
     "text": [
      "Saving Model with loss 210.613...\n"
     ]
    },
    {
     "name": "stderr",
     "output_type": "stream",
     "text": [
      "Epoch [19/500]: 100%|█████████████████████████████████████████████████████| 118/118 [00:00<00:00, 134.16it/s, loss=196]\n"
     ]
    },
    {
     "name": "stdout",
     "output_type": "stream",
     "text": [
      "Saving Model with loss 200.461...\n"
     ]
    },
    {
     "name": "stderr",
     "output_type": "stream",
     "text": [
      "Epoch [20/500]: 100%|█████████████████████████████████████████████████████| 118/118 [00:00<00:00, 145.04it/s, loss=181]\n"
     ]
    },
    {
     "name": "stdout",
     "output_type": "stream",
     "text": [
      "Saving Model with loss 191.678...\n"
     ]
    },
    {
     "name": "stderr",
     "output_type": "stream",
     "text": [
      "Epoch [21/500]: 100%|█████████████████████████████████████████████████████| 118/118 [00:00<00:00, 143.80it/s, loss=209]\n"
     ]
    },
    {
     "name": "stdout",
     "output_type": "stream",
     "text": [
      "Saving Model with loss 183.807...\n"
     ]
    },
    {
     "name": "stderr",
     "output_type": "stream",
     "text": [
      "Epoch [22/500]: 100%|█████████████████████████████████████████████████████| 118/118 [00:00<00:00, 131.91it/s, loss=177]\n"
     ]
    },
    {
     "name": "stdout",
     "output_type": "stream",
     "text": [
      "Saving Model with loss 176.712...\n"
     ]
    },
    {
     "name": "stderr",
     "output_type": "stream",
     "text": [
      "Epoch [23/500]: 100%|█████████████████████████████████████████████████████| 118/118 [00:00<00:00, 143.83it/s, loss=228]\n"
     ]
    },
    {
     "name": "stdout",
     "output_type": "stream",
     "text": [
      "Saving Model with loss 170.156...\n"
     ]
    },
    {
     "name": "stderr",
     "output_type": "stream",
     "text": [
      "Epoch [24/500]: 100%|█████████████████████████████████████████████████████| 118/118 [00:00<00:00, 149.98it/s, loss=170]\n"
     ]
    },
    {
     "name": "stdout",
     "output_type": "stream",
     "text": [
      "Saving Model with loss 164.469...\n"
     ]
    },
    {
     "name": "stderr",
     "output_type": "stream",
     "text": [
      "Epoch [25/500]: 100%|█████████████████████████████████████████████████████| 118/118 [00:00<00:00, 134.60it/s, loss=149]\n"
     ]
    },
    {
     "name": "stdout",
     "output_type": "stream",
     "text": [
      "Saving Model with loss 159.315...\n"
     ]
    },
    {
     "name": "stderr",
     "output_type": "stream",
     "text": [
      "Epoch [26/500]: 100%|█████████████████████████████████████████████████████| 118/118 [00:00<00:00, 144.29it/s, loss=145]\n"
     ]
    },
    {
     "name": "stdout",
     "output_type": "stream",
     "text": [
      "Saving Model with loss 154.584...\n"
     ]
    },
    {
     "name": "stderr",
     "output_type": "stream",
     "text": [
      "Epoch [27/500]: 100%|█████████████████████████████████████████████████████| 118/118 [00:00<00:00, 135.58it/s, loss=160]\n"
     ]
    },
    {
     "name": "stdout",
     "output_type": "stream",
     "text": [
      "Saving Model with loss 150.445...\n"
     ]
    },
    {
     "name": "stderr",
     "output_type": "stream",
     "text": [
      "Epoch [28/500]: 100%|█████████████████████████████████████████████████████| 118/118 [00:00<00:00, 141.97it/s, loss=211]\n"
     ]
    },
    {
     "name": "stdout",
     "output_type": "stream",
     "text": [
      "Saving Model with loss 146.846...\n"
     ]
    },
    {
     "name": "stderr",
     "output_type": "stream",
     "text": [
      "Epoch [29/500]: 100%|█████████████████████████████████████████████████████| 118/118 [00:00<00:00, 150.64it/s, loss=137]\n"
     ]
    },
    {
     "name": "stdout",
     "output_type": "stream",
     "text": [
      "Saving Model with loss 143.690...\n"
     ]
    },
    {
     "name": "stderr",
     "output_type": "stream",
     "text": [
      "Epoch [30/500]: 100%|█████████████████████████████████████████████████████| 118/118 [00:00<00:00, 151.88it/s, loss=134]\n"
     ]
    },
    {
     "name": "stdout",
     "output_type": "stream",
     "text": [
      "Saving Model with loss 141.083...\n"
     ]
    },
    {
     "name": "stderr",
     "output_type": "stream",
     "text": [
      "Epoch [31/500]: 100%|█████████████████████████████████████████████████████| 118/118 [00:00<00:00, 133.99it/s, loss=144]\n"
     ]
    },
    {
     "name": "stdout",
     "output_type": "stream",
     "text": [
      "Saving Model with loss 138.769...\n"
     ]
    },
    {
     "name": "stderr",
     "output_type": "stream",
     "text": [
      "Epoch [32/500]: 100%|█████████████████████████████████████████████████████| 118/118 [00:00<00:00, 142.72it/s, loss=138]\n"
     ]
    },
    {
     "name": "stdout",
     "output_type": "stream",
     "text": [
      "Saving Model with loss 136.894...\n"
     ]
    },
    {
     "name": "stderr",
     "output_type": "stream",
     "text": [
      "Epoch [33/500]: 100%|█████████████████████████████████████████████████████| 118/118 [00:00<00:00, 146.30it/s, loss=124]\n"
     ]
    },
    {
     "name": "stdout",
     "output_type": "stream",
     "text": [
      "Saving Model with loss 135.468...\n"
     ]
    },
    {
     "name": "stderr",
     "output_type": "stream",
     "text": [
      "Epoch [34/500]: 100%|█████████████████████████████████████████████████████| 118/118 [00:00<00:00, 134.75it/s, loss=140]\n"
     ]
    },
    {
     "name": "stdout",
     "output_type": "stream",
     "text": [
      "Saving Model with loss 134.144...\n"
     ]
    },
    {
     "name": "stderr",
     "output_type": "stream",
     "text": [
      "Epoch [35/500]: 100%|█████████████████████████████████████████████████████| 118/118 [00:00<00:00, 144.46it/s, loss=145]\n"
     ]
    },
    {
     "name": "stdout",
     "output_type": "stream",
     "text": [
      "Saving Model with loss 133.082...\n"
     ]
    },
    {
     "name": "stderr",
     "output_type": "stream",
     "text": [
      "Epoch [36/500]: 100%|█████████████████████████████████████████████████████| 118/118 [00:00<00:00, 127.22it/s, loss=140]\n"
     ]
    },
    {
     "name": "stdout",
     "output_type": "stream",
     "text": [
      "Saving Model with loss 132.240...\n"
     ]
    },
    {
     "name": "stderr",
     "output_type": "stream",
     "text": [
      "Epoch [37/500]: 100%|█████████████████████████████████████████████████████| 118/118 [00:01<00:00, 115.88it/s, loss=160]\n"
     ]
    },
    {
     "name": "stdout",
     "output_type": "stream",
     "text": [
      "Saving Model with loss 131.499...\n"
     ]
    },
    {
     "name": "stderr",
     "output_type": "stream",
     "text": [
      "Epoch [38/500]: 100%|█████████████████████████████████████████████████████| 118/118 [00:00<00:00, 127.84it/s, loss=138]\n"
     ]
    },
    {
     "name": "stdout",
     "output_type": "stream",
     "text": [
      "Saving Model with loss 130.806...\n"
     ]
    },
    {
     "name": "stderr",
     "output_type": "stream",
     "text": [
      "Epoch [39/500]: 100%|█████████████████████████████████████████████████████| 118/118 [00:00<00:00, 142.36it/s, loss=131]\n"
     ]
    },
    {
     "name": "stdout",
     "output_type": "stream",
     "text": [
      "Saving Model with loss 130.365...\n"
     ]
    },
    {
     "name": "stderr",
     "output_type": "stream",
     "text": [
      "Epoch [40/500]: 100%|█████████████████████████████████████████████████████| 118/118 [00:00<00:00, 134.14it/s, loss=122]\n"
     ]
    },
    {
     "name": "stdout",
     "output_type": "stream",
     "text": [
      "Saving Model with loss 129.657...\n"
     ]
    },
    {
     "name": "stderr",
     "output_type": "stream",
     "text": [
      "Epoch [41/500]: 100%|█████████████████████████████████████████████████████| 118/118 [00:00<00:00, 133.09it/s, loss=125]\n"
     ]
    },
    {
     "name": "stdout",
     "output_type": "stream",
     "text": [
      "Saving Model with loss 129.236...\n"
     ]
    },
    {
     "name": "stderr",
     "output_type": "stream",
     "text": [
      "Epoch [42/500]: 100%|█████████████████████████████████████████████████████| 118/118 [00:00<00:00, 139.03it/s, loss=129]\n"
     ]
    },
    {
     "name": "stdout",
     "output_type": "stream",
     "text": [
      "Saving Model with loss 128.686...\n"
     ]
    },
    {
     "name": "stderr",
     "output_type": "stream",
     "text": [
      "Epoch [43/500]: 100%|█████████████████████████████████████████████████████| 118/118 [00:00<00:00, 133.01it/s, loss=132]\n"
     ]
    },
    {
     "name": "stdout",
     "output_type": "stream",
     "text": [
      "Saving Model with loss 128.196...\n"
     ]
    },
    {
     "name": "stderr",
     "output_type": "stream",
     "text": [
      "Epoch [44/500]: 100%|█████████████████████████████████████████████████████| 118/118 [00:00<00:00, 140.93it/s, loss=114]\n"
     ]
    },
    {
     "name": "stdout",
     "output_type": "stream",
     "text": [
      "Saving Model with loss 127.890...\n"
     ]
    },
    {
     "name": "stderr",
     "output_type": "stream",
     "text": [
      "Epoch [45/500]: 100%|█████████████████████████████████████████████████████| 118/118 [00:00<00:00, 143.76it/s, loss=160]\n"
     ]
    },
    {
     "name": "stdout",
     "output_type": "stream",
     "text": [
      "Saving Model with loss 127.466...\n"
     ]
    },
    {
     "name": "stderr",
     "output_type": "stream",
     "text": [
      "Epoch [46/500]: 100%|█████████████████████████████████████████████████████| 118/118 [00:00<00:00, 137.42it/s, loss=137]\n"
     ]
    },
    {
     "name": "stdout",
     "output_type": "stream",
     "text": [
      "Saving Model with loss 127.263...\n"
     ]
    },
    {
     "name": "stderr",
     "output_type": "stream",
     "text": [
      "Epoch [47/500]: 100%|█████████████████████████████████████████████████████| 118/118 [00:00<00:00, 144.46it/s, loss=133]\n"
     ]
    },
    {
     "name": "stdout",
     "output_type": "stream",
     "text": [
      "Saving Model with loss 126.819...\n"
     ]
    },
    {
     "name": "stderr",
     "output_type": "stream",
     "text": [
      "Epoch [48/500]: 100%|█████████████████████████████████████████████████████| 118/118 [00:00<00:00, 142.44it/s, loss=131]\n"
     ]
    },
    {
     "name": "stdout",
     "output_type": "stream",
     "text": [
      "Saving Model with loss 126.632...\n"
     ]
    },
    {
     "name": "stderr",
     "output_type": "stream",
     "text": [
      "Epoch [49/500]: 100%|█████████████████████████████████████████████████████| 118/118 [00:00<00:00, 135.35it/s, loss=133]\n"
     ]
    },
    {
     "name": "stdout",
     "output_type": "stream",
     "text": [
      "Saving Model with loss 126.293...\n"
     ]
    },
    {
     "name": "stderr",
     "output_type": "stream",
     "text": [
      "Epoch [50/500]: 100%|█████████████████████████████████████████████████████| 118/118 [00:00<00:00, 145.53it/s, loss=119]\n"
     ]
    },
    {
     "name": "stdout",
     "output_type": "stream",
     "text": [
      "Saving Model with loss 126.005...\n"
     ]
    },
    {
     "name": "stderr",
     "output_type": "stream",
     "text": [
      "Epoch [51/500]: 100%|█████████████████████████████████████████████████████| 118/118 [00:00<00:00, 146.25it/s, loss=121]\n"
     ]
    },
    {
     "name": "stdout",
     "output_type": "stream",
     "text": [
      "Saving Model with loss 125.844...\n"
     ]
    },
    {
     "name": "stderr",
     "output_type": "stream",
     "text": [
      "Epoch [52/500]: 100%|█████████████████████████████████████████████████████| 118/118 [00:00<00:00, 137.74it/s, loss=119]\n"
     ]
    },
    {
     "name": "stdout",
     "output_type": "stream",
     "text": [
      "Saving Model with loss 125.518...\n"
     ]
    },
    {
     "name": "stderr",
     "output_type": "stream",
     "text": [
      "Epoch [53/500]: 100%|█████████████████████████████████████████████████████| 118/118 [00:00<00:00, 145.35it/s, loss=122]\n"
     ]
    },
    {
     "name": "stdout",
     "output_type": "stream",
     "text": [
      "Saving Model with loss 125.342...\n"
     ]
    },
    {
     "name": "stderr",
     "output_type": "stream",
     "text": [
      "Epoch [54/500]: 100%|█████████████████████████████████████████████████████| 118/118 [00:00<00:00, 144.99it/s, loss=134]\n"
     ]
    },
    {
     "name": "stdout",
     "output_type": "stream",
     "text": [
      "Saving Model with loss 125.103...\n"
     ]
    },
    {
     "name": "stderr",
     "output_type": "stream",
     "text": [
      "Epoch [55/500]: 100%|█████████████████████████████████████████████████████| 118/118 [00:00<00:00, 137.42it/s, loss=116]\n"
     ]
    },
    {
     "name": "stdout",
     "output_type": "stream",
     "text": [
      "Saving Model with loss 124.868...\n"
     ]
    },
    {
     "name": "stderr",
     "output_type": "stream",
     "text": [
      "Epoch [56/500]: 100%|█████████████████████████████████████████████████████| 118/118 [00:00<00:00, 140.57it/s, loss=129]\n"
     ]
    },
    {
     "name": "stdout",
     "output_type": "stream",
     "text": [
      "Saving Model with loss 124.844...\n"
     ]
    },
    {
     "name": "stderr",
     "output_type": "stream",
     "text": [
      "Epoch [57/500]: 100%|████████████████████████████████████████████████████| 118/118 [00:00<00:00, 145.26it/s, loss=98.2]\n"
     ]
    },
    {
     "name": "stdout",
     "output_type": "stream",
     "text": [
      "Saving Model with loss 124.520...\n"
     ]
    },
    {
     "name": "stderr",
     "output_type": "stream",
     "text": [
      "Epoch [58/500]: 100%|█████████████████████████████████████████████████████| 118/118 [00:00<00:00, 147.53it/s, loss=108]\n"
     ]
    },
    {
     "name": "stdout",
     "output_type": "stream",
     "text": [
      "Saving Model with loss 124.447...\n"
     ]
    },
    {
     "name": "stderr",
     "output_type": "stream",
     "text": [
      "Epoch [59/500]: 100%|█████████████████████████████████████████████████████| 118/118 [00:00<00:00, 151.49it/s, loss=130]\n"
     ]
    },
    {
     "name": "stdout",
     "output_type": "stream",
     "text": [
      "Saving Model with loss 124.209...\n"
     ]
    },
    {
     "name": "stderr",
     "output_type": "stream",
     "text": [
      "Epoch [60/500]: 100%|█████████████████████████████████████████████████████| 118/118 [00:00<00:00, 141.36it/s, loss=108]\n"
     ]
    },
    {
     "name": "stdout",
     "output_type": "stream",
     "text": [
      "Saving Model with loss 123.994...\n"
     ]
    },
    {
     "name": "stderr",
     "output_type": "stream",
     "text": [
      "Epoch [61/500]: 100%|█████████████████████████████████████████████████████| 118/118 [00:00<00:00, 136.15it/s, loss=120]\n"
     ]
    },
    {
     "name": "stdout",
     "output_type": "stream",
     "text": [
      "Saving Model with loss 123.833...\n"
     ]
    },
    {
     "name": "stderr",
     "output_type": "stream",
     "text": [
      "Epoch [62/500]: 100%|█████████████████████████████████████████████████████| 118/118 [00:00<00:00, 145.71it/s, loss=105]\n"
     ]
    },
    {
     "name": "stdout",
     "output_type": "stream",
     "text": [
      "Saving Model with loss 123.623...\n"
     ]
    },
    {
     "name": "stderr",
     "output_type": "stream",
     "text": [
      "Epoch [63/500]: 100%|█████████████████████████████████████████████████████| 118/118 [00:00<00:00, 147.53it/s, loss=128]\n"
     ]
    },
    {
     "name": "stdout",
     "output_type": "stream",
     "text": [
      "Saving Model with loss 123.534...\n"
     ]
    },
    {
     "name": "stderr",
     "output_type": "stream",
     "text": [
      "Epoch [64/500]: 100%|█████████████████████████████████████████████████████| 118/118 [00:00<00:00, 142.89it/s, loss=115]\n"
     ]
    },
    {
     "name": "stdout",
     "output_type": "stream",
     "text": [
      "Saving Model with loss 123.366...\n"
     ]
    },
    {
     "name": "stderr",
     "output_type": "stream",
     "text": [
      "Epoch [65/500]: 100%|█████████████████████████████████████████████████████| 118/118 [00:00<00:00, 148.79it/s, loss=134]\n",
      "Epoch [66/500]: 100%|█████████████████████████████████████████████████████| 118/118 [00:00<00:00, 146.98it/s, loss=116]\n"
     ]
    },
    {
     "name": "stdout",
     "output_type": "stream",
     "text": [
      "Saving Model with loss 123.105...\n"
     ]
    },
    {
     "name": "stderr",
     "output_type": "stream",
     "text": [
      "Epoch [67/500]: 100%|█████████████████████████████████████████████████████| 118/118 [00:00<00:00, 138.22it/s, loss=118]\n",
      "Epoch [68/500]: 100%|█████████████████████████████████████████████████████| 118/118 [00:00<00:00, 134.09it/s, loss=158]\n"
     ]
    },
    {
     "name": "stdout",
     "output_type": "stream",
     "text": [
      "Saving Model with loss 122.928...\n"
     ]
    },
    {
     "name": "stderr",
     "output_type": "stream",
     "text": [
      "Epoch [69/500]: 100%|█████████████████████████████████████████████████████| 118/118 [00:00<00:00, 149.77it/s, loss=127]\n"
     ]
    },
    {
     "name": "stdout",
     "output_type": "stream",
     "text": [
      "Saving Model with loss 122.717...\n"
     ]
    },
    {
     "name": "stderr",
     "output_type": "stream",
     "text": [
      "Epoch [70/500]: 100%|█████████████████████████████████████████████████████| 118/118 [00:00<00:00, 128.06it/s, loss=137]\n"
     ]
    },
    {
     "name": "stdout",
     "output_type": "stream",
     "text": [
      "Saving Model with loss 122.673...\n"
     ]
    },
    {
     "name": "stderr",
     "output_type": "stream",
     "text": [
      "Epoch [71/500]: 100%|█████████████████████████████████████████████████████| 118/118 [00:00<00:00, 151.58it/s, loss=127]\n"
     ]
    },
    {
     "name": "stdout",
     "output_type": "stream",
     "text": [
      "Saving Model with loss 122.447...\n"
     ]
    },
    {
     "name": "stderr",
     "output_type": "stream",
     "text": [
      "Epoch [72/500]: 100%|█████████████████████████████████████████████████████| 118/118 [00:00<00:00, 149.77it/s, loss=124]\n",
      "Epoch [73/500]: 100%|█████████████████████████████████████████████████████| 118/118 [00:00<00:00, 154.41it/s, loss=123]\n"
     ]
    },
    {
     "name": "stdout",
     "output_type": "stream",
     "text": [
      "Saving Model with loss 122.403...\n"
     ]
    },
    {
     "name": "stderr",
     "output_type": "stream",
     "text": [
      "Epoch [74/500]: 100%|█████████████████████████████████████████████████████| 118/118 [00:00<00:00, 146.25it/s, loss=130]\n"
     ]
    },
    {
     "name": "stdout",
     "output_type": "stream",
     "text": [
      "Saving Model with loss 122.180...\n"
     ]
    },
    {
     "name": "stderr",
     "output_type": "stream",
     "text": [
      "Epoch [75/500]: 100%|█████████████████████████████████████████████████████| 118/118 [00:00<00:00, 146.35it/s, loss=141]\n"
     ]
    },
    {
     "name": "stdout",
     "output_type": "stream",
     "text": [
      "Saving Model with loss 122.110...\n"
     ]
    },
    {
     "name": "stderr",
     "output_type": "stream",
     "text": [
      "Epoch [76/500]: 100%|████████████████████████████████████████████████████| 118/118 [00:00<00:00, 126.12it/s, loss=96.2]\n"
     ]
    },
    {
     "name": "stdout",
     "output_type": "stream",
     "text": [
      "Saving Model with loss 122.063...\n"
     ]
    },
    {
     "name": "stderr",
     "output_type": "stream",
     "text": [
      "Epoch [77/500]: 100%|█████████████████████████████████████████████████████| 118/118 [00:00<00:00, 126.14it/s, loss=109]\n"
     ]
    },
    {
     "name": "stdout",
     "output_type": "stream",
     "text": [
      "Saving Model with loss 122.036...\n"
     ]
    },
    {
     "name": "stderr",
     "output_type": "stream",
     "text": [
      "Epoch [78/500]: 100%|█████████████████████████████████████████████████████| 118/118 [00:00<00:00, 130.78it/s, loss=145]\n"
     ]
    },
    {
     "name": "stdout",
     "output_type": "stream",
     "text": [
      "Saving Model with loss 121.869...\n"
     ]
    },
    {
     "name": "stderr",
     "output_type": "stream",
     "text": [
      "Epoch [79/500]: 100%|█████████████████████████████████████████████████████| 118/118 [00:00<00:00, 147.34it/s, loss=109]\n"
     ]
    },
    {
     "name": "stdout",
     "output_type": "stream",
     "text": [
      "Saving Model with loss 121.831...\n"
     ]
    },
    {
     "name": "stderr",
     "output_type": "stream",
     "text": [
      "Epoch [80/500]: 100%|█████████████████████████████████████████████████████| 118/118 [00:00<00:00, 153.25it/s, loss=131]\n"
     ]
    },
    {
     "name": "stdout",
     "output_type": "stream",
     "text": [
      "Saving Model with loss 121.632...\n"
     ]
    },
    {
     "name": "stderr",
     "output_type": "stream",
     "text": [
      "Epoch [81/500]: 100%|█████████████████████████████████████████████████████| 118/118 [00:00<00:00, 137.54it/s, loss=122]\n"
     ]
    },
    {
     "name": "stdout",
     "output_type": "stream",
     "text": [
      "Saving Model with loss 121.597...\n"
     ]
    },
    {
     "name": "stderr",
     "output_type": "stream",
     "text": [
      "Epoch [82/500]: 100%|████████████████████████████████████████████████████| 118/118 [00:00<00:00, 141.11it/s, loss=94.8]\n"
     ]
    },
    {
     "name": "stdout",
     "output_type": "stream",
     "text": [
      "Saving Model with loss 121.473...\n"
     ]
    },
    {
     "name": "stderr",
     "output_type": "stream",
     "text": [
      "Epoch [83/500]: 100%|█████████████████████████████████████████████████████| 118/118 [00:00<00:00, 142.04it/s, loss=147]\n",
      "Epoch [84/500]: 100%|█████████████████████████████████████████████████████| 118/118 [00:00<00:00, 151.29it/s, loss=125]\n"
     ]
    },
    {
     "name": "stdout",
     "output_type": "stream",
     "text": [
      "Saving Model with loss 121.415...\n"
     ]
    },
    {
     "name": "stderr",
     "output_type": "stream",
     "text": [
      "Epoch [85/500]: 100%|█████████████████████████████████████████████████████| 118/118 [00:00<00:00, 154.46it/s, loss=127]\n"
     ]
    },
    {
     "name": "stdout",
     "output_type": "stream",
     "text": [
      "Saving Model with loss 121.385...\n"
     ]
    },
    {
     "name": "stderr",
     "output_type": "stream",
     "text": [
      "Epoch [86/500]: 100%|█████████████████████████████████████████████████████| 118/118 [00:00<00:00, 143.94it/s, loss=122]\n"
     ]
    },
    {
     "name": "stdout",
     "output_type": "stream",
     "text": [
      "Saving Model with loss 121.320...\n"
     ]
    },
    {
     "name": "stderr",
     "output_type": "stream",
     "text": [
      "Epoch [87/500]: 100%|█████████████████████████████████████████████████████| 118/118 [00:00<00:00, 152.05it/s, loss=126]\n",
      "Epoch [88/500]: 100%|█████████████████████████████████████████████████████| 118/118 [00:00<00:00, 152.71it/s, loss=161]\n"
     ]
    },
    {
     "name": "stdout",
     "output_type": "stream",
     "text": [
      "Saving Model with loss 121.016...\n"
     ]
    },
    {
     "name": "stderr",
     "output_type": "stream",
     "text": [
      "Epoch [89/500]: 100%|█████████████████████████████████████████████████████| 118/118 [00:00<00:00, 152.47it/s, loss=110]\n"
     ]
    },
    {
     "name": "stdout",
     "output_type": "stream",
     "text": [
      "Saving Model with loss 120.992...\n"
     ]
    },
    {
     "name": "stderr",
     "output_type": "stream",
     "text": [
      "Epoch [90/500]: 100%|█████████████████████████████████████████████████████| 118/118 [00:00<00:00, 151.51it/s, loss=120]\n"
     ]
    },
    {
     "name": "stdout",
     "output_type": "stream",
     "text": [
      "Saving Model with loss 120.895...\n"
     ]
    },
    {
     "name": "stderr",
     "output_type": "stream",
     "text": [
      "Epoch [91/500]: 100%|█████████████████████████████████████████████████████| 118/118 [00:00<00:00, 149.48it/s, loss=144]\n"
     ]
    },
    {
     "name": "stdout",
     "output_type": "stream",
     "text": [
      "Saving Model with loss 120.866...\n"
     ]
    },
    {
     "name": "stderr",
     "output_type": "stream",
     "text": [
      "Epoch [92/500]: 100%|█████████████████████████████████████████████████████| 118/118 [00:00<00:00, 141.50it/s, loss=103]\n",
      "Epoch [93/500]: 100%|█████████████████████████████████████████████████████| 118/118 [00:00<00:00, 144.85it/s, loss=128]\n"
     ]
    },
    {
     "name": "stdout",
     "output_type": "stream",
     "text": [
      "Saving Model with loss 120.728...\n"
     ]
    },
    {
     "name": "stderr",
     "output_type": "stream",
     "text": [
      "Epoch [94/500]: 100%|█████████████████████████████████████████████████████| 118/118 [00:00<00:00, 140.19it/s, loss=118]\n",
      "Epoch [95/500]: 100%|█████████████████████████████████████████████████████| 118/118 [00:00<00:00, 138.14it/s, loss=150]\n",
      "Epoch [96/500]: 100%|█████████████████████████████████████████████████████| 118/118 [00:00<00:00, 139.85it/s, loss=130]\n"
     ]
    },
    {
     "name": "stdout",
     "output_type": "stream",
     "text": [
      "Saving Model with loss 120.579...\n"
     ]
    },
    {
     "name": "stderr",
     "output_type": "stream",
     "text": [
      "Epoch [97/500]: 100%|█████████████████████████████████████████████████████| 118/118 [00:00<00:00, 142.55it/s, loss=117]\n"
     ]
    },
    {
     "name": "stdout",
     "output_type": "stream",
     "text": [
      "Saving Model with loss 120.544...\n"
     ]
    },
    {
     "name": "stderr",
     "output_type": "stream",
     "text": [
      "Epoch [98/500]: 100%|██████████████████████████████████████████████████████| 118/118 [00:01<00:00, 99.08it/s, loss=137]\n",
      "Epoch [99/500]: 100%|█████████████████████████████████████████████████████| 118/118 [00:00<00:00, 135.22it/s, loss=125]\n",
      "Epoch [100/500]: 100%|████████████████████████████████████████████████████| 118/118 [00:00<00:00, 137.74it/s, loss=134]\n",
      "Epoch [101/500]: 100%|████████████████████████████████████████████████████| 118/118 [00:00<00:00, 143.41it/s, loss=124]\n"
     ]
    },
    {
     "name": "stdout",
     "output_type": "stream",
     "text": [
      "Saving Model with loss 120.348...\n"
     ]
    },
    {
     "name": "stderr",
     "output_type": "stream",
     "text": [
      "Epoch [102/500]: 100%|████████████████████████████████████████████████████| 118/118 [00:00<00:00, 150.62it/s, loss=139]\n"
     ]
    },
    {
     "name": "stdout",
     "output_type": "stream",
     "text": [
      "Saving Model with loss 120.315...\n"
     ]
    },
    {
     "name": "stderr",
     "output_type": "stream",
     "text": [
      "Epoch [103/500]: 100%|████████████████████████████████████████████████████| 118/118 [00:00<00:00, 124.13it/s, loss=124]\n"
     ]
    },
    {
     "name": "stdout",
     "output_type": "stream",
     "text": [
      "Saving Model with loss 120.282...\n"
     ]
    },
    {
     "name": "stderr",
     "output_type": "stream",
     "text": [
      "Epoch [104/500]: 100%|███████████████████████████████████████████████████| 118/118 [00:01<00:00, 107.76it/s, loss=98.9]\n"
     ]
    },
    {
     "name": "stdout",
     "output_type": "stream",
     "text": [
      "Saving Model with loss 120.232...\n"
     ]
    },
    {
     "name": "stderr",
     "output_type": "stream",
     "text": [
      "Epoch [105/500]: 100%|████████████████████████████████████████████████████| 118/118 [00:00<00:00, 144.29it/s, loss=127]\n",
      "Epoch [106/500]: 100%|████████████████████████████████████████████████████| 118/118 [00:00<00:00, 145.70it/s, loss=123]\n",
      "Epoch [107/500]: 100%|████████████████████████████████████████████████████| 118/118 [00:00<00:00, 136.62it/s, loss=131]\n"
     ]
    },
    {
     "name": "stdout",
     "output_type": "stream",
     "text": [
      "Saving Model with loss 120.219...\n"
     ]
    },
    {
     "name": "stderr",
     "output_type": "stream",
     "text": [
      "Epoch [108/500]: 100%|████████████████████████████████████████████████████| 118/118 [00:01<00:00, 113.77it/s, loss=119]\n"
     ]
    },
    {
     "name": "stdout",
     "output_type": "stream",
     "text": [
      "Saving Model with loss 120.145...\n"
     ]
    },
    {
     "name": "stderr",
     "output_type": "stream",
     "text": [
      "Epoch [109/500]: 100%|████████████████████████████████████████████████████| 118/118 [00:00<00:00, 150.15it/s, loss=115]\n"
     ]
    },
    {
     "name": "stdout",
     "output_type": "stream",
     "text": [
      "Saving Model with loss 120.116...\n"
     ]
    },
    {
     "name": "stderr",
     "output_type": "stream",
     "text": [
      "Epoch [110/500]: 100%|████████████████████████████████████████████████████| 118/118 [00:00<00:00, 137.74it/s, loss=134]\n",
      "Epoch [111/500]: 100%|████████████████████████████████████████████████████| 118/118 [00:00<00:00, 147.15it/s, loss=127]\n",
      "Epoch [112/500]: 100%|████████████████████████████████████████████████████| 118/118 [00:00<00:00, 150.52it/s, loss=128]\n",
      "Epoch [113/500]: 100%|████████████████████████████████████████████████████| 118/118 [00:00<00:00, 133.54it/s, loss=133]\n"
     ]
    },
    {
     "name": "stdout",
     "output_type": "stream",
     "text": [
      "Saving Model with loss 120.086...\n"
     ]
    },
    {
     "name": "stderr",
     "output_type": "stream",
     "text": [
      "Epoch [114/500]: 100%|████████████████████████████████████████████████████| 118/118 [00:00<00:00, 126.00it/s, loss=143]\n",
      "Epoch [115/500]: 100%|████████████████████████████████████████████████████| 118/118 [00:00<00:00, 133.00it/s, loss=110]\n"
     ]
    },
    {
     "name": "stdout",
     "output_type": "stream",
     "text": [
      "Saving Model with loss 120.038...\n"
     ]
    },
    {
     "name": "stderr",
     "output_type": "stream",
     "text": [
      "Epoch [116/500]: 100%|████████████████████████████████████████████████████| 118/118 [00:00<00:00, 121.10it/s, loss=113]\n"
     ]
    },
    {
     "name": "stdout",
     "output_type": "stream",
     "text": [
      "Saving Model with loss 119.900...\n"
     ]
    },
    {
     "name": "stderr",
     "output_type": "stream",
     "text": [
      "Epoch [117/500]: 100%|████████████████████████████████████████████████████| 118/118 [00:00<00:00, 138.22it/s, loss=103]\n"
     ]
    },
    {
     "name": "stdout",
     "output_type": "stream",
     "text": [
      "Saving Model with loss 119.871...\n"
     ]
    },
    {
     "name": "stderr",
     "output_type": "stream",
     "text": [
      "Epoch [118/500]: 100%|████████████████████████████████████████████████████| 118/118 [00:00<00:00, 147.39it/s, loss=113]\n",
      "Epoch [119/500]: 100%|████████████████████████████████████████████████████| 118/118 [00:00<00:00, 143.41it/s, loss=126]\n",
      "Epoch [120/500]: 100%|████████████████████████████████████████████████████| 118/118 [00:00<00:00, 135.99it/s, loss=120]\n",
      "Epoch [121/500]: 100%|████████████████████████████████████████████████████| 118/118 [00:00<00:00, 135.68it/s, loss=133]\n",
      "Epoch [122/500]: 100%|████████████████████████████████████████████████████| 118/118 [00:00<00:00, 125.87it/s, loss=125]\n"
     ]
    },
    {
     "name": "stdout",
     "output_type": "stream",
     "text": [
      "Saving Model with loss 119.865...\n"
     ]
    },
    {
     "name": "stderr",
     "output_type": "stream",
     "text": [
      "Epoch [123/500]: 100%|████████████████████████████████████████████████████| 118/118 [00:00<00:00, 144.46it/s, loss=113]\n"
     ]
    },
    {
     "name": "stdout",
     "output_type": "stream",
     "text": [
      "Saving Model with loss 119.796...\n"
     ]
    },
    {
     "name": "stderr",
     "output_type": "stream",
     "text": [
      "Epoch [124/500]: 100%|████████████████████████████████████████████████████| 118/118 [00:00<00:00, 140.35it/s, loss=129]\n",
      "Epoch [125/500]: 100%|████████████████████████████████████████████████████| 118/118 [00:00<00:00, 142.71it/s, loss=116]\n"
     ]
    },
    {
     "name": "stdout",
     "output_type": "stream",
     "text": [
      "Saving Model with loss 119.786...\n"
     ]
    },
    {
     "name": "stderr",
     "output_type": "stream",
     "text": [
      "Epoch [126/500]: 100%|████████████████████████████████████████████████████| 118/118 [00:00<00:00, 142.54it/s, loss=103]\n"
     ]
    },
    {
     "name": "stdout",
     "output_type": "stream",
     "text": [
      "Saving Model with loss 119.770...\n"
     ]
    },
    {
     "name": "stderr",
     "output_type": "stream",
     "text": [
      "Epoch [127/500]: 100%|████████████████████████████████████████████████████| 118/118 [00:00<00:00, 146.39it/s, loss=141]\n",
      "Epoch [128/500]: 100%|████████████████████████████████████████████████████| 118/118 [00:00<00:00, 136.49it/s, loss=106]\n"
     ]
    },
    {
     "name": "stdout",
     "output_type": "stream",
     "text": [
      "Saving Model with loss 119.669...\n"
     ]
    },
    {
     "name": "stderr",
     "output_type": "stream",
     "text": [
      "Epoch [129/500]: 100%|███████████████████████████████████████████████████| 118/118 [00:00<00:00, 141.23it/s, loss=77.9]\n",
      "Epoch [130/500]: 100%|████████████████████████████████████████████████████| 118/118 [00:00<00:00, 152.27it/s, loss=103]\n"
     ]
    },
    {
     "name": "stdout",
     "output_type": "stream",
     "text": [
      "Saving Model with loss 119.666...\n"
     ]
    },
    {
     "name": "stderr",
     "output_type": "stream",
     "text": [
      "Epoch [131/500]: 100%|████████████████████████████████████████████████████| 118/118 [00:00<00:00, 137.10it/s, loss=121]\n",
      "Epoch [132/500]: 100%|████████████████████████████████████████████████████| 118/118 [00:00<00:00, 148.44it/s, loss=106]\n",
      "Epoch [133/500]: 100%|████████████████████████████████████████████████████| 118/118 [00:00<00:00, 152.08it/s, loss=130]\n",
      "Epoch [134/500]: 100%|████████████████████████████████████████████████████| 118/118 [00:00<00:00, 134.60it/s, loss=110]\n"
     ]
    },
    {
     "name": "stdout",
     "output_type": "stream",
     "text": [
      "Saving Model with loss 119.585...\n"
     ]
    },
    {
     "name": "stderr",
     "output_type": "stream",
     "text": [
      "Epoch [135/500]: 100%|████████████████████████████████████████████████████| 118/118 [00:00<00:00, 146.17it/s, loss=108]\n",
      "Epoch [136/500]: 100%|████████████████████████████████████████████████████| 118/118 [00:00<00:00, 146.98it/s, loss=125]\n",
      "Epoch [137/500]: 100%|████████████████████████████████████████████████████| 118/118 [00:00<00:00, 143.07it/s, loss=115]\n"
     ]
    },
    {
     "name": "stdout",
     "output_type": "stream",
     "text": [
      "Saving Model with loss 119.583...\n"
     ]
    },
    {
     "name": "stderr",
     "output_type": "stream",
     "text": [
      "Epoch [138/500]: 100%|████████████████████████████████████████████████████| 118/118 [00:00<00:00, 153.06it/s, loss=110]\n",
      "Epoch [139/500]: 100%|████████████████████████████████████████████████████| 118/118 [00:00<00:00, 151.69it/s, loss=120]\n",
      "Epoch [140/500]: 100%|████████████████████████████████████████████████████| 118/118 [00:00<00:00, 136.84it/s, loss=102]\n"
     ]
    },
    {
     "name": "stdout",
     "output_type": "stream",
     "text": [
      "Saving Model with loss 119.514...\n"
     ]
    },
    {
     "name": "stderr",
     "output_type": "stream",
     "text": [
      "Epoch [141/500]: 100%|████████████████████████████████████████████████████| 118/118 [00:00<00:00, 144.89it/s, loss=112]\n",
      "Epoch [142/500]: 100%|████████████████████████████████████████████████████| 118/118 [00:00<00:00, 147.71it/s, loss=112]\n",
      "Epoch [143/500]: 100%|████████████████████████████████████████████████████| 118/118 [00:00<00:00, 136.74it/s, loss=118]\n",
      "Epoch [144/500]: 100%|████████████████████████████████████████████████████| 118/118 [00:00<00:00, 141.64it/s, loss=119]\n"
     ]
    },
    {
     "name": "stdout",
     "output_type": "stream",
     "text": [
      "Saving Model with loss 119.477...\n"
     ]
    },
    {
     "name": "stderr",
     "output_type": "stream",
     "text": [
      "Epoch [145/500]: 100%|████████████████████████████████████████████████████| 118/118 [00:00<00:00, 148.94it/s, loss=134]\n",
      "Epoch [146/500]: 100%|████████████████████████████████████████████████████| 118/118 [00:00<00:00, 138.29it/s, loss=106]\n",
      "Epoch [147/500]: 100%|████████████████████████████████████████████████████| 118/118 [00:00<00:00, 147.16it/s, loss=103]\n",
      "Epoch [148/500]: 100%|███████████████████████████████████████████████████| 118/118 [00:00<00:00, 149.39it/s, loss=95.9]\n",
      "Epoch [149/500]: 100%|████████████████████████████████████████████████████| 118/118 [00:00<00:00, 144.99it/s, loss=112]\n"
     ]
    },
    {
     "name": "stdout",
     "output_type": "stream",
     "text": [
      "Saving Model with loss 119.418...\n"
     ]
    },
    {
     "name": "stderr",
     "output_type": "stream",
     "text": [
      "Epoch [150/500]: 100%|████████████████████████████████████████████████████| 118/118 [00:00<00:00, 145.89it/s, loss=119]\n",
      "Epoch [151/500]: 100%|████████████████████████████████████████████████████| 118/118 [00:00<00:00, 148.08it/s, loss=142]\n",
      "Epoch [152/500]: 100%|████████████████████████████████████████████████████| 118/118 [00:00<00:00, 132.98it/s, loss=106]\n",
      "Epoch [153/500]: 100%|████████████████████████████████████████████████████| 118/118 [00:00<00:00, 142.64it/s, loss=134]\n",
      "Epoch [154/500]: 100%|████████████████████████████████████████████████████| 118/118 [00:00<00:00, 129.26it/s, loss=129]\n",
      "Epoch [155/500]: 100%|████████████████████████████████████████████████████| 118/118 [00:01<00:00, 117.67it/s, loss=138]\n",
      "Epoch [156/500]: 100%|████████████████████████████████████████████████████| 118/118 [00:00<00:00, 128.88it/s, loss=104]\n",
      "Epoch [157/500]: 100%|████████████████████████████████████████████████████| 118/118 [00:00<00:00, 139.98it/s, loss=125]\n",
      "Epoch [158/500]: 100%|█████████████████████████████████████████████████████| 118/118 [00:00<00:00, 136.62it/s, loss=98]\n",
      "Epoch [159/500]: 100%|████████████████████████████████████████████████████| 118/118 [00:00<00:00, 137.74it/s, loss=123]\n",
      "Epoch [160/500]: 100%|████████████████████████████████████████████████████| 118/118 [00:00<00:00, 149.40it/s, loss=133]\n"
     ]
    },
    {
     "name": "stdout",
     "output_type": "stream",
     "text": [
      "Saving Model with loss 119.411...\n"
     ]
    },
    {
     "name": "stderr",
     "output_type": "stream",
     "text": [
      "Epoch [161/500]: 100%|████████████████████████████████████████████████████| 118/118 [00:00<00:00, 137.95it/s, loss=108]\n",
      "Epoch [162/500]: 100%|████████████████████████████████████████████████████| 118/118 [00:00<00:00, 141.19it/s, loss=122]\n",
      "Epoch [163/500]: 100%|████████████████████████████████████████████████████| 118/118 [00:00<00:00, 135.68it/s, loss=114]\n"
     ]
    },
    {
     "name": "stdout",
     "output_type": "stream",
     "text": [
      "Saving Model with loss 119.316...\n"
     ]
    },
    {
     "name": "stderr",
     "output_type": "stream",
     "text": [
      "Epoch [164/500]: 100%|████████████████████████████████████████████████████| 118/118 [00:00<00:00, 139.71it/s, loss=115]\n",
      "Epoch [165/500]: 100%|████████████████████████████████████████████████████| 118/118 [00:00<00:00, 136.78it/s, loss=120]\n"
     ]
    },
    {
     "name": "stdout",
     "output_type": "stream",
     "text": [
      "Saving Model with loss 119.314...\n"
     ]
    },
    {
     "name": "stderr",
     "output_type": "stream",
     "text": [
      "Epoch [166/500]: 100%|████████████████████████████████████████████████████| 118/118 [00:00<00:00, 146.27it/s, loss=104]\n",
      "Epoch [167/500]: 100%|████████████████████████████████████████████████████| 118/118 [00:00<00:00, 145.09it/s, loss=112]\n"
     ]
    },
    {
     "name": "stdout",
     "output_type": "stream",
     "text": [
      "Saving Model with loss 119.295...\n"
     ]
    },
    {
     "name": "stderr",
     "output_type": "stream",
     "text": [
      "Epoch [168/500]: 100%|████████████████████████████████████████████████████| 118/118 [00:00<00:00, 150.34it/s, loss=120]\n",
      "Epoch [169/500]: 100%|████████████████████████████████████████████████████| 118/118 [00:00<00:00, 151.69it/s, loss=141]\n",
      "Epoch [170/500]: 100%|████████████████████████████████████████████████████| 118/118 [00:00<00:00, 144.29it/s, loss=127]\n"
     ]
    },
    {
     "name": "stdout",
     "output_type": "stream",
     "text": [
      "Saving Model with loss 119.250...\n"
     ]
    },
    {
     "name": "stderr",
     "output_type": "stream",
     "text": [
      "Epoch [171/500]: 100%|████████████████████████████████████████████████████| 118/118 [00:00<00:00, 151.18it/s, loss=123]\n",
      "Epoch [172/500]: 100%|████████████████████████████████████████████████████| 118/118 [00:00<00:00, 149.38it/s, loss=103]\n",
      "Epoch [173/500]: 100%|████████████████████████████████████████████████████| 118/118 [00:00<00:00, 148.09it/s, loss=103]\n",
      "Epoch [174/500]: 100%|████████████████████████████████████████████████████| 118/118 [00:00<00:00, 145.36it/s, loss=102]\n",
      "Epoch [175/500]: 100%|███████████████████████████████████████████████████| 118/118 [00:00<00:00, 142.72it/s, loss=77.3]\n",
      "Epoch [176/500]: 100%|████████████████████████████████████████████████████| 118/118 [00:00<00:00, 143.94it/s, loss=135]\n",
      "Epoch [177/500]: 100%|████████████████████████████████████████████████████| 118/118 [00:00<00:00, 131.02it/s, loss=149]\n",
      "Epoch [178/500]: 100%|████████████████████████████████████████████████████| 118/118 [00:00<00:00, 135.53it/s, loss=110]\n",
      "Epoch [179/500]: 100%|████████████████████████████████████████████████████| 118/118 [00:00<00:00, 131.66it/s, loss=134]\n",
      "Epoch [180/500]: 100%|████████████████████████████████████████████████████| 118/118 [00:00<00:00, 136.70it/s, loss=113]\n",
      "Epoch [181/500]: 100%|████████████████████████████████████████████████████| 118/118 [00:00<00:00, 149.20it/s, loss=111]\n",
      "Epoch [182/500]: 100%|████████████████████████████████████████████████████| 118/118 [00:00<00:00, 147.16it/s, loss=109]\n",
      "Epoch [183/500]: 100%|████████████████████████████████████████████████████| 118/118 [00:00<00:00, 138.85it/s, loss=103]\n",
      "Epoch [184/500]: 100%|████████████████████████████████████████████████████| 118/118 [00:00<00:00, 147.89it/s, loss=107]\n",
      "Epoch [185/500]: 100%|████████████████████████████████████████████████████| 118/118 [00:00<00:00, 147.89it/s, loss=187]\n",
      "Epoch [186/500]: 100%|████████████████████████████████████████████████████| 118/118 [00:00<00:00, 128.60it/s, loss=115]\n",
      "Epoch [187/500]: 100%|████████████████████████████████████████████████████| 118/118 [00:00<00:00, 131.90it/s, loss=102]\n",
      "Epoch [188/500]: 100%|████████████████████████████████████████████████████| 118/118 [00:00<00:00, 136.15it/s, loss=110]\n",
      "Epoch [189/500]: 100%|████████████████████████████████████████████████████| 118/118 [00:00<00:00, 141.91it/s, loss=113]\n",
      "Epoch [190/500]: 100%|████████████████████████████████████████████████████| 118/118 [00:00<00:00, 148.08it/s, loss=118]\n",
      "Epoch [191/500]: 100%|███████████████████████████████████████████████████| 118/118 [00:00<00:00, 131.00it/s, loss=88.3]\n",
      "Epoch [192/500]: 100%|████████████████████████████████████████████████████| 118/118 [00:00<00:00, 127.08it/s, loss=132]\n"
     ]
    },
    {
     "name": "stdout",
     "output_type": "stream",
     "text": [
      "Saving Model with loss 119.201...\n"
     ]
    },
    {
     "name": "stderr",
     "output_type": "stream",
     "text": [
      "Epoch [193/500]: 100%|████████████████████████████████████████████████████| 118/118 [00:00<00:00, 126.54it/s, loss=113]\n",
      "Epoch [194/500]: 100%|████████████████████████████████████████████████████| 118/118 [00:01<00:00, 108.45it/s, loss=133]\n",
      "Epoch [195/500]: 100%|████████████████████████████████████████████████████| 118/118 [00:01<00:00, 104.52it/s, loss=113]\n"
     ]
    },
    {
     "name": "stdout",
     "output_type": "stream",
     "text": [
      "Saving Model with loss 119.183...\n"
     ]
    },
    {
     "name": "stderr",
     "output_type": "stream",
     "text": [
      "Epoch [196/500]: 100%|████████████████████████████████████████████████████| 118/118 [00:00<00:00, 127.91it/s, loss=129]\n"
     ]
    },
    {
     "name": "stdout",
     "output_type": "stream",
     "text": [
      "Saving Model with loss 119.129...\n"
     ]
    },
    {
     "name": "stderr",
     "output_type": "stream",
     "text": [
      "Epoch [197/500]: 100%|████████████████████████████████████████████████████| 118/118 [00:01<00:00, 111.83it/s, loss=117]\n",
      "Epoch [198/500]: 100%|████████████████████████████████████████████████████| 118/118 [00:01<00:00, 104.88it/s, loss=123]\n",
      "Epoch [199/500]: 100%|████████████████████████████████████████████████████| 118/118 [00:01<00:00, 106.98it/s, loss=135]\n",
      "Epoch [200/500]: 100%|████████████████████████████████████████████████████| 118/118 [00:01<00:00, 107.95it/s, loss=102]\n",
      "Epoch [201/500]: 100%|████████████████████████████████████████████████████| 118/118 [00:01<00:00, 115.88it/s, loss=114]\n",
      "Epoch [202/500]: 100%|████████████████████████████████████████████████████| 118/118 [00:00<00:00, 134.51it/s, loss=115]\n",
      "Epoch [203/500]: 100%|███████████████████████████████████████████████████| 118/118 [00:00<00:00, 135.99it/s, loss=93.4]\n",
      "Epoch [204/500]: 100%|████████████████████████████████████████████████████| 118/118 [00:00<00:00, 136.39it/s, loss=101]\n",
      "Epoch [205/500]: 100%|████████████████████████████████████████████████████| 118/118 [00:00<00:00, 146.18it/s, loss=109]\n",
      "Epoch [206/500]: 100%|████████████████████████████████████████████████████| 118/118 [00:00<00:00, 134.45it/s, loss=165]\n",
      "Epoch [207/500]: 100%|████████████████████████████████████████████████████| 118/118 [00:00<00:00, 136.33it/s, loss=115]\n",
      "Epoch [208/500]: 100%|████████████████████████████████████████████████████| 118/118 [00:00<00:00, 138.70it/s, loss=126]\n",
      "Epoch [209/500]: 100%|███████████████████████████████████████████████████| 118/118 [00:00<00:00, 149.20it/s, loss=98.9]\n",
      "Epoch [210/500]: 100%|████████████████████████████████████████████████████| 118/118 [00:00<00:00, 140.18it/s, loss=105]\n",
      "Epoch [211/500]: 100%|███████████████████████████████████████████████████| 118/118 [00:00<00:00, 151.57it/s, loss=99.1]\n",
      "Epoch [212/500]: 100%|████████████████████████████████████████████████████| 118/118 [00:00<00:00, 151.30it/s, loss=106]\n",
      "Epoch [213/500]: 100%|████████████████████████████████████████████████████| 118/118 [00:00<00:00, 143.41it/s, loss=113]\n",
      "Epoch [214/500]: 100%|████████████████████████████████████████████████████| 118/118 [00:00<00:00, 149.98it/s, loss=136]\n",
      "Epoch [215/500]: 100%|████████████████████████████████████████████████████| 118/118 [00:00<00:00, 148.86it/s, loss=114]\n",
      "Epoch [216/500]: 100%|████████████████████████████████████████████████████| 118/118 [00:00<00:00, 140.37it/s, loss=112]\n",
      "Epoch [217/500]: 100%|████████████████████████████████████████████████████| 118/118 [00:00<00:00, 147.35it/s, loss=108]\n"
     ]
    },
    {
     "name": "stdout",
     "output_type": "stream",
     "text": [
      "Saving Model with loss 119.120...\n"
     ]
    },
    {
     "name": "stderr",
     "output_type": "stream",
     "text": [
      "Epoch [218/500]: 100%|████████████████████████████████████████████████████| 118/118 [00:00<00:00, 149.96it/s, loss=128]\n"
     ]
    },
    {
     "name": "stdout",
     "output_type": "stream",
     "text": [
      "Saving Model with loss 119.099...\n"
     ]
    },
    {
     "name": "stderr",
     "output_type": "stream",
     "text": [
      "Epoch [219/500]: 100%|████████████████████████████████████████████████████| 118/118 [00:00<00:00, 137.64it/s, loss=132]\n",
      "Epoch [220/500]: 100%|███████████████████████████████████████████████████| 118/118 [00:00<00:00, 144.06it/s, loss=98.7]\n",
      "Epoch [221/500]: 100%|████████████████████████████████████████████████████| 118/118 [00:00<00:00, 149.15it/s, loss=122]\n",
      "Epoch [222/500]: 100%|████████████████████████████████████████████████████| 118/118 [00:00<00:00, 140.68it/s, loss=126]\n",
      "Epoch [223/500]: 100%|████████████████████████████████████████████████████| 118/118 [00:00<00:00, 150.93it/s, loss=121]\n",
      "Epoch [224/500]: 100%|████████████████████████████████████████████████████| 118/118 [00:00<00:00, 143.61it/s, loss=120]\n",
      "Epoch [225/500]: 100%|████████████████████████████████████████████████████| 118/118 [00:00<00:00, 138.62it/s, loss=119]\n",
      "Epoch [226/500]: 100%|████████████████████████████████████████████████████| 118/118 [00:00<00:00, 146.15it/s, loss=100]\n",
      "Epoch [227/500]: 100%|████████████████████████████████████████████████████| 118/118 [00:00<00:00, 147.34it/s, loss=103]\n",
      "Epoch [228/500]: 100%|████████████████████████████████████████████████████| 118/118 [00:00<00:00, 141.70it/s, loss=115]\n",
      "Epoch [229/500]: 100%|████████████████████████████████████████████████████| 118/118 [00:00<00:00, 148.28it/s, loss=107]\n",
      "Epoch [230/500]: 100%|████████████████████████████████████████████████████| 118/118 [00:00<00:00, 144.64it/s, loss=102]\n",
      "Epoch [231/500]: 100%|████████████████████████████████████████████████████| 118/118 [00:00<00:00, 128.24it/s, loss=124]\n",
      "Epoch [232/500]: 100%|████████████████████████████████████████████████████| 118/118 [00:00<00:00, 129.59it/s, loss=124]\n"
     ]
    },
    {
     "name": "stdout",
     "output_type": "stream",
     "text": [
      "Saving Model with loss 119.076...\n"
     ]
    },
    {
     "name": "stderr",
     "output_type": "stream",
     "text": [
      "Epoch [233/500]: 100%|████████████████████████████████████████████████████| 118/118 [00:00<00:00, 122.48it/s, loss=103]\n",
      "Epoch [234/500]: 100%|████████████████████████████████████████████████████| 118/118 [00:00<00:00, 137.12it/s, loss=142]\n",
      "Epoch [235/500]: 100%|████████████████████████████████████████████████████| 118/118 [00:00<00:00, 147.34it/s, loss=120]\n",
      "Epoch [236/500]: 100%|████████████████████████████████████████████████████| 118/118 [00:00<00:00, 145.59it/s, loss=119]\n",
      "Epoch [237/500]: 100%|████████████████████████████████████████████████████| 118/118 [00:00<00:00, 135.53it/s, loss=123]\n",
      "Epoch [238/500]: 100%|████████████████████████████████████████████████████| 118/118 [00:00<00:00, 146.07it/s, loss=119]\n",
      "Epoch [239/500]: 100%|████████████████████████████████████████████████████| 118/118 [00:00<00:00, 143.49it/s, loss=141]\n",
      "Epoch [240/500]: 100%|████████████████████████████████████████████████████| 118/118 [00:00<00:00, 143.59it/s, loss=111]\n",
      "Epoch [241/500]: 100%|████████████████████████████████████████████████████| 118/118 [00:00<00:00, 143.94it/s, loss=123]\n",
      "Epoch [242/500]: 100%|████████████████████████████████████████████████████| 118/118 [00:00<00:00, 148.64it/s, loss=137]\n",
      "Epoch [243/500]: 100%|████████████████████████████████████████████████████| 118/118 [00:00<00:00, 142.80it/s, loss=117]\n",
      "Epoch [244/500]: 100%|████████████████████████████████████████████████████| 118/118 [00:00<00:00, 151.11it/s, loss=130]\n",
      "Epoch [245/500]: 100%|███████████████████████████████████████████████████| 118/118 [00:00<00:00, 145.72it/s, loss=86.7]\n"
     ]
    },
    {
     "name": "stdout",
     "output_type": "stream",
     "text": [
      "Saving Model with loss 119.073...\n"
     ]
    },
    {
     "name": "stderr",
     "output_type": "stream",
     "text": [
      "Epoch [246/500]: 100%|████████████████████████████████████████████████████| 118/118 [00:00<00:00, 138.53it/s, loss=114]\n",
      "Epoch [247/500]: 100%|███████████████████████████████████████████████████| 118/118 [00:00<00:00, 147.71it/s, loss=98.6]\n",
      "Epoch [248/500]: 100%|████████████████████████████████████████████████████| 118/118 [00:00<00:00, 149.39it/s, loss=135]\n",
      "Epoch [249/500]: 100%|████████████████████████████████████████████████████| 118/118 [00:00<00:00, 142.21it/s, loss=123]\n"
     ]
    },
    {
     "name": "stdout",
     "output_type": "stream",
     "text": [
      "Saving Model with loss 119.054...\n"
     ]
    },
    {
     "name": "stderr",
     "output_type": "stream",
     "text": [
      "Epoch [250/500]: 100%|████████████████████████████████████████████████████| 118/118 [00:00<00:00, 151.57it/s, loss=105]\n",
      "Epoch [251/500]: 100%|████████████████████████████████████████████████████| 118/118 [00:00<00:00, 133.99it/s, loss=117]\n",
      "Epoch [252/500]: 100%|████████████████████████████████████████████████████| 118/118 [00:00<00:00, 139.03it/s, loss=112]\n",
      "Epoch [253/500]: 100%|████████████████████████████████████████████████████| 118/118 [00:00<00:00, 140.20it/s, loss=131]\n",
      "Epoch [254/500]: 100%|████████████████████████████████████████████████████| 118/118 [00:00<00:00, 146.94it/s, loss=120]\n",
      "Epoch [255/500]: 100%|████████████████████████████████████████████████████| 118/118 [00:00<00:00, 137.91it/s, loss=129]\n",
      "Epoch [256/500]: 100%|████████████████████████████████████████████████████| 118/118 [00:00<00:00, 148.57it/s, loss=114]\n",
      "Epoch [257/500]: 100%|████████████████████████████████████████████████████| 118/118 [00:00<00:00, 145.71it/s, loss=125]\n"
     ]
    },
    {
     "name": "stdout",
     "output_type": "stream",
     "text": [
      "Saving Model with loss 118.998...\n"
     ]
    },
    {
     "name": "stderr",
     "output_type": "stream",
     "text": [
      "Epoch [258/500]: 100%|████████████████████████████████████████████████████| 118/118 [00:00<00:00, 141.91it/s, loss=105]\n",
      "Epoch [259/500]: 100%|████████████████████████████████████████████████████| 118/118 [00:01<00:00, 108.45it/s, loss=152]\n",
      "Epoch [260/500]: 100%|███████████████████████████████████████████████████| 118/118 [00:00<00:00, 128.86it/s, loss=98.1]\n",
      "Epoch [261/500]: 100%|████████████████████████████████████████████████████| 118/118 [00:00<00:00, 149.22it/s, loss=122]\n",
      "Epoch [262/500]: 100%|████████████████████████████████████████████████████| 118/118 [00:00<00:00, 140.36it/s, loss=108]\n",
      "Epoch [263/500]: 100%|████████████████████████████████████████████████████| 118/118 [00:00<00:00, 136.78it/s, loss=107]\n",
      "Epoch [264/500]: 100%|████████████████████████████████████████████████████| 118/118 [00:00<00:00, 140.35it/s, loss=117]\n",
      "Epoch [265/500]: 100%|███████████████████████████████████████████████████| 118/118 [00:00<00:00, 143.07it/s, loss=98.6]\n",
      "Epoch [266/500]: 100%|████████████████████████████████████████████████████| 118/118 [00:00<00:00, 141.36it/s, loss=107]\n",
      "Epoch [267/500]: 100%|████████████████████████████████████████████████████| 118/118 [00:00<00:00, 143.45it/s, loss=113]\n",
      "Epoch [268/500]: 100%|████████████████████████████████████████████████████| 118/118 [00:00<00:00, 137.36it/s, loss=109]\n",
      "Epoch [269/500]: 100%|███████████████████████████████████████████████████| 118/118 [00:00<00:00, 141.02it/s, loss=80.6]\n",
      "Epoch [270/500]: 100%|████████████████████████████████████████████████████| 118/118 [00:00<00:00, 126.45it/s, loss=136]\n",
      "Epoch [271/500]: 100%|████████████████████████████████████████████████████| 118/118 [00:00<00:00, 121.22it/s, loss=100]\n",
      "Epoch [272/500]: 100%|████████████████████████████████████████████████████| 118/118 [00:00<00:00, 122.99it/s, loss=100]\n",
      "Epoch [273/500]: 100%|████████████████████████████████████████████████████| 118/118 [00:00<00:00, 129.64it/s, loss=110]\n",
      "Epoch [274/500]: 100%|████████████████████████████████████████████████████| 118/118 [00:00<00:00, 131.32it/s, loss=152]\n"
     ]
    },
    {
     "name": "stdout",
     "output_type": "stream",
     "text": [
      "Saving Model with loss 118.961...\n"
     ]
    },
    {
     "name": "stderr",
     "output_type": "stream",
     "text": [
      "Epoch [275/500]: 100%|████████████████████████████████████████████████████| 118/118 [00:00<00:00, 145.78it/s, loss=133]\n",
      "Epoch [276/500]: 100%|████████████████████████████████████████████████████| 118/118 [00:00<00:00, 139.68it/s, loss=125]\n",
      "Epoch [277/500]: 100%|████████████████████████████████████████████████████| 118/118 [00:00<00:00, 132.79it/s, loss=106]\n",
      "Epoch [278/500]: 100%|████████████████████████████████████████████████████| 118/118 [00:00<00:00, 141.02it/s, loss=122]\n",
      "Epoch [279/500]: 100%|████████████████████████████████████████████████████| 118/118 [00:00<00:00, 134.30it/s, loss=126]\n",
      "Epoch [280/500]: 100%|████████████████████████████████████████████████████| 118/118 [00:00<00:00, 130.74it/s, loss=124]\n",
      "Epoch [281/500]: 100%|████████████████████████████████████████████████████| 118/118 [00:00<00:00, 134.01it/s, loss=164]\n",
      "Epoch [282/500]: 100%|████████████████████████████████████████████████████| 118/118 [00:00<00:00, 156.51it/s, loss=109]\n",
      "Epoch [283/500]: 100%|███████████████████████████████████████████████████| 118/118 [00:01<00:00, 100.79it/s, loss=98.7]\n",
      "Epoch [284/500]: 100%|████████████████████████████████████████████████████| 118/118 [00:00<00:00, 128.09it/s, loss=105]\n",
      "Epoch [285/500]: 100%|████████████████████████████████████████████████████| 118/118 [00:01<00:00, 116.22it/s, loss=138]\n",
      "Epoch [286/500]: 100%|████████████████████████████████████████████████████| 118/118 [00:01<00:00, 116.79it/s, loss=109]\n",
      "Epoch [287/500]: 100%|███████████████████████████████████████████████████| 118/118 [00:00<00:00, 118.82it/s, loss=86.6]\n",
      "Epoch [288/500]: 100%|████████████████████████████████████████████████████| 118/118 [00:01<00:00, 109.96it/s, loss=133]\n",
      "Epoch [289/500]: 100%|███████████████████████████████████████████████████| 118/118 [00:01<00:00, 110.16it/s, loss=96.7]\n",
      "Epoch [290/500]: 100%|█████████████████████████████████████████████████████| 118/118 [00:01<00:00, 96.43it/s, loss=125]\n",
      "Epoch [291/500]: 100%|█████████████████████████████████████████████████████| 118/118 [00:01<00:00, 96.06it/s, loss=116]\n",
      "Epoch [292/500]: 100%|████████████████████████████████████████████████████| 118/118 [00:00<00:00, 121.24it/s, loss=104]\n",
      "Epoch [293/500]: 100%|████████████████████████████████████████████████████| 118/118 [00:00<00:00, 122.15it/s, loss=122]\n",
      "Epoch [294/500]: 100%|████████████████████████████████████████████████████| 118/118 [00:01<00:00, 106.02it/s, loss=125]\n",
      "Epoch [295/500]: 100%|████████████████████████████████████████████████████| 118/118 [00:01<00:00, 113.62it/s, loss=110]\n",
      "Epoch [296/500]: 100%|████████████████████████████████████████████████████| 118/118 [00:00<00:00, 120.98it/s, loss=114]\n",
      "Epoch [297/500]: 100%|███████████████████████████████████████████████████| 118/118 [00:01<00:00, 115.20it/s, loss=94.7]\n",
      "Epoch [298/500]: 100%|████████████████████████████████████████████████████| 118/118 [00:00<00:00, 121.61it/s, loss=143]\n",
      "Epoch [299/500]: 100%|████████████████████████████████████████████████████| 118/118 [00:01<00:00, 117.46it/s, loss=125]\n",
      "Epoch [300/500]: 100%|████████████████████████████████████████████████████| 118/118 [00:00<00:00, 120.07it/s, loss=111]\n",
      "Epoch [301/500]: 100%|████████████████████████████████████████████████████| 118/118 [00:01<00:00, 104.98it/s, loss=101]\n",
      "Epoch [302/500]: 100%|████████████████████████████████████████████████████| 118/118 [00:01<00:00, 115.59it/s, loss=131]\n",
      "Epoch [303/500]: 100%|████████████████████████████████████████████████████| 118/118 [00:01<00:00, 102.00it/s, loss=111]\n",
      "Epoch [304/500]: 100%|█████████████████████████████████████████████████████| 118/118 [00:01<00:00, 94.58it/s, loss=106]\n",
      "Epoch [305/500]: 100%|█████████████████████████████████████████████████████| 118/118 [00:01<00:00, 95.10it/s, loss=105]\n",
      "Epoch [306/500]: 100%|█████████████████████████████████████████████████████| 118/118 [00:01<00:00, 96.70it/s, loss=138]\n",
      "Epoch [307/500]: 100%|████████████████████████████████████████████████████| 118/118 [00:01<00:00, 116.57it/s, loss=124]\n",
      "Epoch [308/500]: 100%|███████████████████████████████████████████████████| 118/118 [00:00<00:00, 118.66it/s, loss=94.1]\n",
      "Epoch [309/500]: 100%|████████████████████████████████████████████████████| 118/118 [00:01<00:00, 111.93it/s, loss=102]\n",
      "Epoch [310/500]: 100%|█████████████████████████████████████████████████████| 118/118 [00:01<00:00, 81.93it/s, loss=116]\n",
      "Epoch [311/500]: 100%|████████████████████████████████████████████████████| 118/118 [00:00<00:00, 125.02it/s, loss=133]\n",
      "Epoch [312/500]: 100%|███████████████████████████████████████████████████| 118/118 [00:00<00:00, 133.84it/s, loss=97.6]\n",
      "Epoch [313/500]: 100%|████████████████████████████████████████████████████| 118/118 [00:00<00:00, 147.11it/s, loss=111]\n",
      "Epoch [314/500]: 100%|████████████████████████████████████████████████████| 118/118 [00:00<00:00, 150.41it/s, loss=100]\n",
      "Epoch [315/500]: 100%|████████████████████████████████████████████████████| 118/118 [00:00<00:00, 129.69it/s, loss=103]\n",
      "Epoch [316/500]: 100%|████████████████████████████████████████████████████| 118/118 [00:00<00:00, 125.24it/s, loss=117]\n",
      "Epoch [317/500]: 100%|████████████████████████████████████████████████████| 118/118 [00:00<00:00, 147.53it/s, loss=103]\n",
      "Epoch [318/500]: 100%|████████████████████████████████████████████████████| 118/118 [00:00<00:00, 147.15it/s, loss=158]\n",
      "Epoch [319/500]: 100%|████████████████████████████████████████████████████| 118/118 [00:00<00:00, 140.05it/s, loss=111]\n"
     ]
    },
    {
     "name": "stdout",
     "output_type": "stream",
     "text": [
      "Saving Model with loss 118.958...\n"
     ]
    },
    {
     "name": "stderr",
     "output_type": "stream",
     "text": [
      "Epoch [320/500]: 100%|████████████████████████████████████████████████████| 118/118 [00:00<00:00, 143.47it/s, loss=118]\n",
      "Epoch [321/500]: 100%|████████████████████████████████████████████████████| 118/118 [00:00<00:00, 160.35it/s, loss=115]\n"
     ]
    },
    {
     "name": "stdout",
     "output_type": "stream",
     "text": [
      "Saving Model with loss 118.936...\n"
     ]
    },
    {
     "name": "stderr",
     "output_type": "stream",
     "text": [
      "Epoch [322/500]: 100%|███████████████████████████████████████████████████| 118/118 [00:00<00:00, 123.63it/s, loss=92.3]\n",
      "Epoch [323/500]: 100%|████████████████████████████████████████████████████| 118/118 [00:00<00:00, 141.49it/s, loss=113]\n"
     ]
    },
    {
     "name": "stdout",
     "output_type": "stream",
     "text": [
      "Saving Model with loss 118.927...\n"
     ]
    },
    {
     "name": "stderr",
     "output_type": "stream",
     "text": [
      "Epoch [324/500]: 100%|████████████████████████████████████████████████████| 118/118 [00:00<00:00, 120.85it/s, loss=124]\n",
      "Epoch [325/500]: 100%|████████████████████████████████████████████████████| 118/118 [00:00<00:00, 143.49it/s, loss=109]\n",
      "Epoch [326/500]: 100%|████████████████████████████████████████████████████| 118/118 [00:00<00:00, 152.27it/s, loss=128]\n",
      "Epoch [327/500]: 100%|████████████████████████████████████████████████████| 118/118 [00:00<00:00, 134.77it/s, loss=118]\n",
      "Epoch [328/500]: 100%|████████████████████████████████████████████████████| 118/118 [00:00<00:00, 133.13it/s, loss=119]\n",
      "Epoch [329/500]: 100%|█████████████████████████████████████████████████████| 118/118 [00:00<00:00, 137.18it/s, loss=94]\n",
      "Epoch [330/500]: 100%|████████████████████████████████████████████████████| 118/118 [00:00<00:00, 134.64it/s, loss=114]\n",
      "Epoch [331/500]: 100%|████████████████████████████████████████████████████| 118/118 [00:00<00:00, 130.45it/s, loss=123]\n",
      "Epoch [332/500]: 100%|████████████████████████████████████████████████████| 118/118 [00:01<00:00, 110.47it/s, loss=133]\n",
      "Epoch [333/500]: 100%|████████████████████████████████████████████████████| 118/118 [00:00<00:00, 132.94it/s, loss=117]\n"
     ]
    },
    {
     "name": "stdout",
     "output_type": "stream",
     "text": [
      "Saving Model with loss 118.918...\n"
     ]
    },
    {
     "name": "stderr",
     "output_type": "stream",
     "text": [
      "Epoch [334/500]: 100%|███████████████████████████████████████████████████| 118/118 [00:01<00:00, 111.20it/s, loss=96.1]\n",
      "Epoch [335/500]: 100%|████████████████████████████████████████████████████| 118/118 [00:00<00:00, 139.76it/s, loss=120]\n",
      "Epoch [336/500]: 100%|████████████████████████████████████████████████████| 118/118 [00:00<00:00, 136.62it/s, loss=115]\n",
      "Epoch [337/500]: 100%|████████████████████████████████████████████████████| 118/118 [00:01<00:00, 116.46it/s, loss=168]\n",
      "Epoch [338/500]: 100%|████████████████████████████████████████████████████| 118/118 [00:00<00:00, 124.28it/s, loss=136]\n",
      "Epoch [339/500]: 100%|████████████████████████████████████████████████████| 118/118 [00:00<00:00, 136.47it/s, loss=105]\n",
      "Epoch [340/500]: 100%|████████████████████████████████████████████████████| 118/118 [00:00<00:00, 130.16it/s, loss=111]\n",
      "Epoch [341/500]: 100%|████████████████████████████████████████████████████| 118/118 [00:00<00:00, 126.54it/s, loss=100]\n",
      "Epoch [342/500]: 100%|████████████████████████████████████████████████████| 118/118 [00:00<00:00, 130.31it/s, loss=131]\n",
      "Epoch [343/500]: 100%|████████████████████████████████████████████████████| 118/118 [00:00<00:00, 148.64it/s, loss=141]\n",
      "Epoch [344/500]: 100%|███████████████████████████████████████████████████| 118/118 [00:00<00:00, 158.09it/s, loss=97.8]\n",
      "Epoch [345/500]: 100%|████████████████████████████████████████████████████| 118/118 [00:00<00:00, 158.39it/s, loss=110]\n",
      "Epoch [346/500]: 100%|████████████████████████████████████████████████████| 118/118 [00:00<00:00, 160.97it/s, loss=129]\n",
      "Epoch [347/500]: 100%|████████████████████████████████████████████████████| 118/118 [00:00<00:00, 164.33it/s, loss=113]\n",
      "Epoch [348/500]: 100%|████████████████████████████████████████████████████| 118/118 [00:00<00:00, 163.18it/s, loss=123]\n",
      "Epoch [349/500]: 100%|████████████████████████████████████████████████████| 118/118 [00:00<00:00, 157.67it/s, loss=133]\n",
      "Epoch [350/500]: 100%|████████████████████████████████████████████████████| 118/118 [00:00<00:00, 161.52it/s, loss=109]\n",
      "Epoch [351/500]: 100%|████████████████████████████████████████████████████| 118/118 [00:00<00:00, 159.41it/s, loss=103]\n",
      "Epoch [352/500]: 100%|████████████████████████████████████████████████████| 118/118 [00:00<00:00, 164.23it/s, loss=124]\n",
      "Epoch [353/500]: 100%|███████████████████████████████████████████████████| 118/118 [00:00<00:00, 157.08it/s, loss=95.2]\n",
      "Epoch [354/500]: 100%|███████████████████████████████████████████████████| 118/118 [00:00<00:00, 163.32it/s, loss=97.5]\n",
      "Epoch [355/500]: 100%|████████████████████████████████████████████████████| 118/118 [00:00<00:00, 159.24it/s, loss=129]\n",
      "Epoch [356/500]: 100%|████████████████████████████████████████████████████| 118/118 [00:00<00:00, 148.92it/s, loss=111]\n",
      "Epoch [357/500]: 100%|████████████████████████████████████████████████████| 118/118 [00:00<00:00, 135.35it/s, loss=141]\n",
      "Epoch [358/500]: 100%|████████████████████████████████████████████████████| 118/118 [00:00<00:00, 136.78it/s, loss=117]\n",
      "Epoch [359/500]: 100%|████████████████████████████████████████████████████| 118/118 [00:00<00:00, 128.44it/s, loss=109]\n",
      "Epoch [360/500]: 100%|████████████████████████████████████████████████████| 118/118 [00:00<00:00, 139.79it/s, loss=129]\n",
      "Epoch [361/500]: 100%|████████████████████████████████████████████████████| 118/118 [00:00<00:00, 136.30it/s, loss=117]\n",
      "Epoch [362/500]: 100%|████████████████████████████████████████████████████| 118/118 [00:00<00:00, 147.02it/s, loss=123]\n",
      "Epoch [363/500]: 100%|████████████████████████████████████████████████████| 118/118 [00:00<00:00, 138.40it/s, loss=103]\n",
      "Epoch [364/500]: 100%|███████████████████████████████████████████████████| 118/118 [00:00<00:00, 163.21it/s, loss=89.7]\n"
     ]
    },
    {
     "name": "stdout",
     "output_type": "stream",
     "text": [
      "Saving Model with loss 118.881...\n"
     ]
    },
    {
     "name": "stderr",
     "output_type": "stream",
     "text": [
      "Epoch [365/500]: 100%|████████████████████████████████████████████████████| 118/118 [00:00<00:00, 146.53it/s, loss=114]\n",
      "Epoch [366/500]: 100%|████████████████████████████████████████████████████| 118/118 [00:00<00:00, 160.58it/s, loss=103]\n",
      "Epoch [367/500]: 100%|████████████████████████████████████████████████████| 118/118 [00:00<00:00, 165.94it/s, loss=109]\n",
      "Epoch [368/500]: 100%|████████████████████████████████████████████████████| 118/118 [00:00<00:00, 157.54it/s, loss=105]\n",
      "Epoch [369/500]: 100%|████████████████████████████████████████████████████| 118/118 [00:00<00:00, 163.15it/s, loss=124]\n",
      "Epoch [370/500]: 100%|████████████████████████████████████████████████████| 118/118 [00:00<00:00, 153.46it/s, loss=101]\n",
      "Epoch [371/500]: 100%|████████████████████████████████████████████████████| 118/118 [00:00<00:00, 153.09it/s, loss=123]\n",
      "Epoch [372/500]: 100%|████████████████████████████████████████████████████| 118/118 [00:00<00:00, 159.85it/s, loss=103]\n",
      "Epoch [373/500]: 100%|████████████████████████████████████████████████████| 118/118 [00:00<00:00, 158.14it/s, loss=105]\n",
      "Epoch [374/500]: 100%|████████████████████████████████████████████████████| 118/118 [00:00<00:00, 145.71it/s, loss=137]\n",
      "Epoch [375/500]: 100%|███████████████████████████████████████████████████| 118/118 [00:00<00:00, 139.36it/s, loss=98.5]\n",
      "Epoch [376/500]: 100%|████████████████████████████████████████████████████| 118/118 [00:01<00:00, 117.64it/s, loss=151]\n",
      "Epoch [377/500]: 100%|████████████████████████████████████████████████████| 118/118 [00:00<00:00, 138.00it/s, loss=121]\n",
      "Epoch [378/500]: 100%|████████████████████████████████████████████████████| 118/118 [00:00<00:00, 151.12it/s, loss=112]\n",
      "Epoch [379/500]: 100%|████████████████████████████████████████████████████| 118/118 [00:00<00:00, 163.06it/s, loss=121]\n",
      "Epoch [380/500]: 100%|████████████████████████████████████████████████████| 118/118 [00:00<00:00, 145.39it/s, loss=118]\n",
      "Epoch [381/500]: 100%|█████████████████████████████████████████████████████| 118/118 [00:00<00:00, 154.54it/s, loss=92]\n",
      "Epoch [382/500]: 100%|████████████████████████████████████████████████████| 118/118 [00:00<00:00, 149.70it/s, loss=117]\n",
      "Epoch [383/500]: 100%|████████████████████████████████████████████████████| 118/118 [00:00<00:00, 135.05it/s, loss=137]\n",
      "Epoch [384/500]: 100%|████████████████████████████████████████████████████| 118/118 [00:00<00:00, 122.67it/s, loss=124]\n",
      "Epoch [385/500]: 100%|████████████████████████████████████████████████████| 118/118 [00:01<00:00, 110.56it/s, loss=152]\n",
      "Epoch [386/500]: 100%|████████████████████████████████████████████████████| 118/118 [00:00<00:00, 131.38it/s, loss=103]\n",
      "Epoch [387/500]: 100%|████████████████████████████████████████████████████| 118/118 [00:00<00:00, 159.61it/s, loss=113]\n",
      "Epoch [388/500]: 100%|████████████████████████████████████████████████████| 118/118 [00:00<00:00, 148.53it/s, loss=138]\n",
      "Epoch [389/500]: 100%|████████████████████████████████████████████████████| 118/118 [00:00<00:00, 145.48it/s, loss=103]\n",
      "Epoch [390/500]: 100%|████████████████████████████████████████████████████| 118/118 [00:00<00:00, 155.34it/s, loss=123]\n",
      "Epoch [391/500]: 100%|████████████████████████████████████████████████████| 118/118 [00:00<00:00, 158.77it/s, loss=105]\n",
      "Epoch [392/500]: 100%|████████████████████████████████████████████████████| 118/118 [00:00<00:00, 144.22it/s, loss=109]\n",
      "Epoch [393/500]: 100%|████████████████████████████████████████████████████| 118/118 [00:00<00:00, 129.56it/s, loss=111]\n",
      "Epoch [394/500]: 100%|████████████████████████████████████████████████████| 118/118 [00:00<00:00, 131.68it/s, loss=152]\n",
      "Epoch [395/500]: 100%|███████████████████████████████████████████████████| 118/118 [00:00<00:00, 148.09it/s, loss=95.4]\n",
      "Epoch [396/500]: 100%|████████████████████████████████████████████████████| 118/118 [00:00<00:00, 151.26it/s, loss=121]\n",
      "Epoch [397/500]: 100%|████████████████████████████████████████████████████| 118/118 [00:00<00:00, 160.68it/s, loss=161]\n",
      "Epoch [398/500]: 100%|████████████████████████████████████████████████████| 118/118 [00:00<00:00, 147.74it/s, loss=112]\n",
      "Epoch [399/500]: 100%|████████████████████████████████████████████████████| 118/118 [00:00<00:00, 161.85it/s, loss=119]\n",
      "Epoch [400/500]: 100%|████████████████████████████████████████████████████| 118/118 [00:00<00:00, 163.64it/s, loss=110]\n",
      "Epoch [401/500]: 100%|████████████████████████████████████████████████████| 118/118 [00:00<00:00, 135.12it/s, loss=104]\n",
      "Epoch [402/500]: 100%|████████████████████████████████████████████████████| 118/118 [00:00<00:00, 150.37it/s, loss=128]\n",
      "Epoch [403/500]: 100%|████████████████████████████████████████████████████| 118/118 [00:00<00:00, 131.39it/s, loss=126]\n",
      "Epoch [404/500]: 100%|████████████████████████████████████████████████████| 118/118 [00:00<00:00, 137.90it/s, loss=133]\n",
      "Epoch [405/500]: 100%|████████████████████████████████████████████████████| 118/118 [00:00<00:00, 134.09it/s, loss=118]\n",
      "Epoch [406/500]: 100%|████████████████████████████████████████████████████| 118/118 [00:00<00:00, 147.90it/s, loss=114]\n",
      "Epoch [407/500]: 100%|████████████████████████████████████████████████████| 118/118 [00:00<00:00, 141.06it/s, loss=106]\n",
      "Epoch [408/500]: 100%|████████████████████████████████████████████████████| 118/118 [00:00<00:00, 153.15it/s, loss=120]\n",
      "Epoch [409/500]: 100%|████████████████████████████████████████████████████| 118/118 [00:00<00:00, 153.50it/s, loss=124]\n",
      "Epoch [410/500]: 100%|████████████████████████████████████████████████████| 118/118 [00:00<00:00, 144.33it/s, loss=125]\n",
      "Epoch [411/500]: 100%|████████████████████████████████████████████████████| 118/118 [00:01<00:00, 117.40it/s, loss=115]\n",
      "Epoch [412/500]: 100%|████████████████████████████████████████████████████| 118/118 [00:00<00:00, 120.40it/s, loss=155]\n",
      "Epoch [413/500]: 100%|███████████████████████████████████████████████████| 118/118 [00:00<00:00, 131.53it/s, loss=91.8]\n",
      "Epoch [414/500]: 100%|████████████████████████████████████████████████████| 118/118 [00:00<00:00, 157.93it/s, loss=112]\n",
      "Epoch [415/500]: 100%|████████████████████████████████████████████████████| 118/118 [00:00<00:00, 145.74it/s, loss=120]\n",
      "Epoch [416/500]: 100%|████████████████████████████████████████████████████| 118/118 [00:00<00:00, 136.59it/s, loss=124]\n",
      "Epoch [417/500]: 100%|████████████████████████████████████████████████████| 118/118 [00:00<00:00, 152.36it/s, loss=101]\n",
      "Epoch [418/500]: 100%|████████████████████████████████████████████████████| 118/118 [00:00<00:00, 126.88it/s, loss=113]\n",
      "Epoch [419/500]: 100%|████████████████████████████████████████████████████| 118/118 [00:00<00:00, 147.36it/s, loss=102]\n",
      "Epoch [420/500]: 100%|████████████████████████████████████████████████████| 118/118 [00:00<00:00, 150.81it/s, loss=121]\n",
      "Epoch [421/500]: 100%|████████████████████████████████████████████████████| 118/118 [00:00<00:00, 125.29it/s, loss=118]\n",
      "Epoch [422/500]: 100%|████████████████████████████████████████████████████| 118/118 [00:00<00:00, 123.38it/s, loss=124]\n",
      "Epoch [423/500]: 100%|███████████████████████████████████████████████████| 118/118 [00:00<00:00, 139.22it/s, loss=90.6]\n",
      "Epoch [424/500]: 100%|████████████████████████████████████████████████████| 118/118 [00:00<00:00, 154.40it/s, loss=118]\n",
      "Epoch [425/500]: 100%|████████████████████████████████████████████████████| 118/118 [00:00<00:00, 145.89it/s, loss=105]\n",
      "Epoch [426/500]: 100%|████████████████████████████████████████████████████| 118/118 [00:00<00:00, 158.18it/s, loss=123]\n",
      "Epoch [427/500]: 100%|███████████████████████████████████████████████████| 118/118 [00:00<00:00, 161.51it/s, loss=96.6]\n",
      "Epoch [428/500]: 100%|████████████████████████████████████████████████████| 118/118 [00:00<00:00, 144.54it/s, loss=120]\n",
      "Epoch [429/500]: 100%|███████████████████████████████████████████████████| 118/118 [00:00<00:00, 159.05it/s, loss=96.1]\n",
      "Epoch [430/500]: 100%|████████████████████████████████████████████████████| 118/118 [00:00<00:00, 154.14it/s, loss=134]\n",
      "Epoch [431/500]: 100%|████████████████████████████████████████████████████| 118/118 [00:00<00:00, 152.28it/s, loss=113]\n",
      "Epoch [432/500]: 100%|████████████████████████████████████████████████████| 118/118 [00:00<00:00, 164.32it/s, loss=101]\n"
     ]
    },
    {
     "name": "stderr",
     "output_type": "stream",
     "text": [
      "Epoch [433/500]: 100%|████████████████████████████████████████████████████| 118/118 [00:00<00:00, 165.38it/s, loss=110]\n",
      "Epoch [434/500]: 100%|████████████████████████████████████████████████████| 118/118 [00:00<00:00, 153.55it/s, loss=123]\n",
      "Epoch [435/500]: 100%|████████████████████████████████████████████████████| 118/118 [00:00<00:00, 163.45it/s, loss=103]\n",
      "Epoch [436/500]: 100%|████████████████████████████████████████████████████| 118/118 [00:00<00:00, 160.75it/s, loss=108]\n",
      "Epoch [437/500]: 100%|████████████████████████████████████████████████████| 118/118 [00:00<00:00, 155.68it/s, loss=116]\n",
      "Epoch [438/500]: 100%|████████████████████████████████████████████████████| 118/118 [00:00<00:00, 160.85it/s, loss=119]\n",
      "Epoch [439/500]: 100%|████████████████████████████████████████████████████| 118/118 [00:00<00:00, 166.36it/s, loss=109]\n",
      "Epoch [440/500]: 100%|███████████████████████████████████████████████████| 118/118 [00:00<00:00, 166.02it/s, loss=87.1]\n",
      "Epoch [441/500]: 100%|████████████████████████████████████████████████████| 118/118 [00:00<00:00, 165.78it/s, loss=111]\n",
      "Epoch [442/500]: 100%|████████████████████████████████████████████████████| 118/118 [00:00<00:00, 166.17it/s, loss=112]\n",
      "Epoch [443/500]: 100%|████████████████████████████████████████████████████| 118/118 [00:00<00:00, 165.94it/s, loss=111]\n",
      "Epoch [444/500]: 100%|█████████████████████████████████████████████████████| 118/118 [00:00<00:00, 163.40it/s, loss=96]\n",
      "Epoch [445/500]: 100%|████████████████████████████████████████████████████| 118/118 [00:00<00:00, 166.31it/s, loss=100]\n",
      "Epoch [446/500]: 100%|███████████████████████████████████████████████████| 118/118 [00:00<00:00, 164.47it/s, loss=94.3]\n",
      "Epoch [447/500]: 100%|█████████████████████████████████████████████████████| 118/118 [00:00<00:00, 166.64it/s, loss=93]\n",
      "Epoch [448/500]: 100%|████████████████████████████████████████████████████| 118/118 [00:00<00:00, 164.79it/s, loss=118]\n",
      "Epoch [449/500]: 100%|████████████████████████████████████████████████████| 118/118 [00:00<00:00, 161.64it/s, loss=102]\n",
      "Epoch [450/500]: 100%|███████████████████████████████████████████████████| 118/118 [00:00<00:00, 138.22it/s, loss=93.4]\n",
      "Epoch [451/500]: 100%|███████████████████████████████████████████████████| 118/118 [00:00<00:00, 139.20it/s, loss=96.7]\n",
      "Epoch [452/500]: 100%|████████████████████████████████████████████████████| 118/118 [00:00<00:00, 150.34it/s, loss=138]\n",
      "Epoch [453/500]: 100%|████████████████████████████████████████████████████| 118/118 [00:00<00:00, 152.08it/s, loss=107]\n",
      "Epoch [454/500]: 100%|███████████████████████████████████████████████████| 118/118 [00:00<00:00, 165.58it/s, loss=91.3]\n",
      "Epoch [455/500]: 100%|████████████████████████████████████████████████████| 118/118 [00:00<00:00, 161.19it/s, loss=104]\n",
      "Epoch [456/500]: 100%|████████████████████████████████████████████████████| 118/118 [00:00<00:00, 153.32it/s, loss=134]\n",
      "Epoch [457/500]: 100%|███████████████████████████████████████████████████| 118/118 [00:00<00:00, 159.88it/s, loss=93.7]\n",
      "Epoch [458/500]: 100%|████████████████████████████████████████████████████| 118/118 [00:00<00:00, 162.56it/s, loss=117]\n",
      "Epoch [459/500]: 100%|████████████████████████████████████████████████████| 118/118 [00:00<00:00, 155.68it/s, loss=130]\n",
      "Epoch [460/500]: 100%|███████████████████████████████████████████████████| 118/118 [00:00<00:00, 166.24it/s, loss=80.3]\n",
      "Epoch [461/500]: 100%|████████████████████████████████████████████████████| 118/118 [00:00<00:00, 167.59it/s, loss=111]\n",
      "Epoch [462/500]: 100%|███████████████████████████████████████████████████| 118/118 [00:00<00:00, 156.74it/s, loss=98.4]\n",
      "Epoch [463/500]: 100%|████████████████████████████████████████████████████| 118/118 [00:00<00:00, 166.67it/s, loss=124]\n",
      "Epoch [464/500]: 100%|███████████████████████████████████████████████████| 118/118 [00:00<00:00, 161.54it/s, loss=94.4]\n"
     ]
    },
    {
     "name": "stdout",
     "output_type": "stream",
     "text": [
      "\n",
      "Model is not improving, so we halt the training sessions\n"
     ]
    }
   ],
   "source": [
    "model = FK_MLP(target_type=config['target_type']).cuda()\n",
    "trainer(train_loader, valid_loader, model, config, device)\n"
   ]
  },
  {
   "cell_type": "code",
   "execution_count": 31,
   "id": "850f71bd",
   "metadata": {},
   "outputs": [
    {
     "name": "stderr",
     "output_type": "stream",
     "text": [
      "100%|███████████████████████████████████████████████████████████████████████████████| 274/274 [00:00<00:00, 340.63it/s]\n"
     ]
    }
   ],
   "source": [
    "def save_pred(preds, labels=None, file=\"./checkpoints/pred.csv\"):\n",
    "    with open(file, 'w') as fp:\n",
    "        writer = csv.writer(fp)\n",
    "        \n",
    "        n = preds.shape[0]\n",
    "        if labels is not None:\n",
    "            for i in range(n):\n",
    "                writer.writerow(np.concatenate((preds[i], labels[i], labels[i] - preds[i])))\n",
    "        else :\n",
    "            for i1,p1 in enumerate(preds):\n",
    "                writer.writerow(p2)\n",
    "\n",
    "model.load_state_dict(torch.load(config['save_path']))\n",
    "preds = predict(valid_loader, model, device)\n",
    "save_pred(preds, valid_target, './checkpoints/pred.csv')"
   ]
  },
  {
   "cell_type": "code",
   "execution_count": null,
   "id": "05d0faae",
   "metadata": {},
   "outputs": [],
   "source": [
    "print(type(preds), type(valid_target))\n",
    "print(preds.shape, valid_target.shape)"
   ]
  },
  {
   "cell_type": "code",
   "execution_count": null,
   "id": "242473b5",
   "metadata": {},
   "outputs": [],
   "source": []
  }
 ],
 "metadata": {
  "kernelspec": {
   "display_name": "Python 3 (ipykernel)",
   "language": "python",
   "name": "python3"
  },
  "language_info": {
   "codemirror_mode": {
    "name": "ipython",
    "version": 3
   },
   "file_extension": ".py",
   "mimetype": "text/x-python",
   "name": "python",
   "nbconvert_exporter": "python",
   "pygments_lexer": "ipython3",
   "version": "3.7.10"
  }
 },
 "nbformat": 4,
 "nbformat_minor": 5
}
