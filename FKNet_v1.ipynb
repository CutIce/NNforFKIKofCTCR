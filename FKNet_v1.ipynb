{
 "cells": [
  {
   "cell_type": "markdown",
   "id": "4308ca42",
   "metadata": {},
   "source": [
    "### Import Packages"
   ]
  },
  {
   "cell_type": "code",
   "execution_count": 14,
   "id": "ecd790bb",
   "metadata": {},
   "outputs": [
    {
     "name": "stdout",
     "output_type": "stream",
     "text": [
      "1.8.0+cu111\n"
     ]
    }
   ],
   "source": [
    "%matplotlib inline\n",
    "\n",
    "import torch\n",
    "import torch.nn as nn\n",
    "from torch.utils.data import Dataset, DataLoader, random_split\n",
    "from torch.utils.tensorboard import SummaryWriter\n",
    "\n",
    "import math \n",
    "import numpy as np\n",
    "import csv\n",
    "import pandas as pd\n",
    "\n",
    "import sys\n",
    "import os\n",
    "\n",
    "from tqdm import tqdm\n",
    "\n",
    "print(torch.__version__)\n",
    "torch.set_default_tensor_type(torch.FloatTensor)"
   ]
  },
  {
   "cell_type": "markdown",
   "id": "1cf7b5c9",
   "metadata": {},
   "source": [
    "### Define Some utility Functions"
   ]
  },
  {
   "cell_type": "code",
   "execution_count": 15,
   "id": "fda7c8d2",
   "metadata": {},
   "outputs": [],
   "source": [
    "def same_seed(seed):\n",
    "    '''\n",
    "        Fixes random number generator seeds for reproducibility\n",
    "    '''\n",
    "    torch.backends.cudnn.deterministic = True\n",
    "    torch.backends.cudnn.benchmark = False\n",
    "    \n",
    "    np.random.seed(seed)\n",
    "    torch.manual_seed(seed)\n",
    "    if torch.cuda.is_available():\n",
    "        torch.cuda.manual_seed_all(seed)\n",
    "\n",
    "def train_valid_split(dataset, valid_ratio, seed, print_shape=False):\n",
    "    valid_set_size = int(valid_ratio * dataset.shape[0])\n",
    "    train_set_size = dataset.shape[0] - valid_set_size\n",
    "    \n",
    "    train_data, valid_data= random_split(dataset, [train_set_size, valid_set_size], generator=torch.Generator().manual_seed(seed))\n",
    "    \n",
    "    train_data = np.array(train_data)\n",
    "    valid_data = np.array(valid_data)\n",
    "    if print_shape:\n",
    "        print(f\"Origin Train Set size: {train_data.shape}, Origin Valid Set Size: {valid_data.shape}\")\n",
    "    \n",
    "    return train_data, valid_data\n",
    "\n",
    "def predict(valid_loader, model, device):\n",
    "    model.eval()\n",
    "    preds = []\n",
    "    for x, y in tqdm(valid_loader):\n",
    "        x = x.to(device)\n",
    "        with torch.no_grad():\n",
    "            pred = model(x)\n",
    "            preds.append(pred.detach().cpu())\n",
    "    preds = torch.cat(preds, dim=0).numpy()\n",
    "    return preds"
   ]
  },
  {
   "cell_type": "markdown",
   "id": "e1b2d81e",
   "metadata": {},
   "source": [
    "### Dataset"
   ]
  },
  {
   "cell_type": "code",
   "execution_count": 32,
   "id": "885330c1",
   "metadata": {},
   "outputs": [],
   "source": [
    "class CTCRDataset(Dataset):\n",
    "    '''\n",
    "    x: features,\n",
    "    y: Targets, if none, do prediction\n",
    "    '''\n",
    "    \n",
    "    def __init__(self, x, y=None):\n",
    "        if y is None:\n",
    "            self.y = y\n",
    "        else:\n",
    "            self.y = torch.FloatTensor(y)\n",
    "        \n",
    "        self.x = torch.FloatTensor(x)\n",
    "        \n",
    "    def __getitem__(self, idx):\n",
    "        if self.y is None:\n",
    "            return self.x[idx]\n",
    "        else:\n",
    "            return self.x[idx], self.y[idx]\n",
    "        \n",
    "    def __len__(self):\n",
    "        return len(self.x)    \n",
    "        "
   ]
  },
  {
   "cell_type": "markdown",
   "id": "b7d2182c",
   "metadata": {},
   "source": [
    "### Neural Network Model"
   ]
  },
  {
   "cell_type": "code",
   "execution_count": 33,
   "id": "a118b4b3",
   "metadata": {},
   "outputs": [],
   "source": [
    "class FK_MLP(nn.Module):\n",
    "    \n",
    "    def __init__(self, target_type=\"pose\"):\n",
    "        super(FK_MLP, self).__init__()\n",
    "        \n",
    "        self.target_type = target_type\n",
    "        \n",
    "        if target_type == \"3_points_pos\":\n",
    "            self.output_dims = 9\n",
    "        elif target_type == \"end_pos\":\n",
    "            self.output_dims = 3\n",
    "        else:\n",
    "            self.output_dims = 7\n",
    "            \n",
    "        self.layers = nn.Sequential(\n",
    "            nn.Linear(18, 512),\n",
    "            nn.ReLU(),\n",
    "            nn.Dropout(0.2),\n",
    "            \n",
    "            nn.Linear(512, 1024),\n",
    "            nn.ReLU(),\n",
    "            nn.Dropout(0.2),\n",
    "            \n",
    "            nn.Linear(1024, 256),\n",
    "            nn.ReLU(),\n",
    "            nn.Dropout(0.2),\n",
    "            \n",
    "            nn.Linear(256, 64),\n",
    "            nn.ReLU(),\n",
    "            nn.Dropout(0.2),\n",
    "            \n",
    "            nn.Linear(64, self.output_dims)\n",
    "        )\n",
    "        \n",
    "    def forward(self, x):\n",
    "        y = self.layers(x)\n",
    "        return y"
   ]
  },
  {
   "cell_type": "markdown",
   "id": "66cc5f37",
   "metadata": {},
   "source": [
    "### Training Loop"
   ]
  },
  {
   "cell_type": "code",
   "execution_count": 34,
   "id": "c5b1af7b",
   "metadata": {},
   "outputs": [],
   "source": [
    "def trainer(train_loader, valid_loader, model, config, device):\n",
    "    \n",
    "    criterion = nn.MSELoss(reduction='sum')\n",
    "    optimizer = torch.optim.Adam(params=model.parameters(), lr=config['learning_rate'], weight_decay=config['weight_decay'])\n",
    "    writer = SummaryWriter()\n",
    "    \n",
    "    if not os.path.isdir(\"./checkpoints\"):\n",
    "        os.mkdir(\"./checkpoints\")\n",
    "        \n",
    "    n_epochs, best_loss, step, early_stop_count = config['n_epochs'], math.inf, 0, 0\n",
    "    \n",
    "    for epoch in range(n_epochs):\n",
    "        model.train()\n",
    "        loss_record = []\n",
    "        \n",
    "        train_pbar = tqdm(train_loader, position=0, leave=True)\n",
    "        \n",
    "        for x, y in train_pbar:\n",
    "            optimizer.zero_grad()\n",
    "            \n",
    "            x, y = x.to(device), y.to(device)\n",
    "            pred = model(x)\n",
    "            loss = criterion(pred, y)\n",
    "            loss.backward()\n",
    "            \n",
    "            optimizer.step()\n",
    "            \n",
    "            step += 1\n",
    "            loss_record.append(loss.detach().item())\n",
    "            \n",
    "#             train_pbar.set_description(f\"[{epoch+1}/{n_epochs}]\")\n",
    "            train_pbar.set_description(f\"{epoch+1}\")\n",
    "            train_pbar.set_postfix({'loss': loss.detach().item()})\n",
    "        \n",
    "#         print(loss_record)\n",
    "            \n",
    "        mean_train_loss = sum(loss_record) / len(loss_record)\n",
    "        writer.add_scalar('Loss/Train', mean_train_loss, step)\n",
    "        \n",
    "        model.eval()\n",
    "        loss_record = []\n",
    "        \n",
    "        \n",
    "        for x, y in valid_loader:\n",
    "            x, y = x.to(device), y.to(device)\n",
    "            with torch.no_grad():\n",
    "                pred = model(x)\n",
    "                loss = criterion(pred, y)\n",
    "            loss_record.append(loss.item())\n",
    "        \n",
    "        \n",
    "        mean_valid_loss = sum(loss_record) / len(loss_record)\n",
    "        \n",
    "        if mean_valid_loss <= best_loss:\n",
    "            best_loss = mean_valid_loss\n",
    "            torch.save(model.state_dict(), config['save_path'])\n",
    "            print(\"Saving Model with loss {:.3f}...\".format(best_loss))\n",
    "            early_stop_count = 0\n",
    "        else:\n",
    "            early_stop_count += 1\n",
    "        \n",
    "        if early_stop_count >= config['early_stop']:\n",
    "            print(\"\\nModel is not improving, so we halt the training sessions\")\n",
    "            \n",
    "            return \n",
    "        \n",
    "                "
   ]
  },
  {
   "cell_type": "markdown",
   "id": "7181ee57",
   "metadata": {},
   "source": [
    "### Config"
   ]
  },
  {
   "cell_type": "code",
   "execution_count": 41,
   "id": "45699b96",
   "metadata": {},
   "outputs": [],
   "source": [
    "device = \"cuda\" if torch.cuda.is_available() else \"cpu\"\n",
    "\n",
    "config = {\n",
    "    'seed': 10,\n",
    "    'valid_ratio': 0.3,\n",
    "    'n_epochs': 200,\n",
    "    'batch_size': 128,\n",
    "    'learning_rate': 1e-3,\n",
    "    'weight_decay': 0,\n",
    "    'early_stop': 100,\n",
    "    'save_path': \"./checkpoints/model.ckpt\",\n",
    "    \"features_type\": \"all\",\n",
    "    \"target_type\": \"end_pos\",\n",
    "}"
   ]
  },
  {
   "cell_type": "markdown",
   "id": "207708ba",
   "metadata": {},
   "source": [
    "### Data Process And Dataloader"
   ]
  },
  {
   "cell_type": "markdown",
   "id": "061f9ef8",
   "metadata": {},
   "source": [
    "#### Select Features"
   ]
  },
  {
   "cell_type": "code",
   "execution_count": 42,
   "id": "2d7ec642",
   "metadata": {},
   "outputs": [],
   "source": [
    "L1 = 210\n",
    "L2 = 165\n",
    "L3 = 110\n",
    "\n",
    "Mb = np.array([\n",
    "    [-L1, 0,     0], \n",
    "    [-L1, L1-L2, 0],\n",
    "    [-L1, L1-L2, L2-L3]\n",
    "])\n",
    "\n",
    "T = np.zeros((4, 4))\n",
    "T[0:3, 0:3] = 1/2 * Mb\n",
    "T[0:3, 3:]  = 1/2 * np.dot(Mb, np.ones((3, 1)))\n",
    "T[3, 3] = 1\n",
    "\n",
    "\n",
    "invT = np.linalg.inv(T)\n",
    "\n",
    "def normalize_beta(origin_train_data, print_shape=False):\n",
    "    origin_train_beta = origin_train_data[:, [1, 3, 5, 6]]\n",
    "    origin_train_beta[:, 3:] = np.ones((origin_train_beta.shape[0], 1))\n",
    "    norm_beta = np.transpose(np.dot(invT, np.transpose(origin_train_beta)))\n",
    "    \n",
    "    \n",
    "    origin_train_delta_beta = origin_train_data[:, [7, 9, 11, 12]]\n",
    "    origin_train_delta_beta[:, 3:] = np.ones((origin_train_delta_beta.shape[0], 1))\n",
    "    norm_delta_beta = np.transpose(np.dot(invT, np.transpose(origin_train_delta_beta)))\n",
    "    \n",
    "    if print_shape:\n",
    "        print(f\"Normalized beta Shape : {norm_beta.shape}, Normalized delta beta Shape: {norm_delta_beta.shape}\")\n",
    "        \n",
    "    return norm_beta[:, 0:3], norm_delta_beta[:, 0:3]    \n",
    "\n",
    "\n",
    "def select_features_target(origin_train_data, origin_valid_data, test_data=None, features_type=\"all\", target_type=\"pose\", print_shape=False):\n",
    "    train_data = np.zeros((origin_train_data.shape[0], 18))\n",
    "    valid_data = np.zeros((origin_valid_data.shape[0], 18))\n",
    "   \n",
    "    for i in range(0, 12, 2):\n",
    "        train_data[:, 3*(i//2)  ] = np.cos(origin_train_data[:, i])\n",
    "        train_data[:, 3*(i//2)+1] = np.sin(origin_train_data[:, i])\n",
    "#         train_data[:, 3*(i//2)+2] = origin_train_data[:, i+1]\n",
    "\n",
    "        valid_data[:, 3*(i//2)  ] = np.cos(origin_valid_data[:, i])\n",
    "        valid_data[:, 3*(i//2)+1] = np.sin(origin_valid_data[:, i])\n",
    "#         valid_data[:, 3*(i//2)+2] = origin_valid_data[:, i+1]\n",
    "\n",
    "    train_norm_beta, train_nrom_delta_beta = normalize_beta(origin_train_data, print_shape=True)\n",
    "    valid_norm_beta, valid_norm_delta_beta = normalize_beta(origin_valid_data, print_shape=True)\n",
    "    \n",
    "    assert train_data.shape[0] == train_norm_beta.shape[0], \"Shape Error\"\n",
    "    assert valid_data.shape[0] == valid_norm_beta.shape[0], \"Shape Error\"\n",
    "    \n",
    "    for i in range(3):\n",
    "        train_data[:, 3*i+2] = train_norm_beta[:, i]\n",
    "        train_data[:, 3*i+11] = train_nrom_delta_beta[:, i]\n",
    "        \n",
    "        valid_data[:, 3*i+2] = valid_norm_beta[:, i]\n",
    "        valid_data[:, 3*i+11] = valid_norm_delta_beta[:, i]\n",
    "\n",
    "    \n",
    "    feature_idx = []\n",
    "    if features_type == \"all\":\n",
    "        feature_idx = list(range(train_data.shape[1]))\n",
    "    else:\n",
    "        pass\n",
    "    \n",
    "    if target_type == \"3_points_pos\":\n",
    "        train_target = np.concatenate((origin_train_data[:, 19:22], origin_train_data[:, 26:29], origin_train_data[:, -7:-4]), axis=1)\n",
    "        train_target = np.concatenate((origin_valid_data[:, 19:22], origin_valid_data[:, 26:29], origin_valid_data[:, -7:-4]), axis=1)\n",
    "    elif target_type == \"end_pos\":\n",
    "        train_target = origin_train_data[:, -7:-4]\n",
    "        valid_target = origin_valid_data[:, -7:-4]\n",
    "    else:\n",
    "        train_target = origin_train_data[:, -7:]\n",
    "        valid_target = origin_valid_data[:, -7:]\n",
    "    \n",
    "    if print_shape:\n",
    "        print(f\"Train data Shape: {train_data.shape}, Valid data shape: {valid_data.shape}\")\n",
    "        print(f\"Target Type = {target_type}, \\nTrain Target Shape: {train_target.shape}, Valid Target Shape: {valid_target.shape}\")\n",
    "    \n",
    "    if test_data == None:\n",
    "        return train_data[:, feature_idx], train_target, valid_data[:, feature_idx], valid_target\n",
    "    else:\n",
    "        return train_data[:, feature_idx], train_target, valid_data[:, feature_idx], valid_target, test_data[:, feature_idxe]"
   ]
  },
  {
   "cell_type": "markdown",
   "id": "6ceec798",
   "metadata": {},
   "source": [
    "#### Dataloader"
   ]
  },
  {
   "cell_type": "code",
   "execution_count": 43,
   "id": "f144f5fc",
   "metadata": {},
   "outputs": [
    {
     "name": "stdout",
     "output_type": "stream",
     "text": [
      "Origin Train Set size: (70000, 40), Origin Valid Set Size: (30000, 40)\n",
      "Normalized beta Shape : (70000, 4), Normalized delta beta Shape: (70000, 4)\n",
      "Normalized beta Shape : (30000, 4), Normalized delta beta Shape: (30000, 4)\n",
      "Train data Shape: (70000, 18), Valid data shape: (30000, 18)\n",
      "Target Type = end_pos, \n",
      "Train Target Shape: (70000, 3), Valid Target Shape: (30000, 3)\n"
     ]
    }
   ],
   "source": [
    "same_seed(config['seed'])\n",
    "path = \"./dataset/CRL-Dataset-CTCR-Pose.csv\"\n",
    "\n",
    "origin_data = pd.read_csv(path, header=None).values\n",
    "origin_train_data, origin_valid_data = train_valid_split(origin_data, valid_ratio=config['valid_ratio'], seed=config['seed'], print_shape=True)\n",
    "\n",
    "train_data, train_target, valid_data, valid_target = select_features_target(origin_train_data, origin_valid_data, test_data=None, features_type=config['features_type'], target_type=config['target_type'], print_shape=True)\n",
    "\n",
    "train_dataset, valid_dataset = CTCRDataset(train_data, train_target), CTCRDataset(valid_data, valid_target)\n",
    "train_loader = DataLoader(train_dataset, batch_size=config['batch_size'], shuffle=True, pin_memory=True)\n",
    "valid_loader = DataLoader(valid_dataset, batch_size=config['batch_size'], shuffle=True, pin_memory=True)\n"
   ]
  },
  {
   "cell_type": "code",
   "execution_count": null,
   "id": "773c7e3a",
   "metadata": {
    "scrolled": true
   },
   "outputs": [
    {
     "name": "stderr",
     "output_type": "stream",
     "text": [
      "1: 100%|██████████████████████████████████████████████████████████████| 547/547 [00:03<00:00, 145.75it/s, loss=1.21e+5]\n"
     ]
    },
    {
     "name": "stdout",
     "output_type": "stream",
     "text": [
      "Saving Model with loss 38569.833...\n"
     ]
    },
    {
     "name": "stderr",
     "output_type": "stream",
     "text": [
      "2: 100%|██████████████████████████████████████████████████████████████| 547/547 [00:03<00:00, 143.73it/s, loss=9.59e+4]\n"
     ]
    },
    {
     "name": "stdout",
     "output_type": "stream",
     "text": [
      "Saving Model with loss 38284.120...\n"
     ]
    },
    {
     "name": "stderr",
     "output_type": "stream",
     "text": [
      "3: 100%|██████████████████████████████████████████████████████████████| 547/547 [00:03<00:00, 141.14it/s, loss=8.96e+4]\n"
     ]
    },
    {
     "name": "stdout",
     "output_type": "stream",
     "text": [
      "Saving Model with loss 23008.012...\n"
     ]
    },
    {
     "name": "stderr",
     "output_type": "stream",
     "text": [
      "4: 100%|██████████████████████████████████████████████████████████████| 547/547 [00:03<00:00, 138.25it/s, loss=7.64e+4]\n"
     ]
    },
    {
     "name": "stdout",
     "output_type": "stream",
     "text": [
      "Saving Model with loss 8300.339...\n"
     ]
    },
    {
     "name": "stderr",
     "output_type": "stream",
     "text": [
      "5: 100%|██████████████████████████████████████████████████████████████| 547/547 [00:03<00:00, 137.94it/s, loss=7.17e+4]\n",
      "6: 100%|██████████████████████████████████████████████████████████████| 547/547 [00:03<00:00, 138.89it/s, loss=8.18e+4]\n"
     ]
    },
    {
     "name": "stdout",
     "output_type": "stream",
     "text": [
      "Saving Model with loss 6197.931...\n"
     ]
    },
    {
     "name": "stderr",
     "output_type": "stream",
     "text": [
      "7: 100%|█████████████████████████████████████████████████████████████████| 547/547 [00:03<00:00, 140.61it/s, loss=8e+4]\n"
     ]
    },
    {
     "name": "stdout",
     "output_type": "stream",
     "text": [
      "Saving Model with loss 4512.888...\n"
     ]
    },
    {
     "name": "stderr",
     "output_type": "stream",
     "text": [
      "8: 100%|██████████████████████████████████████████████████████████████| 547/547 [00:03<00:00, 139.54it/s, loss=7.45e+4]\n",
      "9: 100%|██████████████████████████████████████████████████████████████| 547/547 [00:04<00:00, 133.67it/s, loss=6.42e+4]\n"
     ]
    },
    {
     "name": "stdout",
     "output_type": "stream",
     "text": [
      "Saving Model with loss 4505.193...\n"
     ]
    },
    {
     "name": "stderr",
     "output_type": "stream",
     "text": [
      "10: 100%|█████████████████████████████████████████████████████████████| 547/547 [00:03<00:00, 137.98it/s, loss=6.33e+4]\n",
      "11: 100%|█████████████████████████████████████████████████████████████| 547/547 [00:04<00:00, 134.44it/s, loss=6.89e+4]\n"
     ]
    },
    {
     "name": "stdout",
     "output_type": "stream",
     "text": [
      "Saving Model with loss 4466.846...\n"
     ]
    },
    {
     "name": "stderr",
     "output_type": "stream",
     "text": [
      "12: 100%|█████████████████████████████████████████████████████████████| 547/547 [00:03<00:00, 137.26it/s, loss=7.84e+4]\n",
      "13: 100%|█████████████████████████████████████████████████████████████| 547/547 [00:03<00:00, 139.88it/s, loss=7.04e+4]\n",
      "14: 100%|█████████████████████████████████████████████████████████████| 547/547 [00:03<00:00, 139.84it/s, loss=6.24e+4]\n",
      "15: 100%|█████████████████████████████████████████████████████████████| 547/547 [00:03<00:00, 139.56it/s, loss=7.13e+4]\n"
     ]
    },
    {
     "name": "stdout",
     "output_type": "stream",
     "text": [
      "Saving Model with loss 4047.760...\n"
     ]
    },
    {
     "name": "stderr",
     "output_type": "stream",
     "text": [
      "16: 100%|█████████████████████████████████████████████████████████████| 547/547 [00:03<00:00, 139.03it/s, loss=7.15e+4]\n"
     ]
    },
    {
     "name": "stdout",
     "output_type": "stream",
     "text": [
      "Saving Model with loss 3614.991...\n"
     ]
    },
    {
     "name": "stderr",
     "output_type": "stream",
     "text": [
      "17: 100%|█████████████████████████████████████████████████████████████| 547/547 [00:03<00:00, 138.99it/s, loss=7.43e+4]\n"
     ]
    },
    {
     "name": "stdout",
     "output_type": "stream",
     "text": [
      "Saving Model with loss 3309.156...\n"
     ]
    },
    {
     "name": "stderr",
     "output_type": "stream",
     "text": [
      "18: 100%|█████████████████████████████████████████████████████████████| 547/547 [00:03<00:00, 138.39it/s, loss=5.36e+4]\n",
      "19: 100%|█████████████████████████████████████████████████████████████| 547/547 [00:03<00:00, 137.18it/s, loss=6.11e+4]\n",
      "20: 100%|█████████████████████████████████████████████████████████████| 547/547 [00:03<00:00, 137.34it/s, loss=5.87e+4]\n",
      "21: 100%|█████████████████████████████████████████████████████████████| 547/547 [00:04<00:00, 134.51it/s, loss=5.79e+4]\n",
      "22: 100%|████████████████████████████████████████████████████████████████| 547/547 [00:04<00:00, 133.14it/s, loss=7e+4]\n",
      "23: 100%|█████████████████████████████████████████████████████████████| 547/547 [00:04<00:00, 133.15it/s, loss=4.52e+4]\n",
      "24: 100%|█████████████████████████████████████████████████████████████| 547/547 [00:04<00:00, 128.87it/s, loss=7.39e+4]\n"
     ]
    },
    {
     "name": "stdout",
     "output_type": "stream",
     "text": [
      "Saving Model with loss 3218.211...\n"
     ]
    },
    {
     "name": "stderr",
     "output_type": "stream",
     "text": [
      "25: 100%|█████████████████████████████████████████████████████████████| 547/547 [00:04<00:00, 132.37it/s, loss=6.03e+4]\n",
      "26: 100%|█████████████████████████████████████████████████████████████| 547/547 [00:04<00:00, 131.02it/s, loss=6.09e+4]\n"
     ]
    },
    {
     "name": "stdout",
     "output_type": "stream",
     "text": [
      "Saving Model with loss 3170.053...\n"
     ]
    },
    {
     "name": "stderr",
     "output_type": "stream",
     "text": [
      "27: 100%|█████████████████████████████████████████████████████████████| 547/547 [00:04<00:00, 131.57it/s, loss=55324.5]\n",
      "28: 100%|█████████████████████████████████████████████████████████████| 547/547 [00:04<00:00, 129.69it/s, loss=6.89e+4]\n",
      "29: 100%|█████████████████████████████████████████████████████████████| 547/547 [00:04<00:00, 127.83it/s, loss=5.92e+4]\n",
      "30: 100%|█████████████████████████████████████████████████████████████| 547/547 [00:04<00:00, 131.40it/s, loss=5.92e+4]\n",
      "31: 100%|█████████████████████████████████████████████████████████████| 547/547 [00:04<00:00, 130.37it/s, loss=5.15e+4]\n",
      "32: 100%|████████████████████████████████████████████████████████████████| 547/547 [00:04<00:00, 131.07it/s, loss=6e+4]\n",
      "33: 100%|█████████████████████████████████████████████████████████████| 547/547 [00:04<00:00, 130.57it/s, loss=5.29e+4]\n",
      "34: 100%|██████████████████████████████████████████████████████████████| 547/547 [00:04<00:00, 130.40it/s, loss=6.8e+4]\n",
      "35: 100%|█████████████████████████████████████████████████████████████| 547/547 [00:03<00:00, 142.77it/s, loss=4.62e+4]\n",
      "36: 100%|█████████████████████████████████████████████████████████████| 547/547 [00:03<00:00, 142.27it/s, loss=5.61e+4]\n",
      "37: 100%|█████████████████████████████████████████████████████████████| 547/547 [00:03<00:00, 143.54it/s, loss=5.98e+4]\n"
     ]
    },
    {
     "name": "stdout",
     "output_type": "stream",
     "text": [
      "Saving Model with loss 2538.538...\n"
     ]
    },
    {
     "name": "stderr",
     "output_type": "stream",
     "text": [
      "38: 100%|█████████████████████████████████████████████████████████████| 547/547 [00:04<00:00, 121.05it/s, loss=5.74e+4]\n",
      "39: 100%|█████████████████████████████████████████████████████████████| 547/547 [00:04<00:00, 122.90it/s, loss=5.03e+4]\n",
      "40: 100%|█████████████████████████████████████████████████████████████| 547/547 [00:03<00:00, 138.75it/s, loss=5.16e+4]\n"
     ]
    },
    {
     "name": "stdout",
     "output_type": "stream",
     "text": [
      "Saving Model with loss 2379.355...\n"
     ]
    },
    {
     "name": "stderr",
     "output_type": "stream",
     "text": [
      "41: 100%|█████████████████████████████████████████████████████████████| 547/547 [00:03<00:00, 145.16it/s, loss=5.86e+4]\n",
      "42: 100%|█████████████████████████████████████████████████████████████| 547/547 [00:03<00:00, 141.92it/s, loss=6.15e+4]\n",
      "43: 100%|██████████████████████████████████████████████████████████████| 547/547 [00:03<00:00, 145.24it/s, loss=6.8e+4]\n",
      "44: 100%|█████████████████████████████████████████████████████████████| 547/547 [00:03<00:00, 144.62it/s, loss=5.49e+4]\n",
      "45: 100%|██████████████████████████████████████████████████████████████| 547/547 [00:04<00:00, 125.94it/s, loss=5.7e+4]\n",
      "46: 100%|█████████████████████████████████████████████████████████████| 547/547 [00:04<00:00, 126.19it/s, loss=6.08e+4]\n",
      "47: 100%|█████████████████████████████████████████████████████████████| 547/547 [00:04<00:00, 124.21it/s, loss=4.37e+4]\n",
      "48: 100%|█████████████████████████████████████████████████████████████| 547/547 [00:04<00:00, 129.10it/s, loss=5.46e+4]\n",
      "49: 100%|█████████████████████████████████████████████████████████████| 547/547 [00:04<00:00, 127.08it/s, loss=4.83e+4]\n",
      "50: 100%|██████████████████████████████████████████████████████████████| 547/547 [00:04<00:00, 126.55it/s, loss=5.3e+4]\n",
      "51: 100%|█████████████████████████████████████████████████████████████| 547/547 [00:04<00:00, 124.74it/s, loss=4.79e+4]\n",
      "52: 100%|█████████████████████████████████████████████████████████████| 547/547 [00:04<00:00, 118.97it/s, loss=4.76e+4]\n",
      "53: 100%|█████████████████████████████████████████████████████████████| 547/547 [00:04<00:00, 123.81it/s, loss=5.99e+4]\n",
      "54: 100%|█████████████████████████████████████████████████████████████| 547/547 [00:04<00:00, 124.28it/s, loss=4.23e+4]\n",
      "55: 100%|█████████████████████████████████████████████████████████████| 547/547 [00:04<00:00, 124.85it/s, loss=5.87e+4]\n",
      "56: 100%|██████████████████████████████████████████████████████████████| 547/547 [00:04<00:00, 125.44it/s, loss=6.1e+4]\n",
      "57: 100%|██████████████████████████████████████████████████████████████| 547/547 [00:04<00:00, 123.95it/s, loss=5.3e+4]\n",
      "58: 100%|█████████████████████████████████████████████████████████████| 547/547 [00:04<00:00, 122.14it/s, loss=4.33e+4]\n",
      "59: 100%|█████████████████████████████████████████████████████████████| 547/547 [00:04<00:00, 115.22it/s, loss=5.49e+4]\n",
      "60: 100%|██████████████████████████████████████████████████████████████| 547/547 [00:05<00:00, 107.63it/s, loss=4.5e+4]\n",
      "61: 100%|█████████████████████████████████████████████████████████████| 547/547 [00:05<00:00, 102.57it/s, loss=4.54e+4]\n",
      "62: 100%|█████████████████████████████████████████████████████████████| 547/547 [00:04<00:00, 110.53it/s, loss=4.16e+4]\n",
      "63: 100%|█████████████████████████████████████████████████████████████| 547/547 [00:05<00:00, 107.47it/s, loss=3.93e+4]\n",
      "64: 100%|█████████████████████████████████████████████████████████████| 547/547 [00:05<00:00, 100.56it/s, loss=4.54e+4]\n",
      "65: 100%|██████████████████████████████████████████████████████████████| 547/547 [00:05<00:00, 99.99it/s, loss=5.06e+4]\n",
      "66: 100%|██████████████████████████████████████████████████████████████| 547/547 [00:05<00:00, 106.25it/s, loss=3.9e+4]\n",
      "67: 100%|██████████████████████████████████████████████████████████████| 547/547 [00:07<00:00, 76.99it/s, loss=3.75e+4]\n",
      "68: 100%|█████████████████████████████████████████████████████████████| 547/547 [00:05<00:00, 102.64it/s, loss=4.28e+4]\n",
      "69: 100%|██████████████████████████████████████████████████████████████| 547/547 [00:05<00:00, 92.32it/s, loss=4.56e+4]\n",
      "70: 100%|██████████████████████████████████████████████████████████████| 547/547 [00:05<00:00, 99.51it/s, loss=3.79e+4]\n"
     ]
    },
    {
     "name": "stdout",
     "output_type": "stream",
     "text": [
      "Saving Model with loss 1762.510...\n"
     ]
    },
    {
     "name": "stderr",
     "output_type": "stream",
     "text": [
      "71: 100%|█████████████████████████████████████████████████████████████| 547/547 [00:04<00:00, 112.70it/s, loss=4.95e+4]\n",
      "72: 100%|█████████████████████████████████████████████████████████████| 547/547 [00:04<00:00, 121.64it/s, loss=4.05e+4]\n",
      "73: 100%|█████████████████████████████████████████████████████████████| 547/547 [00:04<00:00, 120.25it/s, loss=4.32e+4]\n",
      "74: 100%|█████████████████████████████████████████████████████████████| 547/547 [00:04<00:00, 119.02it/s, loss=3.94e+4]\n",
      "75: 100%|█████████████████████████████████████████████████████████████| 547/547 [00:04<00:00, 120.83it/s, loss=3.68e+4]\n",
      "76: 100%|█████████████████████████████████████████████████████████████| 547/547 [00:04<00:00, 114.98it/s, loss=3.68e+4]\n",
      "77: 100%|█████████████████████████████████████████████████████████████| 547/547 [00:04<00:00, 125.96it/s, loss=4.18e+4]\n",
      "78: 100%|█████████████████████████████████████████████████████████████| 547/547 [00:04<00:00, 123.79it/s, loss=4.32e+4]\n",
      "79: 100%|█████████████████████████████████████████████████████████████| 547/547 [00:04<00:00, 121.77it/s, loss=3.65e+4]\n",
      "80: 100%|█████████████████████████████████████████████████████████████| 547/547 [00:04<00:00, 121.60it/s, loss=3.64e+4]\n",
      "81: 100%|█████████████████████████████████████████████████████████████| 547/547 [00:04<00:00, 120.94it/s, loss=3.71e+4]\n",
      "82: 100%|█████████████████████████████████████████████████████████████| 547/547 [00:04<00:00, 120.49it/s, loss=2.86e+4]\n",
      "83: 100%|█████████████████████████████████████████████████████████████| 547/547 [00:04<00:00, 122.10it/s, loss=3.91e+4]\n",
      "84: 100%|█████████████████████████████████████████████████████████████| 547/547 [00:04<00:00, 121.26it/s, loss=4.09e+4]\n",
      "85: 100%|██████████████████████████████████████████████████████████████| 547/547 [00:04<00:00, 121.48it/s, loss=3.2e+4]\n"
     ]
    },
    {
     "name": "stdout",
     "output_type": "stream",
     "text": [
      "Saving Model with loss 1685.510...\n"
     ]
    },
    {
     "name": "stderr",
     "output_type": "stream",
     "text": [
      "86: 100%|██████████████████████████████████████████████████████████████| 547/547 [00:04<00:00, 122.97it/s, loss=4.2e+4]\n",
      "87: 100%|█████████████████████████████████████████████████████████████| 547/547 [00:04<00:00, 123.07it/s, loss=3.77e+4]\n",
      "88: 100%|█████████████████████████████████████████████████████████████| 547/547 [00:04<00:00, 120.78it/s, loss=3.77e+4]\n",
      "89: 100%|█████████████████████████████████████████████████████████████| 547/547 [00:04<00:00, 115.64it/s, loss=4.03e+4]\n",
      "90: 100%|█████████████████████████████████████████████████████████████| 547/547 [00:04<00:00, 122.81it/s, loss=2.87e+4]\n",
      "91: 100%|█████████████████████████████████████████████████████████████| 547/547 [00:04<00:00, 122.33it/s, loss=3.85e+4]\n"
     ]
    },
    {
     "name": "stdout",
     "output_type": "stream",
     "text": [
      "Saving Model with loss 1576.266...\n"
     ]
    },
    {
     "name": "stderr",
     "output_type": "stream",
     "text": [
      "92: 100%|█████████████████████████████████████████████████████████████| 547/547 [00:04<00:00, 123.44it/s, loss=3.11e+4]\n",
      "93: 100%|█████████████████████████████████████████████████████████████| 547/547 [00:04<00:00, 122.35it/s, loss=3.84e+4]\n",
      "94: 100%|█████████████████████████████████████████████████████████████| 547/547 [00:04<00:00, 121.66it/s, loss=3.16e+4]\n"
     ]
    }
   ],
   "source": [
    "model = FK_MLP(target_type=\"end_pos\").cuda()\n",
    "# model.load_state_dict(torch.load(\"./checkpoints/normalized/model.ckpt\"))\n",
    "trainer(train_loader, valid_loader, model, config, device)\n"
   ]
  },
  {
   "cell_type": "code",
   "execution_count": 31,
   "id": "850f71bd",
   "metadata": {},
   "outputs": [
    {
     "name": "stderr",
     "output_type": "stream",
     "text": [
      "100%|███████████████████████████████████████████████████████████████████████████████| 235/235 [00:00<00:00, 359.19it/s]\n"
     ]
    }
   ],
   "source": [
    "def save_pred(preds, labels=None, file=\"./checkpoints/pred.csv\"):\n",
    "    with open(file, 'w') as fp:\n",
    "        writer = csv.writer(fp)\n",
    "        \n",
    "        n = preds.shape[0]\n",
    "        if labels is not None:\n",
    "            for i in range(n):\n",
    "                ls = []\n",
    "                error_x = np.sqrt(np.sum(np.suqare(labels[i] - preds[i])))\n",
    "                writer.writerow(np.concatenate((preds[i], labels[i], labels[i] - preds[i], (labels[i] - preds[i]) / labels[i] * 100, )))\n",
    "        else :\n",
    "            for i1,p1 in enumerate(preds):\n",
    "                writer.writerow(p2)\n",
    "\n",
    "model.load_state_dict(torch.load(config['save_path']))\n",
    "model.eval()\n",
    "preds = predict(valid_loader, model, device)\n",
    "\n",
    "save_pred(preds, valid_target, './checkpoints/pred.csv')"
   ]
  },
  {
   "cell_type": "code",
   "execution_count": 60,
   "id": "05d0faae",
   "metadata": {},
   "outputs": [
    {
     "name": "stdout",
     "output_type": "stream",
     "text": [
      "<class 'numpy.ndarray'> <class 'numpy.ndarray'>\n",
      "(20000, 3) (20000, 3)\n"
     ]
    }
   ],
   "source": [
    "print(type(preds), type(valid_target))\n",
    "print(preds.shape, valid_target.shape)"
   ]
  },
  {
   "cell_type": "code",
   "execution_count": null,
   "id": "242473b5",
   "metadata": {},
   "outputs": [],
   "source": []
  }
 ],
 "metadata": {
  "kernelspec": {
   "display_name": "Python 3 (ipykernel)",
   "language": "python",
   "name": "python3"
  },
  "language_info": {
   "codemirror_mode": {
    "name": "ipython",
    "version": 3
   },
   "file_extension": ".py",
   "mimetype": "text/x-python",
   "name": "python",
   "nbconvert_exporter": "python",
   "pygments_lexer": "ipython3",
   "version": "3.7.10"
  }
 },
 "nbformat": 4,
 "nbformat_minor": 5
}
