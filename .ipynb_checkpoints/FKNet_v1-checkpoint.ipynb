{
 "cells": [
  {
   "cell_type": "markdown",
   "id": "4308ca42",
   "metadata": {},
   "source": [
    "### Import Packages"
   ]
  },
  {
   "cell_type": "code",
   "execution_count": 12,
   "id": "ecd790bb",
   "metadata": {},
   "outputs": [
    {
     "name": "stdout",
     "output_type": "stream",
     "text": [
      "1.8.0+cu111\n"
     ]
    }
   ],
   "source": [
    "%matplotlib inline\n",
    "\n",
    "import torch\n",
    "import torch.nn as nn\n",
    "from torch.utils.data import Dataset, DataLoader, random_split\n",
    "from torch.utils.tensorboard import SummaryWriter\n",
    "\n",
    "import numpy as np\n",
    "import csv\n",
    "import pandas as pd\n",
    "\n",
    "import sys\n",
    "import os\n",
    "\n",
    "from tqdm import tqdm\n",
    "\n",
    "print(torch.__version__)\n",
    "torch.set_default_tensor_type(torch.FloatTensor)"
   ]
  },
  {
   "cell_type": "markdown",
   "id": "1cf7b5c9",
   "metadata": {},
   "source": [
    "### Define Some utility Functions"
   ]
  },
  {
   "cell_type": "code",
   "execution_count": 43,
   "id": "fda7c8d2",
   "metadata": {},
   "outputs": [],
   "source": [
    "def same_seed(seed):\n",
    "    '''\n",
    "        Fixes random number generator seeds for reproducibility\n",
    "    '''\n",
    "    torch.backends.cudnn.deterministic = True\n",
    "    torch.backends.cudnn.benchmark = False\n",
    "    \n",
    "    np.random.seed(seed)\n",
    "    torch.manual_seed(seed)\n",
    "    if torch.cuda.is_available():\n",
    "        torch.cuda.manual_seed_all(seed)\n",
    "\n",
    "def train_valid_split(dataset, valid_ratio, seed, print_shape=False):\n",
    "    valid_set_size = int(valid_ratio * dataset.shape[0])\n",
    "    train_set_size = dataset.shape[0] - valid_set_size\n",
    "    \n",
    "    train_data, valid_data= random_split(dataset, [train_set_size, valid_set_size], generator=torch.Generator().manual_seed(seed))\n",
    "    \n",
    "    train_data = np.array(train_data)\n",
    "    valid_data = np.array(valid_data)\n",
    "    if print_shape:\n",
    "        print(f\"Origin Train Set size: {train_data.shape}, Origin Valid Set Size: {valid_data.shape}\")\n",
    "    \n",
    "    return train_data, valid_data\n",
    "\n",
    "def predict(test_loader, model, device):\n",
    "    model.eval()\n",
    "    preds = []\n",
    "    for x in tqdm(test_loader):\n",
    "        x = x.to(device)\n",
    "        with torch.no_grad():\n",
    "            pred = model(x)\n",
    "            preds.append(pred.detach().cpu())\n",
    "    preds = torch.cat(preds, dim=0).numpy()\n",
    "    return preds"
   ]
  },
  {
   "cell_type": "markdown",
   "id": "e1b2d81e",
   "metadata": {},
   "source": [
    "### Dataset"
   ]
  },
  {
   "cell_type": "code",
   "execution_count": 44,
   "id": "885330c1",
   "metadata": {},
   "outputs": [],
   "source": [
    "class CTCRDataset(Dataset):\n",
    "    '''\n",
    "    x: features,\n",
    "    y: Targets, if none, do prediction\n",
    "    '''\n",
    "    \n",
    "    def __init__(self, x, y=None):\n",
    "        if y is None:\n",
    "            self.y = y\n",
    "        else:\n",
    "            self.y = torch.FloatTensor(y)\n",
    "        \n",
    "        self.x = torch.FloatTensor(x)\n",
    "        \n",
    "    def __getitem__(self, idx):\n",
    "        if self.y is None:\n",
    "            return self.x[idx]\n",
    "        else:\n",
    "            return self.x[idx], self.y[idx]\n",
    "        \n",
    "    def __len__(self):\n",
    "        return len(self.x)    \n",
    "        "
   ]
  },
  {
   "cell_type": "markdown",
   "id": "b7d2182c",
   "metadata": {},
   "source": [
    "### Neural Network Model"
   ]
  },
  {
   "cell_type": "code",
   "execution_count": 52,
   "id": "a118b4b3",
   "metadata": {},
   "outputs": [],
   "source": [
    "class FK_MLP(nn.Module):\n",
    "    \n",
    "    def __init__(self, target_type=\"pose\"):\n",
    "        self.target_type = target_type\n",
    "        \n",
    "        if target_type == \"3_points_pos\":\n",
    "            self.output_dims = 9\n",
    "        elif target_type == \"end_pos\":\n",
    "            self.output_dims = 3\n",
    "        else:\n",
    "            self.output_dims = 7\n",
    "            \n",
    "        self.layers = nn.Sequential(\n",
    "            nn.Linear(18, 128),\n",
    "            nn.ReLU(),\n",
    "            nn.Dropout(0.2),\n",
    "            \n",
    "            nn.Linear(128, 512),\n",
    "            nn.ReLU(),\n",
    "            nn.Dropout(0.2),\n",
    "            \n",
    "            nn.Linear(512,self.output_dims)\n",
    "        )\n",
    "        \n",
    "    def forward(self, x):\n",
    "        y = self.layers(x)\n",
    "        return y"
   ]
  },
  {
   "cell_type": "markdown",
   "id": "66cc5f37",
   "metadata": {},
   "source": [
    "### Training Loop"
   ]
  },
  {
   "cell_type": "code",
   "execution_count": 53,
   "id": "c5b1af7b",
   "metadata": {},
   "outputs": [],
   "source": [
    "def trainer(train_loader, valid_loader, model, config, device):\n",
    "    \n",
    "    criterion = nn.MSELoss(reduction='mean')\n",
    "    optimizer = torch.optim.Adam(params=model.parameters(), lr=config['learning_rate'], weight_decay=config['weight_decay'])\n",
    "    writer = SummaryWriter()\n",
    "    \n",
    "    if not os.path.isdir(\"./checkpoints\"):\n",
    "        os.mkdir(\"./checkpoints\")\n",
    "        \n",
    "    n_epochs, best_loss, step, early_stop_count = config['n_epochs'], math.inf, 0, 0\n",
    "    \n",
    "    for epoch in range(n_epochs):\n",
    "        model.train()\n",
    "        loss_record = []\n",
    "        \n",
    "        train_pbar = tqdm(train_loader, position=0, leave=True)\n",
    "        \n",
    "        for x, y in train_pbar:\n",
    "            optimizer.zero_grad()\n",
    "            \n",
    "            x, y = x.to(device), y.to(device)\n",
    "            pred = model(x)\n",
    "            loss = criterion(pred, y)\n",
    "            loss.backward()\n",
    "            \n",
    "            optimizer.step()\n",
    "            \n",
    "            step += 1\n",
    "            loss_record.append(loss.detach().item())\n",
    "            \n",
    "            train_pbar.set_description(f\"Epoch [{epoch+1}/{n_epochs}]\")\n",
    "            train_pbar.set_postfix({'loss': loss.detach().item()})\n",
    "        mean_train_loss = sum(loss_record) / len(loss_record)\n",
    "        writer.add_scalar('Loss/Train', mean_train_loss, step)\n",
    "        \n",
    "        model.eval()\n",
    "        loss_record = []\n",
    "        for x, y in valid_loader:\n",
    "            x, y = x.to(device), y.to(device)\n",
    "            with torch.no_grad():\n",
    "                pred = model(x)\n",
    "                loss = criterion(pred, y)\n",
    "            loss_record.append(loss.item())\n",
    "            \n",
    "        mean_valid_loss = sum(loss_record) / len(loss_record)\n",
    "        \n",
    "        if mean_valid_loss <= best_loss:\n",
    "            best_loss = mean_valid_loss\n",
    "            torch.save(model.state_dict(), config['save_path'])\n",
    "            print(\"Saving Model with loss {:.3f}...\".format(best_loss))\n",
    "            early_stop_count = -0\n",
    "        else:\n",
    "            early_stop_count += 1\n",
    "        \n",
    "        if early_stop_count >= config['early_stop']:\n",
    "            print(\"\\nModel is not improving, so we halt the training sessions\")\n",
    "            \n",
    "            return \n",
    "        \n",
    "                "
   ]
  },
  {
   "cell_type": "markdown",
   "id": "33a39f29",
   "metadata": {},
   "source": [
    "### Config"
   ]
  },
  {
   "cell_type": "code",
   "execution_count": 54,
   "id": "a75b946a",
   "metadata": {},
   "outputs": [],
   "source": [
    "device = \"cuda\" if torch.cuda.is_available() else \"cpu\"\n",
    "\n",
    "config = {\n",
    "    'seed': 10,\n",
    "    'valid_ratio': 0.2,\n",
    "    'n_epochs': 5000,\n",
    "    'batch_size': 256,\n",
    "    'lr': 1e-5,\n",
    "    'early_stop': 600,\n",
    "    'save_path': \"./checkpoints/model.ckpt\",\n",
    "    \"features_type\": \"all\",\n",
    "    \"target_type\": \"pose\",\n",
    "}"
   ]
  },
  {
   "cell_type": "markdown",
   "id": "560a6b66",
   "metadata": {},
   "source": [
    "### Data Process And Dataloader"
   ]
  },
  {
   "cell_type": "markdown",
   "id": "f7b7e0c8",
   "metadata": {},
   "source": [
    "#### Select Features"
   ]
  },
  {
   "cell_type": "code",
   "execution_count": 56,
   "id": "42dce5d6",
   "metadata": {},
   "outputs": [],
   "source": [
    "def select_features_target(origin_train_data, origin_valid_data, test_data=None, features_type=\"all\", target_type=\"pose\", print_shape=False):\n",
    "    train_data = np.zeros((origin_train_data.shape[0], 18))\n",
    "    valid_data = np.zeros((origin_valid_data.shape[0], 18))\n",
    "    \n",
    "    for i in range(0, 12, 2):\n",
    "        train_data[:, 3*(i//2)  ] = np.cos(origin_train_data[:, i])\n",
    "        train_data[:, 3*(i//2)+1] = np.sin(origin_train_data[:, i])\n",
    "        train_data[:, 3*(i//2)+2] = np.cos(origin_train_data[:, i+1])\n",
    "\n",
    "\n",
    "        valid_data[:, 3*(i//2)  ] = np.cos(origin_valid_data[:, i])\n",
    "        valid_data[:, 3*(i//2)+1] = np.sin(origin_valid_data[:, i])\n",
    "        valid_data[:, 3*(i//2)+2] = np.cos(origin_valid_data[:, i+1])\n",
    "    \n",
    "\n",
    "    feature_idx = []\n",
    "    if features_type == \"all\":\n",
    "        feature_idx = list(range(train_data.shape[1]))\n",
    "    else:\n",
    "        pass\n",
    "    \n",
    "    if target_type == \"3_points_pos\":\n",
    "        train_target = np.concatenate((origin_train_data[:, 19:22], origin_train_data[:, 26:29], origin_train_data[:, -7:-4]), axis=1)\n",
    "        train_target = np.concatenate((origin_valid_data[:, 19:22], origin_valid_data[:, 26:29], origin_valid_data[:, -7:-4]), axis=1)\n",
    "    elif target_type == \"end_pos\":\n",
    "        train_target = origin_train_data[:, -7:-4]\n",
    "        valid_target = origin_valid_data[:, -7:-4]\n",
    "    else:\n",
    "        train_target = origin_train_data[:, -7:]\n",
    "        valid_target = origin_valid_data[:, -7:]\n",
    "    \n",
    "    if print_shape:\n",
    "        print(f\"Train data Shape: {train_data.shape}, Valid data shape: {valid_data.shape}\")\n",
    "        print(f\"Target Type = {target_type}, \\nTrain Target Shape: {train_target.shape}, Valid Target Shape: {valid_target.shape}\")\n",
    "    \n",
    "    if test_data == None:\n",
    "        return train_data[:, feature_idx], train_target, valid_data[:, feature_idx], valid_target\n",
    "    else:\n",
    "        return train_data[:, feature_idx], train_target, valid_data[:, feature_idx], valid_target, test_data[:, feature_idxe]"
   ]
  },
  {
   "cell_type": "markdown",
   "id": "750ecd43",
   "metadata": {},
   "source": [
    "#### Dataloader"
   ]
  },
  {
   "cell_type": "code",
   "execution_count": 57,
   "id": "dfe1ea7e",
   "metadata": {},
   "outputs": [
    {
     "name": "stdout",
     "output_type": "stream",
     "text": [
      "Origin Train Set size: (80000, 40), Origin Valid Set Size: (20000, 40)\n",
      "Train data Shape: (80000, 18), Valid data shape: (20000, 18)\n",
      "Target Type = pose, \n",
      "Train Target Shape: (80000, 7), Valid Target Shape: (20000, 7)\n"
     ]
    }
   ],
   "source": [
    "same_seed(config['seed'])\n",
    "path = \"./dataset/CRL-Dataset-CTCR-Pose.csv\"\n",
    "\n",
    "origin_data = pd.read_csv(path, header=None).values\n",
    "origin_train_data, origin_valid_data = train_valid_split(origin_data, valid_ratio=config['valid_ratio'], seed=config['seed'], print_shape=True)\n",
    "\n",
    "train_data, train_target, valid_data, valid_target = select_features_target(origin_train_data, origin_valid_data, test_data=None, features_type=config['features_type'], target_type=config['target_type'], print_shape=True)\n",
    "\n",
    "train_dataset, valid_dataset = CTCRDataset(train_data, train_target), CTCRDataset(valid_data, valid_target)\n",
    "train_loader = DataLoader(train_dataset, batch_size=config['batch_size'], shuffle=True, pin_memory=True)\n",
    "valid_loader = DataLoader(valid_dataset, batch_size=config['batch_size'], shuffle=True, pin_memory=True)\n"
   ]
  },
  {
   "cell_type": "code",
   "execution_count": 58,
   "id": "91f4ccef",
   "metadata": {},
   "outputs": [
    {
     "ename": "NameError",
     "evalue": "name 'regress_type' is not defined",
     "output_type": "error",
     "traceback": [
      "\u001b[1;31m---------------------------------------------------------------------------\u001b[0m",
      "\u001b[1;31mNameError\u001b[0m                                 Traceback (most recent call last)",
      "\u001b[1;32m~\\AppData\\Local\\Temp/ipykernel_2300/1731010707.py\u001b[0m in \u001b[0;36m<module>\u001b[1;34m\u001b[0m\n\u001b[1;32m----> 1\u001b[1;33m \u001b[0mmodel\u001b[0m \u001b[1;33m=\u001b[0m \u001b[0mFK_MLP\u001b[0m\u001b[1;33m(\u001b[0m\u001b[0mtarget_type\u001b[0m\u001b[1;33m=\u001b[0m\u001b[0mconfig\u001b[0m\u001b[1;33m[\u001b[0m\u001b[1;34m'target_type'\u001b[0m\u001b[1;33m]\u001b[0m\u001b[1;33m)\u001b[0m\u001b[1;33m\u001b[0m\u001b[1;33m\u001b[0m\u001b[0m\n\u001b[0m\u001b[0;32m      2\u001b[0m \u001b[0mtrainer\u001b[0m\u001b[1;33m(\u001b[0m\u001b[0mtrain_loader\u001b[0m\u001b[1;33m,\u001b[0m \u001b[0mvalid_loader\u001b[0m\u001b[1;33m,\u001b[0m \u001b[0mmodel\u001b[0m\u001b[1;33m,\u001b[0m \u001b[0mconfig\u001b[0m\u001b[1;33m,\u001b[0m \u001b[0mdevice\u001b[0m\u001b[1;33m)\u001b[0m\u001b[1;33m\u001b[0m\u001b[1;33m\u001b[0m\u001b[0m\n",
      "\u001b[1;32m~\\AppData\\Local\\Temp/ipykernel_2300/1825401340.py\u001b[0m in \u001b[0;36m__init__\u001b[1;34m(self, target_type)\u001b[0m\n\u001b[0;32m      2\u001b[0m \u001b[1;33m\u001b[0m\u001b[0m\n\u001b[0;32m      3\u001b[0m     \u001b[1;32mdef\u001b[0m \u001b[0m__init__\u001b[0m\u001b[1;33m(\u001b[0m\u001b[0mself\u001b[0m\u001b[1;33m,\u001b[0m \u001b[0mtarget_type\u001b[0m\u001b[1;33m=\u001b[0m\u001b[1;34m\"pose\"\u001b[0m\u001b[1;33m)\u001b[0m\u001b[1;33m:\u001b[0m\u001b[1;33m\u001b[0m\u001b[1;33m\u001b[0m\u001b[0m\n\u001b[1;32m----> 4\u001b[1;33m         \u001b[0mself\u001b[0m\u001b[1;33m.\u001b[0m\u001b[0mregress_type\u001b[0m \u001b[1;33m=\u001b[0m \u001b[0mregress_type\u001b[0m\u001b[1;33m\u001b[0m\u001b[1;33m\u001b[0m\u001b[0m\n\u001b[0m\u001b[0;32m      5\u001b[0m \u001b[1;33m\u001b[0m\u001b[0m\n\u001b[0;32m      6\u001b[0m         \u001b[1;32mif\u001b[0m \u001b[0mtarget_type\u001b[0m \u001b[1;33m==\u001b[0m \u001b[1;34m\"3_points_pos\"\u001b[0m\u001b[1;33m:\u001b[0m\u001b[1;33m\u001b[0m\u001b[1;33m\u001b[0m\u001b[0m\n",
      "\u001b[1;31mNameError\u001b[0m: name 'regress_type' is not defined"
     ]
    }
   ],
   "source": [
    "model = FK_MLP(target_type=config['target_type'])\n",
    "trainer(train_loader, valid_loader, model, config, device)\n"
   ]
  },
  {
   "cell_type": "code",
   "execution_count": null,
   "id": "09439cd4",
   "metadata": {},
   "outputs": [],
   "source": []
  }
 ],
 "metadata": {
  "kernelspec": {
   "display_name": "Python 3 (ipykernel)",
   "language": "python",
   "name": "python3"
  },
  "language_info": {
   "codemirror_mode": {
    "name": "ipython",
    "version": 3
   },
   "file_extension": ".py",
   "mimetype": "text/x-python",
   "name": "python",
   "nbconvert_exporter": "python",
   "pygments_lexer": "ipython3",
   "version": "3.7.10"
  }
 },
 "nbformat": 4,
 "nbformat_minor": 5
}
