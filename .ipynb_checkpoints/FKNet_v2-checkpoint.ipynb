{
 "cells": [
  {
   "cell_type": "markdown",
   "id": "4308ca42",
   "metadata": {},
   "source": [
    "### Import Packages"
   ]
  },
  {
   "cell_type": "code",
   "execution_count": 1,
   "id": "ecd790bb",
   "metadata": {},
   "outputs": [
    {
     "name": "stdout",
     "output_type": "stream",
     "text": [
      "1.8.0+cu111\n"
     ]
    }
   ],
   "source": [
    "%matplotlib inline\n",
    "\n",
    "import torch\n",
    "import torch.nn as nn\n",
    "from torch.utils.data import Dataset, DataLoader, random_split\n",
    "from torch.utils.tensorboard import SummaryWriter\n",
    "\n",
    "import math \n",
    "import numpy as np\n",
    "import csv\n",
    "import pandas as pd\n",
    "\n",
    "import sys\n",
    "import os\n",
    "\n",
    "from tqdm import tqdm\n",
    "\n",
    "print(torch.__version__)\n",
    "torch.set_default_tensor_type(torch.FloatTensor)"
   ]
  },
  {
   "cell_type": "markdown",
   "id": "1cf7b5c9",
   "metadata": {},
   "source": [
    "### Define Some utility Functions"
   ]
  },
  {
   "cell_type": "code",
   "execution_count": 2,
   "id": "fda7c8d2",
   "metadata": {},
   "outputs": [],
   "source": [
    "def same_seed(seed):\n",
    "    '''\n",
    "        Fixes random number generator seeds for reproducibility\n",
    "    '''\n",
    "    torch.backends.cudnn.deterministic = True\n",
    "    torch.backends.cudnn.benchmark = False\n",
    "    \n",
    "    np.random.seed(seed)\n",
    "    torch.manual_seed(seed)\n",
    "    if torch.cuda.is_available():\n",
    "        torch.cuda.manual_seed_all(seed)\n",
    "\n",
    "def train_valid_split(dataset, valid_ratio, seed, print_shape=False):\n",
    "    valid_set_size = int(valid_ratio * dataset.shape[0])\n",
    "    train_set_size = dataset.shape[0] - valid_set_size\n",
    "    \n",
    "    train_data, valid_data= random_split(dataset, [train_set_size, valid_set_size], generator=torch.Generator().manual_seed(seed))\n",
    "    \n",
    "    train_data = np.array(train_data)\n",
    "    valid_data = np.array(valid_data)\n",
    "    if print_shape:\n",
    "        print(f\"Origin Train Set size: {train_data.shape}, Origin Valid Set Size: {valid_data.shape}\")\n",
    "    \n",
    "    return train_data, valid_data\n",
    "\n",
    "def predict(valid_loader, model, device):\n",
    "    model.eval()\n",
    "    preds = []\n",
    "    for x, y in tqdm(valid_loader):\n",
    "        x = x.to(device)\n",
    "        with torch.no_grad():\n",
    "            pred = model(x)\n",
    "            preds.append(pred.detach().cpu())\n",
    "    preds = torch.cat(preds, dim=0).numpy()\n",
    "    return preds"
   ]
  },
  {
   "cell_type": "markdown",
   "id": "e1b2d81e",
   "metadata": {},
   "source": [
    "### Dataset"
   ]
  },
  {
   "cell_type": "code",
   "execution_count": 3,
   "id": "885330c1",
   "metadata": {},
   "outputs": [],
   "source": [
    "class CTCRDataset(Dataset):\n",
    "    '''\n",
    "    x: features,\n",
    "    y: Targets, if none, do prediction\n",
    "    '''\n",
    "    \n",
    "    def __init__(self, x, y=None):\n",
    "        if y is None:\n",
    "            self.y = y\n",
    "        else:\n",
    "            self.y = torch.FloatTensor(y)\n",
    "        \n",
    "        self.x = torch.FloatTensor(x)\n",
    "        \n",
    "    def __getitem__(self, idx):\n",
    "        if self.y is None:\n",
    "            return self.x[idx]\n",
    "        else:\n",
    "            return self.x[idx], self.y[idx]\n",
    "        \n",
    "    def __len__(self):\n",
    "        return len(self.x)    \n",
    "        "
   ]
  },
  {
   "cell_type": "markdown",
   "id": "b7d2182c",
   "metadata": {},
   "source": [
    "### Neural Network Model"
   ]
  },
  {
   "cell_type": "code",
   "execution_count": 58,
   "id": "a118b4b3",
   "metadata": {},
   "outputs": [],
   "source": [
    "class FK_MLP(nn.Module):\n",
    "    \n",
    "    def __init__(self, target_type=\"pose\"):\n",
    "        super(FK_MLP, self).__init__()\n",
    "        \n",
    "        self.target_type = target_type\n",
    "        \n",
    "        if target_type == \"3_points_pos\":\n",
    "            self.output_dims = 9\n",
    "        elif target_type == \"end_pos\":\n",
    "            self.output_dims = 3\n",
    "        else:\n",
    "            self.output_dims = 7\n",
    "            \n",
    "        self.layers = nn.Sequential(\n",
    "            nn.Linear(12, 256),\n",
    "            nn.ReLU(),\n",
    "            \n",
    "            nn.Linear(256, 512),\n",
    "            nn.ReLU(),\n",
    "            \n",
    "            nn.Linear(512, 256),\n",
    "            nn.ReLU(),\n",
    "            \n",
    "            nn.Linear(256, 64),\n",
    "            nn.ReLU(),\n",
    "            \n",
    "            nn.Linear(64, 32),\n",
    "            nn.ReLU(),\n",
    "            \n",
    "            nn.Linear(32, self.output_dims)\n",
    "        )\n",
    "        \n",
    "    def forward(self, x):\n",
    "        y = self.layers(x)\n",
    "        return y"
   ]
  },
  {
   "cell_type": "markdown",
   "id": "66cc5f37",
   "metadata": {},
   "source": [
    "### Training Loop"
   ]
  },
  {
   "cell_type": "code",
   "execution_count": 100,
   "id": "c5b1af7b",
   "metadata": {},
   "outputs": [],
   "source": [
    "def loss_pos(preds, labels, reduction=\"mean\"):\n",
    "    if reduction == \"mean\": \n",
    "        loss = torch.mean((preds - labels) ** 2)\n",
    "    else:\n",
    "        loss = torch.sum((preds - labels) ** 2)\n",
    "        \n",
    "    return loss\n",
    "        \n",
    "def loss_orientation(preds, labels):\n",
    "    loss = torch.acos(torch.sum(preds * labels))\n",
    "    return loss\n",
    "    \n",
    "def loss_func(preds, labels):\n",
    "    pass\n",
    "    \n",
    "\n",
    "def trainer(train_loader, valid_loader, model, config, device):\n",
    "    \n",
    "#     criterion = loss_pos()\n",
    "    optimizer = torch.optim.Adam(params=model.parameters(), lr=config['learning_rate'], weight_decay=config['weight_decay'])\n",
    "    writer = SummaryWriter()\n",
    "    \n",
    "    if not os.path.isdir(\"./checkpoints\"):\n",
    "        os.mkdir(\"./checkpoints\")\n",
    "        \n",
    "    n_epochs, best_loss, step, early_stop_count = config['n_epochs'], math.inf, 0, 0\n",
    "    \n",
    "    for epoch in range(n_epochs):\n",
    "        model.train()\n",
    "        loss_record = []\n",
    "        \n",
    "        train_pbar = tqdm(train_loader, position=0, leave=True)\n",
    "        \n",
    "        for x, y in train_pbar:\n",
    "            optimizer.zero_grad()\n",
    "            \n",
    "            x, y = x.to(device), y.to(device)\n",
    "            pred = model(x)\n",
    "            loss = loss_pos(pred, y, reduction=\"sum\")\n",
    "            loss.backward()\n",
    "            \n",
    "            optimizer.step()\n",
    "            \n",
    "            step += 1\n",
    "            loss_record.append(loss.detach().item())\n",
    "            \n",
    "#             train_pbar.set_description(f\"[{epoch+1}/{n_epochs}]\")\n",
    "            train_pbar.set_description(f\"{epoch+1}\")\n",
    "            train_pbar.set_postfix({'loss': loss.detach().item()})\n",
    "        \n",
    "#         print(loss_record)\n",
    "            \n",
    "        mean_train_loss = sum(loss_record) / len(loss_record)\n",
    "        writer.add_scalar('Loss/Train', mean_train_loss, step)\n",
    "        \n",
    "        model.eval()\n",
    "        loss_record = []\n",
    "        \n",
    "        \n",
    "        for x, y in valid_loader:\n",
    "            x, y = x.to(device), y.to(device)\n",
    "            with torch.no_grad():\n",
    "                pred = model(x)\n",
    "                loss = loss_pos(pred, y, reduction=\"sum\")\n",
    "            loss_record.append(loss.item())\n",
    "        \n",
    "        \n",
    "        mean_valid_loss = sum(loss_record) / len(loss_record)\n",
    "        \n",
    "        if mean_valid_loss <= best_loss:\n",
    "            best_loss = mean_valid_loss\n",
    "            torch.save(model.state_dict(), config['save_path'])\n",
    "            print(\"Saving Model with loss {:.3f}...\".format(best_loss))\n",
    "            early_stop_count = 0\n",
    "        else:\n",
    "            early_stop_count += 1\n",
    "        \n",
    "        if early_stop_count >= config['early_stop']:\n",
    "            print(\"\\nModel is not improving, so we halt the training sessions\")\n",
    "            \n",
    "            return \n",
    "        \n",
    "                "
   ]
  },
  {
   "cell_type": "markdown",
   "id": "7181ee57",
   "metadata": {},
   "source": [
    "### Config"
   ]
  },
  {
   "cell_type": "code",
   "execution_count": 101,
   "id": "45699b96",
   "metadata": {},
   "outputs": [],
   "source": [
    "device = \"cuda\" if torch.cuda.is_available() else \"cpu\"\n",
    "\n",
    "config = {\n",
    "    'seed': 10,\n",
    "    'valid_ratio': 0.3,\n",
    "    'n_epochs': 100,\n",
    "    'batch_size': 16,\n",
    "    'learning_rate': 3e-5,\n",
    "    'weight_decay': 1e-5,\n",
    "    'early_stop': 100,\n",
    "    'save_path': \"./checkpoints/model.ckpt\",\n",
    "    \"features_type\": \"all\",\n",
    "    \"target_type\": \"end_pos\",\n",
    "}"
   ]
  },
  {
   "cell_type": "markdown",
   "id": "207708ba",
   "metadata": {},
   "source": [
    "### Data Process And Dataloader"
   ]
  },
  {
   "cell_type": "markdown",
   "id": "061f9ef8",
   "metadata": {},
   "source": [
    "#### Select Features"
   ]
  },
  {
   "cell_type": "code",
   "execution_count": 102,
   "id": "2d7ec642",
   "metadata": {},
   "outputs": [],
   "source": [
    "L1 = 210\n",
    "L2 = 165\n",
    "L3 = 110\n",
    "L = [L1, L2, L3]\n",
    "\n",
    "Mb = np.array([\n",
    "    [-L1, 0,     0], \n",
    "    [-L1, L1-L2, 0],\n",
    "    [-L1, L1-L2, L2-L3]\n",
    "])\n",
    "\n",
    "T = np.zeros((4, 4))\n",
    "T[0:3, 0:3] = 1/2 * Mb\n",
    "T[0:3, 3:]  = 1/2 * np.dot(Mb, np.ones((3, 1)))\n",
    "T[3, 3] = 1\n",
    "\n",
    "\n",
    "invT = np.linalg.inv(T)\n",
    "\n",
    "def normalize_beta(origin_train_data, print_shape=False):\n",
    "    origin_train_beta = origin_train_data[:, [1, 3, 5, 6]]\n",
    "    origin_train_beta[:, 3:] = np.ones((origin_train_beta.shape[0], 1))\n",
    "    norm_beta = np.transpose(np.dot(invT, np.transpose(origin_train_beta)))\n",
    "    \n",
    "    \n",
    "    origin_train_delta_beta = origin_train_data[:, [7, 9, 11, 12]]\n",
    "    origin_train_delta_beta[:, 3:] = np.ones((origin_train_delta_beta.shape[0], 1))\n",
    "    norm_delta_beta = np.transpose(np.dot(invT, np.transpose(origin_train_delta_beta)))\n",
    "    \n",
    "    if print_shape:\n",
    "        print(f\"Normalized beta Shape : {norm_beta.shape}, Normalized delta beta Shape: {norm_delta_beta.shape}\")\n",
    "        \n",
    "    return norm_beta[:, 0:3], norm_delta_beta[:, 0:3]    \n",
    "\n",
    "\n",
    "def select_features_target(origin_train_data, origin_valid_data, test_data=None, features_type=\"all\", target_type=\"pose\", print_shape=False):\n",
    "    train_data = np.zeros((origin_train_data.shape[0], 12))\n",
    "    valid_data = np.zeros((origin_valid_data.shape[0], 12))\n",
    "   \n",
    "    for i in range(0, 6, 2):\n",
    "        train_data[:, 4*(i//2)  ] = np.cos(origin_train_data[:, i])\n",
    "        train_data[:, 4*(i//2)+1] = np.sin(origin_train_data[:, i])\n",
    "        train_data[:, 4*(i//2)+2] = origin_train_data[:, i+1]\n",
    "        train_data[:, 4*(i//2)+3:] = np.ones((origin_train_data.shape[0], 1)) * L[i//2]\n",
    "\n",
    "        valid_data[:, 4*(i//2)  ] = np.cos(origin_valid_data[:, i])\n",
    "        valid_data[:, 4*(i//2)+1] = np.sin(origin_valid_data[:, i])\n",
    "        valid_data[:, 4*(i//2)+2] = origin_valid_data[:, i+1]\n",
    "        valid_data[:, 4*(i//2)+3:] = np.ones((origin_valid_data.shape[0], 1)) * L[i//2]\n",
    "\n",
    "#     train_norm_beta, train_nrom_delta_beta = normalize_beta(origin_train_data, print_shape=True)\n",
    "#     valid_norm_beta, valid_norm_delta_beta = normalize_beta(origin_valid_data, print_shape=True)\n",
    "    \n",
    "#     assert train_data.shape[0] == train_norm_beta.shape[0], \"Shape Error\"\n",
    "#     assert valid_data.shape[0] == valid_norm_beta.shape[0], \"Shape Error\"\n",
    "    \n",
    "#     for i in range(3):\n",
    "#         train_data[:, 3*i+2] = train_norm_beta[:, i]\n",
    "# #         train_data[:, 3*i+11] = train_nrom_delta_beta[:, i]\n",
    "        \n",
    "#         valid_data[:, 3*i+2] = valid_norm_beta[:, i]\n",
    "# #         valid_data[:, 3*i+11] = valid_norm_delta_beta[:, i]\n",
    "\n",
    "    \n",
    "    feature_idx = []\n",
    "    if features_type == \"all\":\n",
    "        feature_idx = list(range(train_data.shape[1]))\n",
    "    else:\n",
    "        pass\n",
    "    \n",
    "    if target_type == \"3_points_pos\":\n",
    "        train_target = np.concatenate((origin_train_data[:, 19:22], origin_train_data[:, 26:29], origin_train_data[:, -7:-4]), axis=1)\n",
    "        train_target = np.concatenate((origin_valid_data[:, 19:22], origin_valid_data[:, 26:29], origin_valid_data[:, -7:-4]), axis=1)\n",
    "    elif target_type == \"end_pos\":\n",
    "        train_target = origin_train_data[:, -7:-4]\n",
    "        valid_target = origin_valid_data[:, -7:-4]\n",
    "    else:\n",
    "        train_target = origin_train_data[:, -7:]\n",
    "        valid_target = origin_valid_data[:, -7:]\n",
    "    \n",
    "    if print_shape:\n",
    "        print(f\"Train data Shape: {train_data.shape}, Valid data shape: {valid_data.shape}\")\n",
    "        print(f\"Target Type = {target_type}, \\nTrain Target Shape: {train_target.shape}, Valid Target Shape: {valid_target.shape}\")\n",
    "    \n",
    "    if test_data == None:\n",
    "        return train_data, train_target, valid_data, valid_target\n",
    "    else:\n",
    "        return train_data, train_target, valid_data, valid_target, test_data"
   ]
  },
  {
   "cell_type": "markdown",
   "id": "6ceec798",
   "metadata": {},
   "source": [
    "#### Dataloader"
   ]
  },
  {
   "cell_type": "code",
   "execution_count": 103,
   "id": "f144f5fc",
   "metadata": {},
   "outputs": [
    {
     "name": "stdout",
     "output_type": "stream",
     "text": [
      "Origin Train Set size: (70000, 40), Origin Valid Set Size: (30000, 40)\n",
      "Train data Shape: (70000, 12), Valid data shape: (30000, 12)\n",
      "Target Type = end_pos, \n",
      "Train Target Shape: (70000, 3), Valid Target Shape: (30000, 3)\n"
     ]
    }
   ],
   "source": [
    "same_seed(config['seed'])\n",
    "path = \"./dataset/CRL-Dataset-CTCR-Pose.csv\"\n",
    "\n",
    "origin_data = pd.read_csv(path, header=None).values\n",
    "origin_train_data, origin_valid_data = train_valid_split(origin_data, valid_ratio=config['valid_ratio'], seed=config['seed'], print_shape=True)\n",
    "\n",
    "train_data, train_target, valid_data, valid_target = select_features_target(origin_train_data, origin_valid_data, test_data=None, features_type=config['features_type'], target_type=config['target_type'], print_shape=True)\n",
    "\n",
    "train_dataset, valid_dataset = CTCRDataset(train_data, train_target), CTCRDataset(valid_data, valid_target)\n",
    "train_loader = DataLoader(train_dataset, batch_size=config['batch_size'], shuffle=True, pin_memory=True)\n",
    "valid_loader = DataLoader(valid_dataset, batch_size=config['batch_size'], shuffle=True, pin_memory=True)\n"
   ]
  },
  {
   "cell_type": "code",
   "execution_count": 104,
   "id": "773c7e3a",
   "metadata": {
    "scrolled": true
   },
   "outputs": [
    {
     "name": "stderr",
     "output_type": "stream",
     "text": [
      "1: 100%|█████████████████████████████████████████████████████████████████| 4375/4375 [00:29<00:00, 147.90it/s, loss=33]\n"
     ]
    },
    {
     "name": "stdout",
     "output_type": "stream",
     "text": [
      "Saving Model with loss 69.731...\n"
     ]
    },
    {
     "name": "stderr",
     "output_type": "stream",
     "text": [
      "2: 100%|█████████████████████████████████████████████████████████████████| 4375/4375 [00:30<00:00, 142.90it/s, loss=52]\n"
     ]
    },
    {
     "name": "stdout",
     "output_type": "stream",
     "text": [
      "Saving Model with loss 66.999...\n"
     ]
    },
    {
     "name": "stderr",
     "output_type": "stream",
     "text": [
      "3: 100%|███████████████████████████████████████████████████████████████| 4375/4375 [00:30<00:00, 142.88it/s, loss=37.8]\n",
      "4:   8%|████▊                                                           | 332/4375 [00:02<00:30, 131.27it/s, loss=52.8]\n"
     ]
    },
    {
     "ename": "KeyboardInterrupt",
     "evalue": "",
     "output_type": "error",
     "traceback": [
      "\u001b[1;31m---------------------------------------------------------------------------\u001b[0m",
      "\u001b[1;31mKeyboardInterrupt\u001b[0m                         Traceback (most recent call last)",
      "\u001b[1;32m~\\AppData\\Local\\Temp/ipykernel_12700/3824339583.py\u001b[0m in \u001b[0;36m<module>\u001b[1;34m\u001b[0m\n\u001b[0;32m      1\u001b[0m \u001b[0mmodel\u001b[0m \u001b[1;33m=\u001b[0m \u001b[0mFK_MLP\u001b[0m\u001b[1;33m(\u001b[0m\u001b[0mtarget_type\u001b[0m\u001b[1;33m=\u001b[0m\u001b[1;34m\"end_pos\"\u001b[0m\u001b[1;33m)\u001b[0m\u001b[1;33m.\u001b[0m\u001b[0mcuda\u001b[0m\u001b[1;33m(\u001b[0m\u001b[1;33m)\u001b[0m\u001b[1;33m\u001b[0m\u001b[1;33m\u001b[0m\u001b[0m\n\u001b[0;32m      2\u001b[0m \u001b[0mmodel\u001b[0m\u001b[1;33m.\u001b[0m\u001b[0mload_state_dict\u001b[0m\u001b[1;33m(\u001b[0m\u001b[0mtorch\u001b[0m\u001b[1;33m.\u001b[0m\u001b[0mload\u001b[0m\u001b[1;33m(\u001b[0m\u001b[1;34m\"./checkpoints/model.ckpt\"\u001b[0m\u001b[1;33m)\u001b[0m\u001b[1;33m)\u001b[0m\u001b[1;33m\u001b[0m\u001b[1;33m\u001b[0m\u001b[0m\n\u001b[1;32m----> 3\u001b[1;33m \u001b[0mtrainer\u001b[0m\u001b[1;33m(\u001b[0m\u001b[0mtrain_loader\u001b[0m\u001b[1;33m,\u001b[0m \u001b[0mvalid_loader\u001b[0m\u001b[1;33m,\u001b[0m \u001b[0mmodel\u001b[0m\u001b[1;33m,\u001b[0m \u001b[0mconfig\u001b[0m\u001b[1;33m,\u001b[0m \u001b[0mdevice\u001b[0m\u001b[1;33m)\u001b[0m\u001b[1;33m\u001b[0m\u001b[1;33m\u001b[0m\u001b[0m\n\u001b[0m",
      "\u001b[1;32m~\\AppData\\Local\\Temp/ipykernel_12700/62176534.py\u001b[0m in \u001b[0;36mtrainer\u001b[1;34m(train_loader, valid_loader, model, config, device)\u001b[0m\n\u001b[0;32m     40\u001b[0m             \u001b[0mloss\u001b[0m\u001b[1;33m.\u001b[0m\u001b[0mbackward\u001b[0m\u001b[1;33m(\u001b[0m\u001b[1;33m)\u001b[0m\u001b[1;33m\u001b[0m\u001b[1;33m\u001b[0m\u001b[0m\n\u001b[0;32m     41\u001b[0m \u001b[1;33m\u001b[0m\u001b[0m\n\u001b[1;32m---> 42\u001b[1;33m             \u001b[0moptimizer\u001b[0m\u001b[1;33m.\u001b[0m\u001b[0mstep\u001b[0m\u001b[1;33m(\u001b[0m\u001b[1;33m)\u001b[0m\u001b[1;33m\u001b[0m\u001b[1;33m\u001b[0m\u001b[0m\n\u001b[0m\u001b[0;32m     43\u001b[0m \u001b[1;33m\u001b[0m\u001b[0m\n\u001b[0;32m     44\u001b[0m             \u001b[0mstep\u001b[0m \u001b[1;33m+=\u001b[0m \u001b[1;36m1\u001b[0m\u001b[1;33m\u001b[0m\u001b[1;33m\u001b[0m\u001b[0m\n",
      "\u001b[1;32mD:\\Softwares\\Anaconda3\\envs\\torch\\lib\\site-packages\\torch\\optim\\optimizer.py\u001b[0m in \u001b[0;36mwrapper\u001b[1;34m(*args, **kwargs)\u001b[0m\n\u001b[0;32m     87\u001b[0m                 \u001b[0mprofile_name\u001b[0m \u001b[1;33m=\u001b[0m \u001b[1;34m\"Optimizer.step#{}.step\"\u001b[0m\u001b[1;33m.\u001b[0m\u001b[0mformat\u001b[0m\u001b[1;33m(\u001b[0m\u001b[0mobj\u001b[0m\u001b[1;33m.\u001b[0m\u001b[0m__class__\u001b[0m\u001b[1;33m.\u001b[0m\u001b[0m__name__\u001b[0m\u001b[1;33m)\u001b[0m\u001b[1;33m\u001b[0m\u001b[1;33m\u001b[0m\u001b[0m\n\u001b[0;32m     88\u001b[0m                 \u001b[1;32mwith\u001b[0m \u001b[0mtorch\u001b[0m\u001b[1;33m.\u001b[0m\u001b[0mautograd\u001b[0m\u001b[1;33m.\u001b[0m\u001b[0mprofiler\u001b[0m\u001b[1;33m.\u001b[0m\u001b[0mrecord_function\u001b[0m\u001b[1;33m(\u001b[0m\u001b[0mprofile_name\u001b[0m\u001b[1;33m)\u001b[0m\u001b[1;33m:\u001b[0m\u001b[1;33m\u001b[0m\u001b[1;33m\u001b[0m\u001b[0m\n\u001b[1;32m---> 89\u001b[1;33m                     \u001b[1;32mreturn\u001b[0m \u001b[0mfunc\u001b[0m\u001b[1;33m(\u001b[0m\u001b[1;33m*\u001b[0m\u001b[0margs\u001b[0m\u001b[1;33m,\u001b[0m \u001b[1;33m**\u001b[0m\u001b[0mkwargs\u001b[0m\u001b[1;33m)\u001b[0m\u001b[1;33m\u001b[0m\u001b[1;33m\u001b[0m\u001b[0m\n\u001b[0m\u001b[0;32m     90\u001b[0m             \u001b[1;32mreturn\u001b[0m \u001b[0mwrapper\u001b[0m\u001b[1;33m\u001b[0m\u001b[1;33m\u001b[0m\u001b[0m\n\u001b[0;32m     91\u001b[0m \u001b[1;33m\u001b[0m\u001b[0m\n",
      "\u001b[1;32mD:\\Softwares\\Anaconda3\\envs\\torch\\lib\\site-packages\\torch\\autograd\\grad_mode.py\u001b[0m in \u001b[0;36mdecorate_context\u001b[1;34m(*args, **kwargs)\u001b[0m\n\u001b[0;32m     25\u001b[0m         \u001b[1;32mdef\u001b[0m \u001b[0mdecorate_context\u001b[0m\u001b[1;33m(\u001b[0m\u001b[1;33m*\u001b[0m\u001b[0margs\u001b[0m\u001b[1;33m,\u001b[0m \u001b[1;33m**\u001b[0m\u001b[0mkwargs\u001b[0m\u001b[1;33m)\u001b[0m\u001b[1;33m:\u001b[0m\u001b[1;33m\u001b[0m\u001b[1;33m\u001b[0m\u001b[0m\n\u001b[0;32m     26\u001b[0m             \u001b[1;32mwith\u001b[0m \u001b[0mself\u001b[0m\u001b[1;33m.\u001b[0m\u001b[0m__class__\u001b[0m\u001b[1;33m(\u001b[0m\u001b[1;33m)\u001b[0m\u001b[1;33m:\u001b[0m\u001b[1;33m\u001b[0m\u001b[1;33m\u001b[0m\u001b[0m\n\u001b[1;32m---> 27\u001b[1;33m                 \u001b[1;32mreturn\u001b[0m \u001b[0mfunc\u001b[0m\u001b[1;33m(\u001b[0m\u001b[1;33m*\u001b[0m\u001b[0margs\u001b[0m\u001b[1;33m,\u001b[0m \u001b[1;33m**\u001b[0m\u001b[0mkwargs\u001b[0m\u001b[1;33m)\u001b[0m\u001b[1;33m\u001b[0m\u001b[1;33m\u001b[0m\u001b[0m\n\u001b[0m\u001b[0;32m     28\u001b[0m         \u001b[1;32mreturn\u001b[0m \u001b[0mcast\u001b[0m\u001b[1;33m(\u001b[0m\u001b[0mF\u001b[0m\u001b[1;33m,\u001b[0m \u001b[0mdecorate_context\u001b[0m\u001b[1;33m)\u001b[0m\u001b[1;33m\u001b[0m\u001b[1;33m\u001b[0m\u001b[0m\n\u001b[0;32m     29\u001b[0m \u001b[1;33m\u001b[0m\u001b[0m\n",
      "\u001b[1;32mD:\\Softwares\\Anaconda3\\envs\\torch\\lib\\site-packages\\torch\\optim\\adam.py\u001b[0m in \u001b[0;36mstep\u001b[1;34m(self, closure)\u001b[0m\n\u001b[0;32m    117\u001b[0m                    \u001b[0mgroup\u001b[0m\u001b[1;33m[\u001b[0m\u001b[1;34m'lr'\u001b[0m\u001b[1;33m]\u001b[0m\u001b[1;33m,\u001b[0m\u001b[1;33m\u001b[0m\u001b[1;33m\u001b[0m\u001b[0m\n\u001b[0;32m    118\u001b[0m                    \u001b[0mgroup\u001b[0m\u001b[1;33m[\u001b[0m\u001b[1;34m'weight_decay'\u001b[0m\u001b[1;33m]\u001b[0m\u001b[1;33m,\u001b[0m\u001b[1;33m\u001b[0m\u001b[1;33m\u001b[0m\u001b[0m\n\u001b[1;32m--> 119\u001b[1;33m                    group['eps'])\n\u001b[0m\u001b[0;32m    120\u001b[0m         \u001b[1;32mreturn\u001b[0m \u001b[0mloss\u001b[0m\u001b[1;33m\u001b[0m\u001b[1;33m\u001b[0m\u001b[0m\n",
      "\u001b[1;32mD:\\Softwares\\Anaconda3\\envs\\torch\\lib\\site-packages\\torch\\optim\\_functional.py\u001b[0m in \u001b[0;36madam\u001b[1;34m(params, grads, exp_avgs, exp_avg_sqs, max_exp_avg_sqs, state_steps, amsgrad, beta1, beta2, lr, weight_decay, eps)\u001b[0m\n\u001b[0;32m     79\u001b[0m \u001b[1;33m\u001b[0m\u001b[0m\n\u001b[0;32m     80\u001b[0m         \u001b[1;32mif\u001b[0m \u001b[0mweight_decay\u001b[0m \u001b[1;33m!=\u001b[0m \u001b[1;36m0\u001b[0m\u001b[1;33m:\u001b[0m\u001b[1;33m\u001b[0m\u001b[1;33m\u001b[0m\u001b[0m\n\u001b[1;32m---> 81\u001b[1;33m             \u001b[0mgrad\u001b[0m \u001b[1;33m=\u001b[0m \u001b[0mgrad\u001b[0m\u001b[1;33m.\u001b[0m\u001b[0madd\u001b[0m\u001b[1;33m(\u001b[0m\u001b[0mparam\u001b[0m\u001b[1;33m,\u001b[0m \u001b[0malpha\u001b[0m\u001b[1;33m=\u001b[0m\u001b[0mweight_decay\u001b[0m\u001b[1;33m)\u001b[0m\u001b[1;33m\u001b[0m\u001b[1;33m\u001b[0m\u001b[0m\n\u001b[0m\u001b[0;32m     82\u001b[0m \u001b[1;33m\u001b[0m\u001b[0m\n\u001b[0;32m     83\u001b[0m         \u001b[1;31m# Decay the first and second moment running average coefficient\u001b[0m\u001b[1;33m\u001b[0m\u001b[1;33m\u001b[0m\u001b[1;33m\u001b[0m\u001b[0m\n",
      "\u001b[1;31mKeyboardInterrupt\u001b[0m: "
     ]
    }
   ],
   "source": [
    "model = FK_MLP(target_type=\"end_pos\").cuda()\n",
    "model.load_state_dict(torch.load(\"./checkpoints/model.ckpt\"))\n",
    "trainer(train_loader, valid_loader, model, config, device)\n"
   ]
  },
  {
   "cell_type": "code",
   "execution_count": 105,
   "id": "850f71bd",
   "metadata": {},
   "outputs": [
    {
     "name": "stderr",
     "output_type": "stream",
     "text": [
      "100%|█████████████████████████████████████████████████████████████████████████████| 1875/1875 [00:02<00:00, 893.55it/s]\n",
      "100%|█████████████████████████████████████████████████████████████████████████████| 4375/4375 [00:04<00:00, 901.50it/s]\n"
     ]
    }
   ],
   "source": [
    "def save_pred(preds, labels=None, file=\"./checkpoints/pred.csv\"):\n",
    "    with open(file, 'w') as fp:\n",
    "        writer = csv.writer(fp)\n",
    "        \n",
    "        n = preds.shape[0]\n",
    "        if labels is not None:\n",
    "            for i in range(n):\n",
    "                ls = []\n",
    "                error_x = np.sqrt(np.sum(np.square(labels[i] - preds[i])))\n",
    "                ls.append(error_x)\n",
    "                writer.writerow(np.concatenate((preds[i], labels[i], labels[i] - preds[i], (labels[i] - preds[i]) / labels[i] * 100, ls)))\n",
    "        else :\n",
    "            for i1,p1 in enumerate(preds):\n",
    "                writer.writerow(p2)\n",
    "\n",
    "model.load_state_dict(torch.load(config['save_path']))\n",
    "model.eval()\n",
    "preds = predict(valid_loader, model, device)\n",
    "\n",
    "save_pred(preds, valid_target, './checkpoints/pred.csv')\n",
    "\n",
    "train_pred = predict(train_loader, model, device)\n",
    "\n",
    "save_pred(train_pred, train_target, './checkpoints/train_preds.csv')"
   ]
  },
  {
   "cell_type": "code",
   "execution_count": null,
   "id": "05d0faae",
   "metadata": {},
   "outputs": [],
   "source": [
    "print(type(preds), type(valid_target))\n",
    "print(preds.shape, valid_target.shape)"
   ]
  },
  {
   "cell_type": "code",
   "execution_count": null,
   "id": "242473b5",
   "metadata": {},
   "outputs": [],
   "source": []
  }
 ],
 "metadata": {
  "kernelspec": {
   "display_name": "Python 3 (ipykernel)",
   "language": "python",
   "name": "python3"
  },
  "language_info": {
   "codemirror_mode": {
    "name": "ipython",
    "version": 3
   },
   "file_extension": ".py",
   "mimetype": "text/x-python",
   "name": "python",
   "nbconvert_exporter": "python",
   "pygments_lexer": "ipython3",
   "version": "3.7.10"
  }
 },
 "nbformat": 4,
 "nbformat_minor": 5
}
