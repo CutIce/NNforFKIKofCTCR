{
 "cells": [
  {
   "cell_type": "markdown",
   "id": "4308ca42",
   "metadata": {},
   "source": [
    "### Import Packages"
   ]
  },
  {
   "cell_type": "code",
   "execution_count": 15,
   "id": "ecd790bb",
   "metadata": {},
   "outputs": [
    {
     "name": "stdout",
     "output_type": "stream",
     "text": [
      "1.8.0+cu111\n"
     ]
    }
   ],
   "source": [
    "%matplotlib inline\n",
    "\n",
    "import torch\n",
    "import torch.nn as nn\n",
    "from torch.utils.data import Dataset, DataLoader, random_split\n",
    "from torch.utils.tensorboard import SummaryWriter\n",
    "\n",
    "import math \n",
    "import numpy as np\n",
    "import csv\n",
    "import pandas as pd\n",
    "\n",
    "import sys\n",
    "import os\n",
    "\n",
    "from tqdm import tqdm\n",
    "\n",
    "print(torch.__version__)\n",
    "torch.set_default_tensor_type(torch.FloatTensor)"
   ]
  },
  {
   "cell_type": "markdown",
   "id": "1cf7b5c9",
   "metadata": {},
   "source": [
    "### Define Some utility Functions"
   ]
  },
  {
   "cell_type": "code",
   "execution_count": 34,
   "id": "fda7c8d2",
   "metadata": {},
   "outputs": [],
   "source": [
    "def same_seed(seed):\n",
    "    '''\n",
    "        Fixes random number generator seeds for reproducibility\n",
    "    '''\n",
    "    torch.backends.cudnn.deterministic = True\n",
    "    torch.backends.cudnn.benchmark = False\n",
    "    \n",
    "    np.random.seed(seed)\n",
    "    torch.manual_seed(seed)\n",
    "    if torch.cuda.is_available():\n",
    "        torch.cuda.manual_seed_all(seed)\n",
    "\n",
    "def train_valid_split(dataset, valid_ratio, seed, print_shape=False):\n",
    "    valid_set_size = int(valid_ratio * dataset.shape[0])\n",
    "    train_set_size = dataset.shape[0] - valid_set_size\n",
    "    \n",
    "    train_data, valid_data= random_split(dataset, [train_set_size, valid_set_size], generator=torch.Generator().manual_seed(seed))\n",
    "    \n",
    "    train_data = np.array(train_data)\n",
    "    valid_data = np.array(valid_data)\n",
    "    if print_shape:\n",
    "        print(f\"Origin Train Set size: {train_data.shape}, Origin Valid Set Size: {valid_data.shape}\")\n",
    "    \n",
    "    return train_data, valid_data\n",
    "\n",
    "def predict(valid_loader, model, device):\n",
    "    model.eval()\n",
    "    preds = []\n",
    "    ys = []\n",
    "    for x, y in tqdm(valid_loader):\n",
    "        x = x.to(device)\n",
    "        with torch.no_grad():\n",
    "            pred = model(x)\n",
    "            preds.append(pred.detach().cpu())\n",
    "            ys.append(y.detach().cpu())\n",
    "    preds = torch.cat(preds, dim=0).numpy()\n",
    "    ys    = torch.cat(ys, dim=0).numpy()\n",
    "    return preds, ys\n"
   ]
  },
  {
   "cell_type": "markdown",
   "id": "e1b2d81e",
   "metadata": {},
   "source": [
    "### Dataset"
   ]
  },
  {
   "cell_type": "code",
   "execution_count": 17,
   "id": "885330c1",
   "metadata": {},
   "outputs": [],
   "source": [
    "class CTCRDataset(Dataset):\n",
    "    '''\n",
    "    x: features,\n",
    "    y: Targets, if none, do prediction\n",
    "    '''\n",
    "    \n",
    "    def __init__(self, x, y=None):\n",
    "        if y is None:\n",
    "            self.y = y\n",
    "        else:\n",
    "            self.y = torch.FloatTensor(y)\n",
    "        \n",
    "        self.x = torch.FloatTensor(x)\n",
    "        \n",
    "    def __getitem__(self, idx):\n",
    "        if self.y is None:\n",
    "            return self.x[idx]\n",
    "        else:\n",
    "            return self.x[idx], self.y[idx]\n",
    "        \n",
    "    def __len__(self):\n",
    "        return len(self.x)    \n",
    "        "
   ]
  },
  {
   "cell_type": "markdown",
   "id": "b7d2182c",
   "metadata": {},
   "source": [
    "### Neural Network Model"
   ]
  },
  {
   "cell_type": "code",
   "execution_count": 19,
   "id": "a118b4b3",
   "metadata": {},
   "outputs": [],
   "source": [
    "class FK_MLP(nn.Module):\n",
    "    \n",
    "    def __init__(self, target_type=\"pose\"):\n",
    "        super(FK_MLP, self).__init__()\n",
    "        \n",
    "        self.target_type = target_type\n",
    "        \n",
    "        if target_type == \"3_points_pos\":\n",
    "            self.output_dims = 9\n",
    "        elif target_type == \"end_pos\":\n",
    "            self.output_dims = 3\n",
    "        else:\n",
    "            self.output_dims = 7\n",
    "            \n",
    "        self.layers = nn.Sequential(\n",
    "            nn.Linear(12, 128),\n",
    "            nn.ReLU(),\n",
    "            \n",
    "            nn.Linear(128, 256),\n",
    "            nn.ReLU(),\n",
    "            \n",
    "            nn.Linear(256, 512),\n",
    "            nn.ReLU(),\n",
    "            \n",
    "            nn.Linear(512, 256),\n",
    "            nn.ReLU(),\n",
    "            \n",
    "            nn.Linear(256, 64),\n",
    "            nn.ReLU(),\n",
    "            \n",
    "            nn.Linear(64, self.output_dims)\n",
    "        )\n",
    "        \n",
    "    def forward(self, x):\n",
    "        y = self.layers(x)\n",
    "        return y"
   ]
  },
  {
   "cell_type": "markdown",
   "id": "66cc5f37",
   "metadata": {},
   "source": [
    "### Training Loop"
   ]
  },
  {
   "cell_type": "code",
   "execution_count": 20,
   "id": "c5b1af7b",
   "metadata": {},
   "outputs": [],
   "source": [
    "def loss_pos(preds, labels, reduction=\"mean\"):\n",
    "    if reduction == \"mean\": \n",
    "        loss = torch.mean((preds - labels) ** 2)\n",
    "    else:\n",
    "        loss = torch.sum((preds - labels) ** 2)\n",
    "        \n",
    "    return loss\n",
    "        \n",
    "def loss_orientation(preds, labels):\n",
    "    loss = torch.acos(torch.sum(preds * labels))\n",
    "    return loss\n",
    "    \n",
    "def loss_func(preds, labels):\n",
    "    pass\n",
    "    \n",
    "\n",
    "def trainer(train_loader, valid_loader, model, config, device):\n",
    "    \n",
    "#     criterion = loss_pos()\n",
    "    optimizer = torch.optim.Adam(params=model.parameters(), lr=config['learning_rate'], weight_decay=config['weight_decay'])\n",
    "    writer = SummaryWriter()\n",
    "    \n",
    "    if not os.path.isdir(\"./checkpoints\"):\n",
    "        os.mkdir(\"./checkpoints\")\n",
    "        \n",
    "    n_epochs, best_loss, step, early_stop_count = config['n_epochs'], math.inf, 0, 0\n",
    "    \n",
    "    for epoch in range(n_epochs):\n",
    "        model.train()\n",
    "        loss_record = []\n",
    "        \n",
    "        train_pbar = tqdm(train_loader, position=0, leave=True)\n",
    "        \n",
    "        for x, y in train_pbar:\n",
    "            optimizer.zero_grad()\n",
    "            \n",
    "            x, y = x.to(device), y.to(device)\n",
    "            pred = model(x)\n",
    "            loss = loss_pos(pred, y, reduction=\"sum\")\n",
    "            loss.backward()\n",
    "            \n",
    "            optimizer.step()\n",
    "            \n",
    "            step += 1\n",
    "            loss_record.append(loss.detach().item())\n",
    "            \n",
    "#             train_pbar.set_description(f\"[{epoch+1}/{n_epochs}]\")\n",
    "            train_pbar.set_description(f\"{epoch+1}\")\n",
    "            train_pbar.set_postfix({'loss': loss.detach().item()})\n",
    "        \n",
    "#         print(loss_record)\n",
    "            \n",
    "        mean_train_loss = sum(loss_record) / len(loss_record)\n",
    "        writer.add_scalar('Loss/Train', mean_train_loss, step)\n",
    "        \n",
    "        model.eval()\n",
    "        loss_record = []\n",
    "        \n",
    "        \n",
    "        for x, y in valid_loader:\n",
    "            x, y = x.to(device), y.to(device)\n",
    "            with torch.no_grad():\n",
    "                pred = model(x)\n",
    "                loss = loss_pos(pred, y, reduction=\"sum\")\n",
    "            loss_record.append(loss.item())\n",
    "        \n",
    "        \n",
    "        mean_valid_loss = sum(loss_record) / len(loss_record)\n",
    "        \n",
    "        if mean_valid_loss <= best_loss:\n",
    "            best_loss = mean_valid_loss\n",
    "            torch.save(model.state_dict(), config['save_path'])\n",
    "            print(\"Saving Model with loss {:.3f}...\".format(best_loss))\n",
    "            early_stop_count = 0\n",
    "        else:\n",
    "            early_stop_count += 1\n",
    "        \n",
    "        if early_stop_count >= config['early_stop']:\n",
    "            print(\"\\nModel is not improving, so we halt the training sessions\")\n",
    "            \n",
    "            return \n",
    "        \n",
    "                "
   ]
  },
  {
   "cell_type": "markdown",
   "id": "7181ee57",
   "metadata": {},
   "source": [
    "### Config"
   ]
  },
  {
   "cell_type": "code",
   "execution_count": 29,
   "id": "45699b96",
   "metadata": {},
   "outputs": [],
   "source": [
    "device = \"cuda\" if torch.cuda.is_available() else \"cpu\"\n",
    "\n",
    "config = {\n",
    "    'seed': 10,\n",
    "    'valid_ratio': 0.2,\n",
    "    'n_epochs': 100,\n",
    "    'batch_size': 8,\n",
    "    'learning_rate': 1e-4,\n",
    "    'weight_decay': 1e-5,\n",
    "    'early_stop': 100,\n",
    "    'save_path': \"./checkpoints/model.ckpt\",\n",
    "    \"features_type\": \"all\",\n",
    "    \"target_type\": \"end_pos\",\n",
    "}"
   ]
  },
  {
   "cell_type": "markdown",
   "id": "207708ba",
   "metadata": {},
   "source": [
    "### Data Process And Dataloader"
   ]
  },
  {
   "cell_type": "markdown",
   "id": "061f9ef8",
   "metadata": {},
   "source": [
    "#### Select Features"
   ]
  },
  {
   "cell_type": "code",
   "execution_count": 30,
   "id": "2d7ec642",
   "metadata": {},
   "outputs": [],
   "source": [
    "L1 = 210\n",
    "L2 = 165\n",
    "L3 = 110\n",
    "L = [L1, L2, L3]\n",
    "\n",
    "Mb = np.array([\n",
    "    [-L1, 0,     0], \n",
    "    [-L1, L1-L2, 0],\n",
    "    [-L1, L1-L2, L2-L3]\n",
    "])\n",
    "\n",
    "T = np.zeros((4, 4))\n",
    "T[0:3, 0:3] = 1/2 * Mb\n",
    "T[0:3, 3:]  = 1/2 * np.dot(Mb, np.ones((3, 1)))\n",
    "T[3, 3] = 1\n",
    "\n",
    "\n",
    "invT = np.linalg.inv(T)\n",
    "\n",
    "def normalize_beta(origin_train_data, print_shape=False):\n",
    "    origin_train_beta = origin_train_data[:, [1, 3, 5, 6]]\n",
    "    origin_train_beta[:, 3:] = np.ones((origin_train_beta.shape[0], 1))\n",
    "    norm_beta = np.transpose(np.dot(invT, np.transpose(origin_train_beta)))\n",
    "    \n",
    "    \n",
    "    origin_train_delta_beta = origin_train_data[:, [7, 9, 11, 12]]\n",
    "    origin_train_delta_beta[:, 3:] = np.ones((origin_train_delta_beta.shape[0], 1))\n",
    "    norm_delta_beta = np.transpose(np.dot(invT, np.transpose(origin_train_delta_beta)))\n",
    "    \n",
    "    if print_shape:\n",
    "        print(f\"Normalized beta Shape : {norm_beta.shape}, Normalized delta beta Shape: {norm_delta_beta.shape}\")\n",
    "        \n",
    "    return norm_beta[:, 0:3], norm_delta_beta[:, 0:3]    \n",
    "\n",
    "\n",
    "def select_features_target(origin_train_data, origin_valid_data, test_data=None, features_type=\"all\", target_type=\"pose\", print_shape=False):\n",
    "    train_data = np.zeros((origin_train_data.shape[0], 12))\n",
    "    valid_data = np.zeros((origin_valid_data.shape[0], 12))\n",
    "   \n",
    "    for i in range(0, 6, 2):\n",
    "        train_data[:, 4*(i//2)  ] = np.cos(origin_train_data[:, i])\n",
    "        train_data[:, 4*(i//2)+1] = np.sin(origin_train_data[:, i])\n",
    "        train_data[:, 4*(i//2)+2] = origin_train_data[:, i+1]\n",
    "        train_data[:, 4*(i//2)+3:] = np.ones((origin_train_data.shape[0], 1)) * L[i//2]\n",
    "\n",
    "        valid_data[:, 4*(i//2)  ] = np.cos(origin_valid_data[:, i])\n",
    "        valid_data[:, 4*(i//2)+1] = np.sin(origin_valid_data[:, i])\n",
    "        valid_data[:, 4*(i//2)+2] = origin_valid_data[:, i+1]\n",
    "        valid_data[:, 4*(i//2)+3:] = np.ones((origin_valid_data.shape[0], 1)) * L[i//2]\n",
    "\n",
    "#     train_norm_beta, train_nrom_delta_beta = normalize_beta(origin_train_data, print_shape=True)\n",
    "#     valid_norm_beta, valid_norm_delta_beta = normalize_beta(origin_valid_data, print_shape=True)\n",
    "    \n",
    "#     assert train_data.shape[0] == train_norm_beta.shape[0], \"Shape Error\"\n",
    "#     assert valid_data.shape[0] == valid_norm_beta.shape[0], \"Shape Error\"\n",
    "    \n",
    "#     for i in range(3):\n",
    "#         train_data[:, 3*i+2] = train_norm_beta[:, i]\n",
    "# #         train_data[:, 3*i+11] = train_nrom_delta_beta[:, i]\n",
    "        \n",
    "#         valid_data[:, 3*i+2] = valid_norm_beta[:, i]\n",
    "# #         valid_data[:, 3*i+11] = valid_norm_delta_beta[:, i]\n",
    "\n",
    "    \n",
    "    feature_idx = []\n",
    "    if features_type == \"all\":\n",
    "        feature_idx = list(range(train_data.shape[1]))\n",
    "    else:\n",
    "        pass\n",
    "    \n",
    "    if target_type == \"3_points_pos\":\n",
    "        train_target = np.concatenate((origin_train_data[:, 19:22], origin_train_data[:, 26:29], origin_train_data[:, -7:-4]), axis=1)\n",
    "        train_target = np.concatenate((origin_valid_data[:, 19:22], origin_valid_data[:, 26:29], origin_valid_data[:, -7:-4]), axis=1)\n",
    "    elif target_type == \"end_pos\":\n",
    "        train_target = origin_train_data[:, -7:-4]\n",
    "        valid_target = origin_valid_data[:, -7:-4]\n",
    "    else:\n",
    "        train_target = origin_train_data[:, -7:]\n",
    "        valid_target = origin_valid_data[:, -7:]\n",
    "    \n",
    "    if print_shape:\n",
    "        print(f\"Train data Shape: {train_data.shape}, Valid data shape: {valid_data.shape}\")\n",
    "        print(f\"Target Type = {target_type}, \\nTrain Target Shape: {train_target.shape}, Valid Target Shape: {valid_target.shape}\")\n",
    "    \n",
    "    if test_data == None:\n",
    "        return train_data, train_target, valid_data, valid_target\n",
    "    else:\n",
    "        return train_data, train_target, valid_data, valid_target, test_data"
   ]
  },
  {
   "cell_type": "markdown",
   "id": "6ceec798",
   "metadata": {},
   "source": [
    "#### Dataloader"
   ]
  },
  {
   "cell_type": "code",
   "execution_count": 31,
   "id": "f144f5fc",
   "metadata": {},
   "outputs": [
    {
     "name": "stdout",
     "output_type": "stream",
     "text": [
      "Origin Train Set size: (80000, 40), Origin Valid Set Size: (20000, 40)\n",
      "Train data Shape: (80000, 12), Valid data shape: (20000, 12)\n",
      "Target Type = end_pos, \n",
      "Train Target Shape: (80000, 3), Valid Target Shape: (20000, 3)\n"
     ]
    }
   ],
   "source": [
    "same_seed(config['seed'])\n",
    "path = \"./dataset/CRL-Dataset-CTCR-Pose.csv\"\n",
    "\n",
    "origin_data = pd.read_csv(path, header=None).values\n",
    "origin_train_data, origin_valid_data = train_valid_split(origin_data, valid_ratio=config['valid_ratio'], seed=config['seed'], print_shape=True)\n",
    "\n",
    "train_data, train_target, valid_data, valid_target = select_features_target(origin_train_data, origin_valid_data, test_data=None, features_type=config['features_type'], target_type=config['target_type'], print_shape=True)\n",
    "\n",
    "train_dataset, valid_dataset = CTCRDataset(train_data, train_target), CTCRDataset(valid_data, valid_target)\n",
    "train_loader = DataLoader(train_dataset, batch_size=config['batch_size'], shuffle=True, pin_memory=True)\n",
    "valid_loader = DataLoader(valid_dataset, batch_size=config['batch_size'], shuffle=True, pin_memory=True)\n"
   ]
  },
  {
   "cell_type": "code",
   "execution_count": 32,
   "id": "773c7e3a",
   "metadata": {
    "scrolled": true
   },
   "outputs": [
    {
     "name": "stderr",
     "output_type": "stream",
     "text": [
      "1: 100%|██████████████████████████████████████████████████████████| 10000/10000 [01:04<00:00, 155.42it/s, loss=1.04e+3]\n"
     ]
    },
    {
     "name": "stdout",
     "output_type": "stream",
     "text": [
      "Saving Model with loss 5304.410...\n"
     ]
    },
    {
     "name": "stderr",
     "output_type": "stream",
     "text": [
      "2: 100%|██████████████████████████████████████████████████████████████| 10000/10000 [01:03<00:00, 158.30it/s, loss=134]\n"
     ]
    },
    {
     "name": "stdout",
     "output_type": "stream",
     "text": [
      "Saving Model with loss 242.878...\n"
     ]
    },
    {
     "name": "stderr",
     "output_type": "stream",
     "text": [
      "3: 100%|██████████████████████████████████████████████████████████████| 10000/10000 [01:03<00:00, 157.53it/s, loss=273]\n",
      "4: 100%|██████████████████████████████████████████████████████████████| 10000/10000 [01:04<00:00, 156.16it/s, loss=223]\n"
     ]
    },
    {
     "name": "stdout",
     "output_type": "stream",
     "text": [
      "Saving Model with loss 155.716...\n"
     ]
    },
    {
     "name": "stderr",
     "output_type": "stream",
     "text": [
      "5: 100%|█████████████████████████████████████████████████████████████| 10000/10000 [01:04<00:00, 154.12it/s, loss=85.3]\n"
     ]
    },
    {
     "name": "stdout",
     "output_type": "stream",
     "text": [
      "Saving Model with loss 128.862...\n"
     ]
    },
    {
     "name": "stderr",
     "output_type": "stream",
     "text": [
      "6: 100%|██████████████████████████████████████████████████████████████| 10000/10000 [01:02<00:00, 160.24it/s, loss=111]\n"
     ]
    },
    {
     "name": "stdout",
     "output_type": "stream",
     "text": [
      "Saving Model with loss 107.595...\n"
     ]
    },
    {
     "name": "stderr",
     "output_type": "stream",
     "text": [
      "7: 100%|█████████████████████████████████████████████████████████████| 10000/10000 [01:01<00:00, 161.84it/s, loss=56.8]\n"
     ]
    },
    {
     "name": "stdout",
     "output_type": "stream",
     "text": [
      "Saving Model with loss 73.743...\n"
     ]
    },
    {
     "name": "stderr",
     "output_type": "stream",
     "text": [
      "8: 100%|█████████████████████████████████████████████████████████████| 10000/10000 [01:01<00:00, 161.97it/s, loss=47.2]\n"
     ]
    },
    {
     "name": "stdout",
     "output_type": "stream",
     "text": [
      "Saving Model with loss 52.309...\n"
     ]
    },
    {
     "name": "stderr",
     "output_type": "stream",
     "text": [
      "9: 100%|█████████████████████████████████████████████████████████████| 10000/10000 [01:01<00:00, 162.78it/s, loss=28.5]\n"
     ]
    },
    {
     "name": "stdout",
     "output_type": "stream",
     "text": [
      "Saving Model with loss 41.088...\n"
     ]
    },
    {
     "name": "stderr",
     "output_type": "stream",
     "text": [
      "10: 100%|████████████████████████████████████████████████████████████| 10000/10000 [01:04<00:00, 155.96it/s, loss=37.8]\n",
      "11: 100%|████████████████████████████████████████████████████████████| 10000/10000 [01:02<00:00, 159.69it/s, loss=19.5]\n",
      "12: 100%|████████████████████████████████████████████████████████████| 10000/10000 [01:02<00:00, 161.03it/s, loss=13.7]\n"
     ]
    },
    {
     "name": "stdout",
     "output_type": "stream",
     "text": [
      "Saving Model with loss 41.021...\n"
     ]
    },
    {
     "name": "stderr",
     "output_type": "stream",
     "text": [
      "13: 100%|██████████████████████████████████████████████████████████████| 10000/10000 [01:02<00:00, 160.26it/s, loss=29]\n"
     ]
    },
    {
     "name": "stdout",
     "output_type": "stream",
     "text": [
      "Saving Model with loss 35.794...\n"
     ]
    },
    {
     "name": "stderr",
     "output_type": "stream",
     "text": [
      "14: 100%|████████████████████████████████████████████████████████████| 10000/10000 [01:02<00:00, 160.28it/s, loss=12.3]\n"
     ]
    },
    {
     "name": "stdout",
     "output_type": "stream",
     "text": [
      "Saving Model with loss 32.588...\n"
     ]
    },
    {
     "name": "stderr",
     "output_type": "stream",
     "text": [
      "15: 100%|████████████████████████████████████████████████████████████| 10000/10000 [01:02<00:00, 160.23it/s, loss=8.27]\n"
     ]
    },
    {
     "name": "stdout",
     "output_type": "stream",
     "text": [
      "Saving Model with loss 28.257...\n"
     ]
    },
    {
     "name": "stderr",
     "output_type": "stream",
     "text": [
      "16: 100%|████████████████████████████████████████████████████████████| 10000/10000 [01:02<00:00, 159.42it/s, loss=18.8]\n",
      "17: 100%|████████████████████████████████████████████████████████████| 10000/10000 [01:06<00:00, 149.47it/s, loss=3.37]\n"
     ]
    },
    {
     "name": "stdout",
     "output_type": "stream",
     "text": [
      "Saving Model with loss 27.478...\n"
     ]
    },
    {
     "name": "stderr",
     "output_type": "stream",
     "text": [
      "18: 100%|████████████████████████████████████████████████████████████| 10000/10000 [01:04<00:00, 155.47it/s, loss=11.9]\n",
      "19: 100%|████████████████████████████████████████████████████████████| 10000/10000 [01:09<00:00, 143.93it/s, loss=19.3]\n"
     ]
    },
    {
     "name": "stdout",
     "output_type": "stream",
     "text": [
      "Saving Model with loss 23.171...\n"
     ]
    },
    {
     "name": "stderr",
     "output_type": "stream",
     "text": [
      "20: 100%|████████████████████████████████████████████████████████████| 10000/10000 [01:13<00:00, 135.86it/s, loss=67.4]\n",
      "21: 100%|████████████████████████████████████████████████████████████| 10000/10000 [01:27<00:00, 114.06it/s, loss=5.98]\n",
      "22: 100%|██████████████████████████████████████████████████████████████| 10000/10000 [01:23<00:00, 119.69it/s, loss=49]\n",
      "23: 100%|████████████████████████████████████████████████████████████| 10000/10000 [01:24<00:00, 118.74it/s, loss=5.56]\n",
      "24: 100%|████████████████████████████████████████████████████████████| 10000/10000 [01:23<00:00, 120.07it/s, loss=6.43]\n",
      "25: 100%|████████████████████████████████████████████████████████████| 10000/10000 [01:24<00:00, 118.83it/s, loss=11.1]\n",
      "26: 100%|████████████████████████████████████████████████████████████| 10000/10000 [01:27<00:00, 113.73it/s, loss=4.34]\n",
      "27: 100%|████████████████████████████████████████████████████████████| 10000/10000 [01:28<00:00, 113.20it/s, loss=12.8]\n",
      "28: 100%|████████████████████████████████████████████████████████████| 10000/10000 [01:25<00:00, 116.57it/s, loss=4.64]\n",
      "29: 100%|████████████████████████████████████████████████████████████| 10000/10000 [01:23<00:00, 119.53it/s, loss=11.6]\n",
      "30: 100%|████████████████████████████████████████████████████████████| 10000/10000 [01:26<00:00, 115.73it/s, loss=9.55]\n",
      "31: 100%|████████████████████████████████████████████████████████████| 10000/10000 [01:31<00:00, 109.10it/s, loss=6.68]\n"
     ]
    },
    {
     "name": "stdout",
     "output_type": "stream",
     "text": [
      "Saving Model with loss 21.891...\n"
     ]
    },
    {
     "name": "stderr",
     "output_type": "stream",
     "text": [
      "32: 100%|████████████████████████████████████████████████████████████| 10000/10000 [01:23<00:00, 120.22it/s, loss=7.18]\n",
      "33: 100%|████████████████████████████████████████████████████████████| 10000/10000 [01:25<00:00, 117.07it/s, loss=9.35]\n",
      "34: 100%|████████████████████████████████████████████████████████████| 10000/10000 [01:17<00:00, 129.22it/s, loss=21.2]\n",
      "35: 100%|██████████████████████████████████████████████████████████████| 10000/10000 [01:19<00:00, 125.97it/s, loss=11]\n"
     ]
    },
    {
     "name": "stdout",
     "output_type": "stream",
     "text": [
      "Saving Model with loss 19.876...\n"
     ]
    },
    {
     "name": "stderr",
     "output_type": "stream",
     "text": [
      "36: 100%|████████████████████████████████████████████████████████████| 10000/10000 [01:20<00:00, 123.87it/s, loss=9.13]\n",
      "37: 100%|████████████████████████████████████████████████████████████| 10000/10000 [01:20<00:00, 123.68it/s, loss=27.2]\n",
      "38: 100%|████████████████████████████████████████████████████████████| 10000/10000 [01:18<00:00, 127.97it/s, loss=4.82]\n",
      "39: 100%|████████████████████████████████████████████████████████████| 10000/10000 [01:16<00:00, 130.28it/s, loss=9.13]\n",
      "40: 100%|████████████████████████████████████████████████████████████| 10000/10000 [01:34<00:00, 105.91it/s, loss=34.3]\n",
      "41: 100%|████████████████████████████████████████████████████████████| 10000/10000 [01:34<00:00, 105.76it/s, loss=8.17]\n",
      "42: 100%|█████████████████████████████████████████████████████████████| 10000/10000 [01:40<00:00, 99.83it/s, loss=12.9]\n",
      "43: 100%|████████████████████████████████████████████████████████████| 10000/10000 [01:26<00:00, 115.54it/s, loss=8.18]\n",
      "44: 100%|████████████████████████████████████████████████████████████| 10000/10000 [01:04<00:00, 153.89it/s, loss=4.83]\n",
      "45: 100%|█████████████████████████████████████████████████████████████| 10000/10000 [01:07<00:00, 148.41it/s, loss=9.2]\n",
      "46: 100%|████████████████████████████████████████████████████████████| 10000/10000 [01:03<00:00, 157.72it/s, loss=3.74]\n",
      "47: 100%|████████████████████████████████████████████████████████████| 10000/10000 [01:02<00:00, 160.08it/s, loss=93.9]\n",
      "48: 100%|████████████████████████████████████████████████████████████| 10000/10000 [01:09<00:00, 143.38it/s, loss=7.44]\n",
      "49: 100%|████████████████████████████████████████████████████████████| 10000/10000 [01:22<00:00, 121.67it/s, loss=9.72]\n",
      "50: 100%|████████████████████████████████████████████████████████████| 10000/10000 [01:21<00:00, 123.32it/s, loss=6.86]\n",
      "51: 100%|████████████████████████████████████████████████████████████| 10000/10000 [01:21<00:00, 122.18it/s, loss=5.18]\n",
      "52: 100%|████████████████████████████████████████████████████████████| 10000/10000 [01:20<00:00, 124.39it/s, loss=10.3]\n",
      "53: 100%|████████████████████████████████████████████████████████████| 10000/10000 [01:19<00:00, 126.14it/s, loss=12.7]\n",
      "54: 100%|████████████████████████████████████████████████████████████| 10000/10000 [01:21<00:00, 122.92it/s, loss=11.2]\n",
      "55: 100%|██████████████████████████████████████████████████████████████| 10000/10000 [01:25<00:00, 116.93it/s, loss=15]\n",
      "56: 100%|████████████████████████████████████████████████████████████| 10000/10000 [01:05<00:00, 151.93it/s, loss=5.89]\n",
      "57: 100%|████████████████████████████████████████████████████████████| 10000/10000 [01:00<00:00, 164.41it/s, loss=13.8]\n",
      "58: 100%|████████████████████████████████████████████████████████████| 10000/10000 [01:00<00:00, 165.50it/s, loss=3.35]\n"
     ]
    },
    {
     "name": "stdout",
     "output_type": "stream",
     "text": [
      "Saving Model with loss 19.574...\n"
     ]
    },
    {
     "name": "stderr",
     "output_type": "stream",
     "text": [
      "59: 100%|████████████████████████████████████████████████████████████| 10000/10000 [00:59<00:00, 166.73it/s, loss=13.9]\n",
      "60: 100%|█████████████████████████████████████████████████████████████| 10000/10000 [01:03<00:00, 158.71it/s, loss=2.9]\n",
      "61: 100%|████████████████████████████████████████████████████████████| 10000/10000 [01:07<00:00, 148.51it/s, loss=8.28]\n",
      "62: 100%|████████████████████████████████████████████████████████████| 10000/10000 [01:05<00:00, 153.19it/s, loss=3.96]\n",
      "63: 100%|████████████████████████████████████████████████████████████| 10000/10000 [01:03<00:00, 156.52it/s, loss=6.19]\n",
      "64: 100%|████████████████████████████████████████████████████████████| 10000/10000 [01:07<00:00, 148.40it/s, loss=11.4]\n"
     ]
    },
    {
     "name": "stdout",
     "output_type": "stream",
     "text": [
      "Saving Model with loss 19.431...\n"
     ]
    },
    {
     "name": "stderr",
     "output_type": "stream",
     "text": [
      "65: 100%|████████████████████████████████████████████████████████████| 10000/10000 [01:07<00:00, 147.29it/s, loss=5.57]\n",
      "66: 100%|████████████████████████████████████████████████████████████| 10000/10000 [00:57<00:00, 172.79it/s, loss=9.61]\n",
      "67: 100%|██████████████████████████████████████████████████████████████| 10000/10000 [00:55<00:00, 180.31it/s, loss=55]\n",
      "68: 100%|████████████████████████████████████████████████████████████| 10000/10000 [00:55<00:00, 179.30it/s, loss=7.05]\n",
      "69: 100%|████████████████████████████████████████████████████████████| 10000/10000 [00:53<00:00, 188.05it/s, loss=5.08]\n",
      "70: 100%|████████████████████████████████████████████████████████████| 10000/10000 [00:54<00:00, 184.70it/s, loss=3.57]\n"
     ]
    },
    {
     "name": "stdout",
     "output_type": "stream",
     "text": [
      "Saving Model with loss 18.846...\n"
     ]
    },
    {
     "name": "stderr",
     "output_type": "stream",
     "text": [
      "71: 100%|████████████████████████████████████████████████████████████| 10000/10000 [00:54<00:00, 182.17it/s, loss=9.83]\n",
      "72: 100%|████████████████████████████████████████████████████████████| 10000/10000 [00:54<00:00, 181.97it/s, loss=5.16]\n",
      "73: 100%|████████████████████████████████████████████████████████████| 10000/10000 [00:55<00:00, 179.77it/s, loss=7.66]\n",
      "74: 100%|████████████████████████████████████████████████████████████| 10000/10000 [00:58<00:00, 170.21it/s, loss=11.8]\n",
      "75: 100%|████████████████████████████████████████████████████████████| 10000/10000 [00:57<00:00, 174.32it/s, loss=6.28]\n",
      "76: 100%|████████████████████████████████████████████████████████████| 10000/10000 [00:55<00:00, 178.96it/s, loss=6.81]\n",
      "77: 100%|████████████████████████████████████████████████████████████| 10000/10000 [00:53<00:00, 187.99it/s, loss=4.72]\n",
      "78: 100%|████████████████████████████████████████████████████████████| 10000/10000 [00:54<00:00, 183.35it/s, loss=32.9]\n",
      "79: 100%|████████████████████████████████████████████████████████████| 10000/10000 [00:55<00:00, 180.34it/s, loss=41.2]\n",
      "80: 100%|████████████████████████████████████████████████████████████| 10000/10000 [00:54<00:00, 184.38it/s, loss=31.2]\n",
      "81: 100%|████████████████████████████████████████████████████████████| 10000/10000 [00:53<00:00, 187.34it/s, loss=9.42]\n",
      "82: 100%|████████████████████████████████████████████████████████████| 10000/10000 [00:55<00:00, 181.50it/s, loss=2.96]\n",
      "83: 100%|████████████████████████████████████████████████████████████| 10000/10000 [00:55<00:00, 180.99it/s, loss=5.39]\n",
      "84: 100%|████████████████████████████████████████████████████████████| 10000/10000 [01:03<00:00, 157.63it/s, loss=11.3]\n",
      "85:  78%|███████████████████████████████████████████████▍             | 7785/10000 [00:51<00:14, 151.42it/s, loss=4.52]\n"
     ]
    },
    {
     "ename": "KeyboardInterrupt",
     "evalue": "",
     "output_type": "error",
     "traceback": [
      "\u001b[1;31m---------------------------------------------------------------------------\u001b[0m",
      "\u001b[1;31mKeyboardInterrupt\u001b[0m                         Traceback (most recent call last)",
      "\u001b[1;32m~\\AppData\\Local\\Temp/ipykernel_6872/2327580164.py\u001b[0m in \u001b[0;36m<module>\u001b[1;34m\u001b[0m\n\u001b[0;32m      1\u001b[0m \u001b[0mmodel\u001b[0m \u001b[1;33m=\u001b[0m \u001b[0mFK_MLP\u001b[0m\u001b[1;33m(\u001b[0m\u001b[0mtarget_type\u001b[0m\u001b[1;33m=\u001b[0m\u001b[1;34m\"end_pos\"\u001b[0m\u001b[1;33m)\u001b[0m\u001b[1;33m.\u001b[0m\u001b[0mcuda\u001b[0m\u001b[1;33m(\u001b[0m\u001b[1;33m)\u001b[0m\u001b[1;33m\u001b[0m\u001b[1;33m\u001b[0m\u001b[0m\n\u001b[0;32m      2\u001b[0m \u001b[1;31m# model.load_state_dict(torch.load(\"./checkpoints/model.ckpt\"))\u001b[0m\u001b[1;33m\u001b[0m\u001b[1;33m\u001b[0m\u001b[1;33m\u001b[0m\u001b[0m\n\u001b[1;32m----> 3\u001b[1;33m \u001b[0mtrainer\u001b[0m\u001b[1;33m(\u001b[0m\u001b[0mtrain_loader\u001b[0m\u001b[1;33m,\u001b[0m \u001b[0mvalid_loader\u001b[0m\u001b[1;33m,\u001b[0m \u001b[0mmodel\u001b[0m\u001b[1;33m,\u001b[0m \u001b[0mconfig\u001b[0m\u001b[1;33m,\u001b[0m \u001b[0mdevice\u001b[0m\u001b[1;33m)\u001b[0m\u001b[1;33m\u001b[0m\u001b[1;33m\u001b[0m\u001b[0m\n\u001b[0m",
      "\u001b[1;32m~\\AppData\\Local\\Temp/ipykernel_6872/62176534.py\u001b[0m in \u001b[0;36mtrainer\u001b[1;34m(train_loader, valid_loader, model, config, device)\u001b[0m\n\u001b[0;32m     40\u001b[0m             \u001b[0mloss\u001b[0m\u001b[1;33m.\u001b[0m\u001b[0mbackward\u001b[0m\u001b[1;33m(\u001b[0m\u001b[1;33m)\u001b[0m\u001b[1;33m\u001b[0m\u001b[1;33m\u001b[0m\u001b[0m\n\u001b[0;32m     41\u001b[0m \u001b[1;33m\u001b[0m\u001b[0m\n\u001b[1;32m---> 42\u001b[1;33m             \u001b[0moptimizer\u001b[0m\u001b[1;33m.\u001b[0m\u001b[0mstep\u001b[0m\u001b[1;33m(\u001b[0m\u001b[1;33m)\u001b[0m\u001b[1;33m\u001b[0m\u001b[1;33m\u001b[0m\u001b[0m\n\u001b[0m\u001b[0;32m     43\u001b[0m \u001b[1;33m\u001b[0m\u001b[0m\n\u001b[0;32m     44\u001b[0m             \u001b[0mstep\u001b[0m \u001b[1;33m+=\u001b[0m \u001b[1;36m1\u001b[0m\u001b[1;33m\u001b[0m\u001b[1;33m\u001b[0m\u001b[0m\n",
      "\u001b[1;32mD:\\Softwares\\Anaconda3\\envs\\torch\\lib\\site-packages\\torch\\optim\\optimizer.py\u001b[0m in \u001b[0;36mwrapper\u001b[1;34m(*args, **kwargs)\u001b[0m\n\u001b[0;32m     87\u001b[0m                 \u001b[0mprofile_name\u001b[0m \u001b[1;33m=\u001b[0m \u001b[1;34m\"Optimizer.step#{}.step\"\u001b[0m\u001b[1;33m.\u001b[0m\u001b[0mformat\u001b[0m\u001b[1;33m(\u001b[0m\u001b[0mobj\u001b[0m\u001b[1;33m.\u001b[0m\u001b[0m__class__\u001b[0m\u001b[1;33m.\u001b[0m\u001b[0m__name__\u001b[0m\u001b[1;33m)\u001b[0m\u001b[1;33m\u001b[0m\u001b[1;33m\u001b[0m\u001b[0m\n\u001b[0;32m     88\u001b[0m                 \u001b[1;32mwith\u001b[0m \u001b[0mtorch\u001b[0m\u001b[1;33m.\u001b[0m\u001b[0mautograd\u001b[0m\u001b[1;33m.\u001b[0m\u001b[0mprofiler\u001b[0m\u001b[1;33m.\u001b[0m\u001b[0mrecord_function\u001b[0m\u001b[1;33m(\u001b[0m\u001b[0mprofile_name\u001b[0m\u001b[1;33m)\u001b[0m\u001b[1;33m:\u001b[0m\u001b[1;33m\u001b[0m\u001b[1;33m\u001b[0m\u001b[0m\n\u001b[1;32m---> 89\u001b[1;33m                     \u001b[1;32mreturn\u001b[0m \u001b[0mfunc\u001b[0m\u001b[1;33m(\u001b[0m\u001b[1;33m*\u001b[0m\u001b[0margs\u001b[0m\u001b[1;33m,\u001b[0m \u001b[1;33m**\u001b[0m\u001b[0mkwargs\u001b[0m\u001b[1;33m)\u001b[0m\u001b[1;33m\u001b[0m\u001b[1;33m\u001b[0m\u001b[0m\n\u001b[0m\u001b[0;32m     90\u001b[0m             \u001b[1;32mreturn\u001b[0m \u001b[0mwrapper\u001b[0m\u001b[1;33m\u001b[0m\u001b[1;33m\u001b[0m\u001b[0m\n\u001b[0;32m     91\u001b[0m \u001b[1;33m\u001b[0m\u001b[0m\n",
      "\u001b[1;32mD:\\Softwares\\Anaconda3\\envs\\torch\\lib\\site-packages\\torch\\autograd\\grad_mode.py\u001b[0m in \u001b[0;36mdecorate_context\u001b[1;34m(*args, **kwargs)\u001b[0m\n\u001b[0;32m     25\u001b[0m         \u001b[1;32mdef\u001b[0m \u001b[0mdecorate_context\u001b[0m\u001b[1;33m(\u001b[0m\u001b[1;33m*\u001b[0m\u001b[0margs\u001b[0m\u001b[1;33m,\u001b[0m \u001b[1;33m**\u001b[0m\u001b[0mkwargs\u001b[0m\u001b[1;33m)\u001b[0m\u001b[1;33m:\u001b[0m\u001b[1;33m\u001b[0m\u001b[1;33m\u001b[0m\u001b[0m\n\u001b[0;32m     26\u001b[0m             \u001b[1;32mwith\u001b[0m \u001b[0mself\u001b[0m\u001b[1;33m.\u001b[0m\u001b[0m__class__\u001b[0m\u001b[1;33m(\u001b[0m\u001b[1;33m)\u001b[0m\u001b[1;33m:\u001b[0m\u001b[1;33m\u001b[0m\u001b[1;33m\u001b[0m\u001b[0m\n\u001b[1;32m---> 27\u001b[1;33m                 \u001b[1;32mreturn\u001b[0m \u001b[0mfunc\u001b[0m\u001b[1;33m(\u001b[0m\u001b[1;33m*\u001b[0m\u001b[0margs\u001b[0m\u001b[1;33m,\u001b[0m \u001b[1;33m**\u001b[0m\u001b[0mkwargs\u001b[0m\u001b[1;33m)\u001b[0m\u001b[1;33m\u001b[0m\u001b[1;33m\u001b[0m\u001b[0m\n\u001b[0m\u001b[0;32m     28\u001b[0m         \u001b[1;32mreturn\u001b[0m \u001b[0mcast\u001b[0m\u001b[1;33m(\u001b[0m\u001b[0mF\u001b[0m\u001b[1;33m,\u001b[0m \u001b[0mdecorate_context\u001b[0m\u001b[1;33m)\u001b[0m\u001b[1;33m\u001b[0m\u001b[1;33m\u001b[0m\u001b[0m\n\u001b[0;32m     29\u001b[0m \u001b[1;33m\u001b[0m\u001b[0m\n",
      "\u001b[1;32mD:\\Softwares\\Anaconda3\\envs\\torch\\lib\\site-packages\\torch\\optim\\adam.py\u001b[0m in \u001b[0;36mstep\u001b[1;34m(self, closure)\u001b[0m\n\u001b[0;32m    117\u001b[0m                    \u001b[0mgroup\u001b[0m\u001b[1;33m[\u001b[0m\u001b[1;34m'lr'\u001b[0m\u001b[1;33m]\u001b[0m\u001b[1;33m,\u001b[0m\u001b[1;33m\u001b[0m\u001b[1;33m\u001b[0m\u001b[0m\n\u001b[0;32m    118\u001b[0m                    \u001b[0mgroup\u001b[0m\u001b[1;33m[\u001b[0m\u001b[1;34m'weight_decay'\u001b[0m\u001b[1;33m]\u001b[0m\u001b[1;33m,\u001b[0m\u001b[1;33m\u001b[0m\u001b[1;33m\u001b[0m\u001b[0m\n\u001b[1;32m--> 119\u001b[1;33m                    group['eps'])\n\u001b[0m\u001b[0;32m    120\u001b[0m         \u001b[1;32mreturn\u001b[0m \u001b[0mloss\u001b[0m\u001b[1;33m\u001b[0m\u001b[1;33m\u001b[0m\u001b[0m\n",
      "\u001b[1;32mD:\\Softwares\\Anaconda3\\envs\\torch\\lib\\site-packages\\torch\\optim\\_functional.py\u001b[0m in \u001b[0;36madam\u001b[1;34m(params, grads, exp_avgs, exp_avg_sqs, max_exp_avg_sqs, state_steps, amsgrad, beta1, beta2, lr, weight_decay, eps)\u001b[0m\n\u001b[0;32m     83\u001b[0m         \u001b[1;31m# Decay the first and second moment running average coefficient\u001b[0m\u001b[1;33m\u001b[0m\u001b[1;33m\u001b[0m\u001b[1;33m\u001b[0m\u001b[0m\n\u001b[0;32m     84\u001b[0m         \u001b[0mexp_avg\u001b[0m\u001b[1;33m.\u001b[0m\u001b[0mmul_\u001b[0m\u001b[1;33m(\u001b[0m\u001b[0mbeta1\u001b[0m\u001b[1;33m)\u001b[0m\u001b[1;33m.\u001b[0m\u001b[0madd_\u001b[0m\u001b[1;33m(\u001b[0m\u001b[0mgrad\u001b[0m\u001b[1;33m,\u001b[0m \u001b[0malpha\u001b[0m\u001b[1;33m=\u001b[0m\u001b[1;36m1\u001b[0m \u001b[1;33m-\u001b[0m \u001b[0mbeta1\u001b[0m\u001b[1;33m)\u001b[0m\u001b[1;33m\u001b[0m\u001b[1;33m\u001b[0m\u001b[0m\n\u001b[1;32m---> 85\u001b[1;33m         \u001b[0mexp_avg_sq\u001b[0m\u001b[1;33m.\u001b[0m\u001b[0mmul_\u001b[0m\u001b[1;33m(\u001b[0m\u001b[0mbeta2\u001b[0m\u001b[1;33m)\u001b[0m\u001b[1;33m.\u001b[0m\u001b[0maddcmul_\u001b[0m\u001b[1;33m(\u001b[0m\u001b[0mgrad\u001b[0m\u001b[1;33m,\u001b[0m \u001b[0mgrad\u001b[0m\u001b[1;33m,\u001b[0m \u001b[0mvalue\u001b[0m\u001b[1;33m=\u001b[0m\u001b[1;36m1\u001b[0m \u001b[1;33m-\u001b[0m \u001b[0mbeta2\u001b[0m\u001b[1;33m)\u001b[0m\u001b[1;33m\u001b[0m\u001b[1;33m\u001b[0m\u001b[0m\n\u001b[0m\u001b[0;32m     86\u001b[0m         \u001b[1;32mif\u001b[0m \u001b[0mamsgrad\u001b[0m\u001b[1;33m:\u001b[0m\u001b[1;33m\u001b[0m\u001b[1;33m\u001b[0m\u001b[0m\n\u001b[0;32m     87\u001b[0m             \u001b[1;31m# Maintains the maximum of all 2nd moment running avg. till now\u001b[0m\u001b[1;33m\u001b[0m\u001b[1;33m\u001b[0m\u001b[1;33m\u001b[0m\u001b[0m\n",
      "\u001b[1;31mKeyboardInterrupt\u001b[0m: "
     ]
    }
   ],
   "source": [
    "model = FK_MLP(target_type=\"end_pos\").cuda()\n",
    "# model.load_state_dict(torch.load(\"./checkpoints/model.ckpt\"))\n",
    "trainer(train_loader, valid_loader, model, config, device)\n"
   ]
  },
  {
   "cell_type": "code",
   "execution_count": 35,
   "id": "850f71bd",
   "metadata": {},
   "outputs": [
    {
     "name": "stderr",
     "output_type": "stream",
     "text": [
      "100%|████████████████████████████████████████████████████████████████████████████| 2500/2500 [00:02<00:00, 1065.72it/s]\n",
      "100%|██████████████████████████████████████████████████████████████████████████| 10000/10000 [00:08<00:00, 1129.30it/s]\n"
     ]
    }
   ],
   "source": [
    "def save_pred(preds, labels=None, file=\"./checkpoints/pred.csv\"):\n",
    "    with open(file, 'w') as fp:\n",
    "        writer = csv.writer(fp)\n",
    "        \n",
    "        n = preds.shape[0]\n",
    "        if labels is not None:\n",
    "            for i in range(n):\n",
    "                ls = []\n",
    "                error_x = np.sqrt(np.sum(np.square(labels[i] - preds[i])))\n",
    "                ls.append(error_x)\n",
    "                writer.writerow(np.concatenate((preds[i], labels[i], labels[i] - preds[i], (labels[i] - preds[i]) / labels[i] * 100, ls)))\n",
    "        else :\n",
    "            for i1,p1 in enumerate(preds):\n",
    "                writer.writerow(p2)\n",
    "\n",
    "model.load_state_dict(torch.load(config['save_path']))\n",
    "model.eval()\n",
    "preds, labels = predict(valid_loader, model, device)\n",
    "\n",
    "save_pred(preds, labels, './checkpoints/pred.csv')\n",
    "\n",
    "train_pred, train_labels = predict(train_loader, model, device)\n",
    "\n",
    "save_pred(train_pred, train_labels, './checkpoints/train_preds.csv')"
   ]
  },
  {
   "cell_type": "code",
   "execution_count": null,
   "id": "05d0faae",
   "metadata": {},
   "outputs": [],
   "source": [
    "print(type(preds), type(valid_target))\n",
    "print(preds.shape, valid_target.shape)"
   ]
  },
  {
   "cell_type": "code",
   "execution_count": null,
   "id": "242473b5",
   "metadata": {},
   "outputs": [],
   "source": []
  }
 ],
 "metadata": {
  "kernelspec": {
   "display_name": "Python 3 (ipykernel)",
   "language": "python",
   "name": "python3"
  },
  "language_info": {
   "codemirror_mode": {
    "name": "ipython",
    "version": 3
   },
   "file_extension": ".py",
   "mimetype": "text/x-python",
   "name": "python",
   "nbconvert_exporter": "python",
   "pygments_lexer": "ipython3",
   "version": "3.7.10"
  }
 },
 "nbformat": 4,
 "nbformat_minor": 5
}
